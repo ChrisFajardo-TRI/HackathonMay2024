{
 "cells": [
  {
   "cell_type": "code",
   "execution_count": 121,
   "id": "2e5f9ed1-0c1d-4c8c-8a1c-91fedf209e7c",
   "metadata": {},
   "outputs": [],
   "source": [
    "from geopy import Location, Nominatim\n",
    "from ipyleaflet import AwesomeIcon, Map, Marker, Polyline\n",
    "from routingpy import Valhalla"
   ]
  },
  {
   "cell_type": "markdown",
   "id": "5e45bbe6-d09e-4037-a170-60e6ef4decff",
   "metadata": {},
   "source": [
    "# Search for a start location\n",
    "\n",
    "Uses **geopy** to search **Nominatim**"
   ]
  },
  {
   "cell_type": "code",
   "execution_count": 104,
   "id": "e43ad0b3-2c1b-4057-b931-70fb3dea50df",
   "metadata": {},
   "outputs": [],
   "source": [
    "# Don't abuse\n",
    "\n",
    "# geolocator = Nominatim(user_agent=\"chris_test\")\n",
    "# tri = geolocator.geocode(\"Toyota Research Institute\")"
   ]
  },
  {
   "cell_type": "code",
   "execution_count": 107,
   "id": "9cea1097-b254-47dd-8088-6067f12b0611",
   "metadata": {},
   "outputs": [],
   "source": [
    "# Saved result for TRI HQ\n",
    "tri = Location(\n",
    "    \"Toyota Research Institute, 4440, West El Camino Real, Los Altos, Santa Clara County, California, 94022, United States\", \n",
    "    (37.40253645, -122.1165510679842, 0.0),\n",
    "    {\n",
    "        'place_id': 311529403,\n",
    "         'licence': 'Data © OpenStreetMap contributors, ODbL 1.0. http://osm.org/copyright',\n",
    "         'osm_type': 'way',\n",
    "         'osm_id': 256656808,\n",
    "         'lat': '37.40253645',\n",
    "         'lon': '-122.1165510679842',\n",
    "         'class': 'building',\n",
    "         'type': 'commercial',\n",
    "         'place_rank': 30,\n",
    "         'importance': 9.99999999995449e-06,\n",
    "         'addresstype': 'building',\n",
    "         'name': 'Toyota Research Institute',\n",
    "         'display_name': 'Toyota Research Institute, 4440, West El Camino Real, Los Altos, Santa Clara County, California, 94022, United States',\n",
    "         'boundingbox': ['37.4021493', '37.4029503', '-122.1171370', '-122.1159999']\n",
    "    }\n",
    ")"
   ]
  },
  {
   "cell_type": "markdown",
   "id": "ca830e0b-6dbd-4f62-b88a-0e3e898a8373",
   "metadata": {},
   "source": [
    "# Pick an end location\n",
    "\n",
    "Show start and end marker with **ipyleaflet**.\n",
    "Drag the end marker as desired"
   ]
  },
  {
   "cell_type": "code",
   "execution_count": 123,
   "id": "initial_id",
   "metadata": {
    "ExecuteTime": {
     "end_time": "2024-05-28T21:20:51.132573Z",
     "start_time": "2024-05-28T21:20:51.055624Z"
    }
   },
   "outputs": [
    {
     "data": {
      "application/vnd.jupyter.widget-view+json": {
       "model_id": "45f4566538bb41c4958ffcaa41577c99",
       "version_major": 2,
       "version_minor": 0
      },
      "text/plain": [
       "Map(center=[37.40253645, -122.1165510679842], controls=(ZoomControl(options=['position', 'zoom_in_text', 'zoom…"
      ]
     },
     "metadata": {},
     "output_type": "display_data"
    }
   ],
   "source": [
    "center = (tri.latitude, tri.longitude)\n",
    "tri_map = Map(center=center, zoom=16)\n",
    "\n",
    "startpoint_icon = AwesomeIcon(\n",
    "    name='home',\n",
    "    marker_color='green',\n",
    "    icon_color='black',\n",
    "    spin=False\n",
    ")\n",
    "\n",
    "endpoint_icon = AwesomeIcon(\n",
    "    name='flag-checkered',\n",
    "    marker_color='red',\n",
    "    icon_color='black',\n",
    "    spin=False\n",
    ")\n",
    "\n",
    "\n",
    "startpoint_marker = Marker(location=center, draggable=False, icon=startpoint_icon)\n",
    "tri_map.add_control(startpoint_marker)\n",
    "endpoint_marker = Marker(location=center, draggable=True, icon=endpoint_icon)\n",
    "tri_map.add_control(endpoint_marker)\n",
    "    \n",
    "display(tri_map)"
   ]
  },
  {
   "cell_type": "markdown",
   "id": "703936e8-5fd8-4440-90b5-5fdf10a30d78",
   "metadata": {},
   "source": [
    "# Get Directions\n",
    "\n",
    "Uses **routingpy** againsts a locally running **Valhalla**\n",
    "\n",
    "```bash\n",
    "docker run --rm --name valhalla_gis-ops -p 8002:8002 -v $PWD/custom_files:/custom_files -e tile_urls=https://download.geofabrik.de/north-america/us/california/norcal-latest.osm.pbf ghcr.io/gis-ops/docker-valhalla/valhalla:latest\n",
    "```"
   ]
  },
  {
   "cell_type": "code",
   "execution_count": 136,
   "id": "96c9e400-0e2f-4c24-8549-471b3f425d37",
   "metadata": {},
   "outputs": [
    {
     "name": "stdout",
     "output_type": "stream",
     "text": [
      "Getting directions for (-122.1165510679842, 37.40253645) (-122.11183547973634, 37.40173282937721)\n",
      "Duration (minutes): 8.016666666666667\n"
     ]
    }
   ],
   "source": [
    "start = tri.longitude, tri.latitude\n",
    "end = endpoint_marker.location[1], endpoint_marker.location[0]\n",
    "print(\"Getting directions for\", start, end)\n",
    "\n",
    "MPH_TO_KPH = 1.60934\n",
    "\n",
    "directions = Valhalla('http://localhost:8002').directions(\n",
    "    locations=[start, end], \n",
    "    profile=\"pedestrian\",\n",
    "    units=\"mi\",\n",
    "    options={\n",
    "        \"walking_speed\": 2.5 * MPH_TO_KPH,\n",
    "    }\n",
    ")\n",
    "print(\"Duration (minutes):\", directions.duration / 60)"
   ]
  },
  {
   "cell_type": "code",
   "execution_count": 137,
   "id": "274c5b8d-8bb7-4a18-b8ac-0004dd96f437",
   "metadata": {},
   "outputs": [
    {
     "data": {
      "application/vnd.jupyter.widget-view+json": {
       "model_id": "45f4566538bb41c4958ffcaa41577c99",
       "version_major": 2,
       "version_minor": 0
      },
      "text/plain": [
       "Map(bottom=6506845.0, center=[37.40253645, -122.1165510679842], controls=(ZoomControl(options=['position', 'zo…"
      ]
     },
     "metadata": {},
     "output_type": "display_data"
    }
   ],
   "source": [
    "locations = [(lat, long) for (long, lat) in directions.geometry]\n",
    "line = Polyline(\n",
    "    locations=locations,\n",
    "    color=\"green\" ,\n",
    "    fill=False\n",
    ")\n",
    "\n",
    "tri_map.add(line)\n",
    "display(tri_map)"
   ]
  },
  {
   "cell_type": "code",
   "execution_count": null,
   "id": "3b844258-fd00-400d-be96-ba792303eaa6",
   "metadata": {},
   "outputs": [],
   "source": []
  }
 ],
 "metadata": {
  "kernelspec": {
   "display_name": "Python 3 (ipykernel)",
   "language": "python",
   "name": "python3"
  },
  "language_info": {
   "codemirror_mode": {
    "name": "ipython",
    "version": 3
   },
   "file_extension": ".py",
   "mimetype": "text/x-python",
   "name": "python",
   "nbconvert_exporter": "python",
   "pygments_lexer": "ipython3",
   "version": "3.11.9"
  }
 },
 "nbformat": 4,
 "nbformat_minor": 5
}
