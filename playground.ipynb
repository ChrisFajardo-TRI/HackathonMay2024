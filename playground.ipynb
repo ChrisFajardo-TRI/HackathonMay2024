{
 "cells": [
  {
   "cell_type": "code",
   "execution_count": 15,
   "id": "2e5f9ed1-0c1d-4c8c-8a1c-91fedf209e7c",
   "metadata": {},
   "outputs": [],
   "source": [
    "from geopy import Location, Nominatim\n",
    "from ipyleaflet import AwesomeIcon, Map, Marker, Polygon, Polyline, Popup\n",
    "from ipywidgets import HTML\n",
    "from routingpy import Valhalla\n",
    "from pprint import pprint\n",
    "from random import choice"
   ]
  },
  {
   "cell_type": "markdown",
   "id": "5e45bbe6-d09e-4037-a170-60e6ef4decff",
   "metadata": {},
   "source": [
    "# Search for a start location\n",
    "\n",
    "Uses **geopy** to search **Nominatim**\n",
    "\n",
    "Plot with **ipyleaflet**"
   ]
  },
  {
   "cell_type": "code",
   "execution_count": 2,
   "id": "e43ad0b3-2c1b-4057-b931-70fb3dea50df",
   "metadata": {},
   "outputs": [],
   "source": [
    "# Don't abuse\n",
    "\n",
    "# geolocator = Nominatim(user_agent=\"chris_test\")\n",
    "# start = geolocator.geocode(\"Toyota Research Institute\")"
   ]
  },
  {
   "cell_type": "code",
   "execution_count": 3,
   "id": "9cea1097-b254-47dd-8088-6067f12b0611",
   "metadata": {},
   "outputs": [],
   "source": [
    "# Saved result for TRI HQ\n",
    "start = Location(\n",
    "    \"Toyota Research Institute, 4440, West El Camino Real, Los Altos, Santa Clara County, California, 94022, United States\", \n",
    "    (37.40253645, -122.1165510679842, 0.0),\n",
    "    {\n",
    "        'place_id': 311529403,\n",
    "         'licence': 'Data © OpenStreetMap contributors, ODbL 1.0. http://osm.org/copyright',\n",
    "         'osm_type': 'way',\n",
    "         'osm_id': 256656808,\n",
    "         'lat': '37.40253645',\n",
    "         'lon': '-122.1165510679842',\n",
    "         'class': 'building',\n",
    "         'type': 'commercial',\n",
    "         'place_rank': 30,\n",
    "         'importance': 9.99999999995449e-06,\n",
    "         'addresstype': 'building',\n",
    "         'name': 'Toyota Research Institute',\n",
    "         'display_name': 'Toyota Research Institute, 4440, West El Camino Real, Los Altos, Santa Clara County, California, 94022, United States',\n",
    "         'boundingbox': ['37.4021493', '37.4029503', '-122.1171370', '-122.1159999']\n",
    "    }\n",
    ")"
   ]
  },
  {
   "cell_type": "code",
   "execution_count": 4,
   "id": "c826fb81-687d-4c03-8d50-51ed383415c4",
   "metadata": {},
   "outputs": [],
   "source": [
    "start_lat_long = (start.latitude, start.longitude)\n",
    "start_long_lat = (start.longitude, start.latitude)"
   ]
  },
  {
   "cell_type": "code",
   "execution_count": 5,
   "id": "79bde4c8-5f5b-43b6-8723-5a6728ae37de",
   "metadata": {},
   "outputs": [
    {
     "data": {
      "application/vnd.jupyter.widget-view+json": {
       "model_id": "12494e0d18ec4876b983e891f6bf808f",
       "version_major": 2,
       "version_minor": 0
      },
      "text/plain": [
       "Map(center=[37.40253645, -122.1165510679842], controls=(ZoomControl(options=['position', 'zoom_in_text', 'zoom…"
      ]
     },
     "execution_count": 5,
     "metadata": {},
     "output_type": "execute_result"
    }
   ],
   "source": [
    "startpoint_icon = AwesomeIcon(\n",
    "    name='home',\n",
    "    marker_color='green',\n",
    "    icon_color='black',\n",
    "    spin=False\n",
    ")\n",
    "\n",
    "center_map = Map(center=start_lat_long, zoom=15)\n",
    "\n",
    "startpoint_marker = Marker(location=start_lat_long, draggable=False, icon=startpoint_icon)\n",
    "center_map.add_control(startpoint_marker)\n",
    "center_map"
   ]
  },
  {
   "cell_type": "markdown",
   "id": "7175ebcc-ed2b-4d1a-acc7-cc2860910ee0",
   "metadata": {},
   "source": [
    "# Get Isochrones for Time or Distance\n",
    "\n",
    "Uses **routingpy** against a locally running **Valhalla**\n",
    "\n",
    "```bash\n",
    "docker run --rm --name valhalla_gis-ops -p 8002:8002 -v $PWD/custom_files:/custom_files -e tile_urls=https://download.geofabrik.de/north-america/us/california/norcal-latest.osm.pbf ghcr.io/gis-ops/docker-valhalla/valhalla:latest\n",
    "```"
   ]
  },
  {
   "cell_type": "code",
   "execution_count": 6,
   "id": "be9c721b-58e3-4cc4-9d4c-a1f4a066ea4d",
   "metadata": {},
   "outputs": [],
   "source": [
    "MPH_TO_KPH = 1.60934\n",
    "METERS_PER_MILE = 1609.34\n",
    "SEC_PER_MIN = 60"
   ]
  },
  {
   "cell_type": "code",
   "execution_count": 7,
   "id": "e351e373-309d-471d-a875-39a85b219bfa",
   "metadata": {},
   "outputs": [],
   "source": [
    "desired_round_trip_time_min = 25\n",
    "desired_round_trip_distance_miles = 1\n",
    "desired_speed = 2 * MPH_TO_KPH"
   ]
  },
  {
   "cell_type": "code",
   "execution_count": 8,
   "id": "be4f9292-5137-4405-a43a-87c838a5a949",
   "metadata": {},
   "outputs": [
    {
     "data": {
      "application/vnd.jupyter.widget-view+json": {
       "model_id": "82c77cbad3844b7183a6b1ed7e2d68be",
       "version_major": 2,
       "version_minor": 0
      },
      "text/plain": [
       "Map(center=[37.40253645, -122.1165510679842], controls=(ZoomControl(options=['position', 'zoom_in_text', 'zoom…"
      ]
     },
     "execution_count": 8,
     "metadata": {},
     "output_type": "execute_result"
    }
   ],
   "source": [
    "isochrone_half = desired_round_trip_time_min * SEC_PER_MIN / 2\n",
    "equidistant_half = desired_round_trip_distance_miles * METERS_PER_MILE / 2\n",
    "\n",
    "halfway_isochrones = Valhalla('http://localhost:8002').isochrones(\n",
    "    locations=start_long_lat, \n",
    "    profile=\"pedestrian\",\n",
    "    units=\"mi\",\n",
    "    options={\n",
    "        \"walking_speed\": desired_speed,\n",
    "    },\n",
    "    intervals=[isochrone_half],\n",
    "    # intervals=[equidistant_half],\n",
    "    interval_type=\"time\"\n",
    ")\n",
    "\n",
    "\n",
    "halfway_points = [(lat, long) for (long, lat) in halfway_isochrones[0].geometry]\n",
    "halfway_area = Polygon(\n",
    "    locations=halfway_points,\n",
    "    color=\"blue\",\n",
    "    fill_color=\"blue\"\n",
    ")\n",
    "\n",
    "halfway_map = Map(center=start_lat_long, zoom=15)\n",
    "halfway_map.add(halfway_area);\n",
    "halfway_map.add(startpoint_marker)\n",
    "halfway_map"
   ]
  },
  {
   "cell_type": "markdown",
   "id": "b611ecde-e13f-40f9-907d-99ddf9ac1894",
   "metadata": {},
   "source": [
    "# Pick a waypoint"
   ]
  },
  {
   "cell_type": "code",
   "execution_count": 19,
   "id": "4ce1ad65-5f59-4ed9-b14c-898c0fb3ce91",
   "metadata": {},
   "outputs": [
    {
     "data": {
      "application/vnd.jupyter.widget-view+json": {
       "model_id": "67d362281f3542a893a60a962bde3d3d",
       "version_major": 2,
       "version_minor": 0
      },
      "text/plain": [
       "Map(center=[37.40253645, -122.1165510679842], controls=(ZoomControl(options=['position', 'zoom_in_text', 'zoom…"
      ]
     },
     "metadata": {},
     "output_type": "display_data"
    }
   ],
   "source": [
    "waypoint_icon = AwesomeIcon(\n",
    "    name='flag',\n",
    "    marker_color='red',\n",
    "    icon_color='black',\n",
    "    spin=False\n",
    ")\n",
    "waypoint_marker = Marker(location=start_lat_long, draggable=True, icon=waypoint_icon)\n",
    "routing_map = Map(center=start_lat_long, zoom=15)\n",
    "routing_map.add_control(startpoint_marker)\n",
    "routing_map.add_control(waypoint_marker)\n",
    "display(routing_map)\n",
    "\n",
    "all_instructions = []\n",
    "total_distance = 0 \n",
    "total_duration = 0\n",
    "all_geometry = []\n",
    "line = None\n",
    "popup = None"
   ]
  },
  {
   "cell_type": "markdown",
   "id": "ca830e0b-6dbd-4f62-b88a-0e3e898a8373",
   "metadata": {},
   "source": [
    "# Get a Route"
   ]
  },
  {
   "cell_type": "code",
   "execution_count": 60,
   "id": "initial_id",
   "metadata": {
    "ExecuteTime": {
     "end_time": "2024-05-28T21:20:51.132573Z",
     "start_time": "2024-05-28T21:20:51.055624Z"
    }
   },
   "outputs": [
    {
     "name": "stdout",
     "output_type": "stream",
     "text": [
      "Duration (minutes): 27.065733333333334\n",
      "Distance (miles): 0.896\n",
      "['Walk southeast. Continue for 174 feet',\n",
      " 'Make a sharp left. Continue for 42 feet',\n",
      " 'Turn right onto the walkway. Continue for 1256 feet',\n",
      " 'Turn left. Continue for 26 feet',\n",
      " 'Turn right onto Loucks Avenue. Continue for 702 feet',\n",
      " 'Turn right onto Ray Avenue. Continue for 147 feet',\n",
      " 'Your destination is on the left. Continue for 0 feet',\n",
      " 'Walk south on Ray Avenue. Continue for 147 feet',\n",
      " 'Turn left onto Loucks Avenue. Continue for 702 feet',\n",
      " 'Turn left. Continue for 26 feet',\n",
      " 'Turn right onto the walkway. Continue for 142 feet',\n",
      " 'Keep left to take the walkway. Continue for 380 feet',\n",
      " 'Keep left to take the walkway. Continue for 733 feet',\n",
      " 'Turn left. Continue for 42 feet',\n",
      " 'Make a sharp right. Continue for 174 feet',\n",
      " 'Your destination is on the left. Continue for 0 feet']\n"
     ]
    },
    {
     "data": {
      "application/vnd.jupyter.widget-view+json": {
       "model_id": "67d362281f3542a893a60a962bde3d3d",
       "version_major": 2,
       "version_minor": 0
      },
      "text/plain": [
       "Map(bottom=3253511.0, center=[37.40292603247723, -122.11655616760255], controls=(ZoomControl(options=['positio…"
      ]
     },
     "execution_count": 60,
     "metadata": {},
     "output_type": "execute_result"
    }
   ],
   "source": [
    "# random\n",
    "routing_map.remove(waypoint_marker)\n",
    "waypoint_lat_long = choice(halfway_points)\n",
    "waypoint_marker = Marker(location=waypoint_lat_long, draggable=True, icon=waypoint_icon)\n",
    "routing_map.add(waypoint_marker)\n",
    "\n",
    "# # from choice\n",
    "# waypoint_lat_long = waypoint_marker.location\n",
    "\n",
    "if line:\n",
    "    routing_map.remove(line)\n",
    "if popup:\n",
    "    routing_map.remove(popup)\n",
    "\n",
    "waypoint_long_lat = waypoint_lat_long[1], waypoint_lat_long[0]\n",
    "\n",
    "#six degrees of precision in valhalla\n",
    "inv = 1.0 / 1e6;\n",
    "\n",
    "#decode an encoded string\n",
    "def decode_shape(encoded):\n",
    "  decoded = []\n",
    "  previous = [0,0]\n",
    "  i = 0\n",
    "  #for each byte\n",
    "  while i < len(encoded):\n",
    "    #for each coord (lat, lon)\n",
    "    ll = [0,0]\n",
    "    for j in [0, 1]:\n",
    "      shift = 0\n",
    "      byte = 0x20\n",
    "      #keep decoding bytes until you have this coord\n",
    "      while byte >= 0x20:\n",
    "        byte = ord(encoded[i]) - 63\n",
    "        i += 1\n",
    "        ll[j] |= (byte & 0x1f) << shift\n",
    "        shift += 5\n",
    "      #get the final value adding the previous offset and remember it for the next\n",
    "      ll[j] = previous[j] + (~(ll[j] >> 1) if ll[j] & 1 else (ll[j] >> 1))\n",
    "      previous[j] = ll[j]\n",
    "    #scale by the precision and chop off long coords also flip the positions so\n",
    "    #its the far more standard lon,lat instead of lat,lon\n",
    "    decoded.append([float('%.6f' % (ll[1] * inv)), float('%.6f' % (ll[0] * inv))])\n",
    "  #hand back the list of coordinates\n",
    "  return decoded\n",
    "\n",
    "def get_directions(long_lat_1, long_lat_2):\n",
    "    directions = Valhalla('http://localhost:8002').directions(\n",
    "        locations=[long_lat_1, long_lat_2], \n",
    "        profile=\"pedestrian\",\n",
    "        units=\"mi\",\n",
    "        options={\n",
    "            \"walking_speed\": desired_speed,\n",
    "        },\n",
    "        instructions=True,\n",
    "        alternates=2,\n",
    "    )\n",
    "    if \"alternates\" in directions.raw:\n",
    "        raw_trip = directions.raw[\"alternates\"][0][\"trip\"]\n",
    "    else:\n",
    "        raw_trip = directions.raw[\"trip\"]\n",
    "        \n",
    "    instructions = [f\"{m['instruction']} Continue for {int(m['length'] * 5280)} feet\" for m in raw_trip[\"legs\"][0][\"maneuvers\"]]\n",
    "    distance = raw_trip[\"summary\"][\"length\"]\n",
    "    duration = raw_trip[\"summary\"][\"time\"] / 60\n",
    "    geometry = decode_shape(raw_trip[\"legs\"][0][\"shape\"])\n",
    "    return instructions, distance, duration, geometry\n",
    "\n",
    "all_instructions = []\n",
    "total_distance = 0 \n",
    "total_duration = 0\n",
    "all_geometry = []\n",
    "instructions, distance, duration, geometry = get_directions(start_long_lat, waypoint_long_lat)\n",
    "all_instructions.extend(instructions)\n",
    "total_distance += distance\n",
    "total_duration += duration\n",
    "all_geometry.extend(geometry)\n",
    "instructions, distance, duration, geometry = get_directions(waypoint_long_lat, start_long_lat)\n",
    "all_instructions.extend(instructions)\n",
    "total_distance += distance\n",
    "total_duration += duration\n",
    "all_geometry.extend(geometry)\n",
    "\n",
    "locations = [(lat, long) for (long, lat) in all_geometry]\n",
    "line = Polyline(\n",
    "    locations=locations,\n",
    "    color=\"green\" ,\n",
    "    fill=False\n",
    ")\n",
    "\n",
    "routing_map.add(line)\n",
    "\n",
    "print(\"Duration (minutes):\", total_duration)\n",
    "print(\"Distance (miles):\", total_distance)\n",
    "pprint(all_instructions)\n",
    "\n",
    "message = HTML()\n",
    "message.value = f\"Duration (minutes): {int(total_duration)}\\nDistance (miles): {total_distance}\\n\"\n",
    "\n",
    "# Popup with a given location on the map:\n",
    "popup = Popup(\n",
    "    location=waypoint_lat_long,\n",
    "    child=message,\n",
    "    close_button=True,\n",
    "    auto_close=False,\n",
    "    close_on_escape_key=True\n",
    ")\n",
    "routing_map.add(popup)\n"
   ]
  },
  {
   "cell_type": "code",
   "execution_count": null,
   "id": "32b068ec-f682-4f15-9e3e-9c1a94b62e7f",
   "metadata": {},
   "outputs": [],
   "source": []
  }
 ],
 "metadata": {
  "kernelspec": {
   "display_name": "Python 3 (ipykernel)",
   "language": "python",
   "name": "python3"
  },
  "language_info": {
   "codemirror_mode": {
    "name": "ipython",
    "version": 3
   },
   "file_extension": ".py",
   "mimetype": "text/x-python",
   "name": "python",
   "nbconvert_exporter": "python",
   "pygments_lexer": "ipython3",
   "version": "3.11.9"
  }
 },
 "nbformat": 4,
 "nbformat_minor": 5
}
