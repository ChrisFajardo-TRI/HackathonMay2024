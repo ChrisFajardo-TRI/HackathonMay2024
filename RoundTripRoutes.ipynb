{
 "cells": [
  {
   "cell_type": "markdown",
   "id": "f40af95f-331b-4600-9c11-bf9cf4d35be0",
   "metadata": {},
   "source": [
    "# Round Trip Routes\n",
    "\n",
    "## Goals\n",
    "* To get a suggested round trip route for a certain distance or duration. Useful to plan for exercise, such as taking a 30min walk around the office.\n",
    "* To learn about OpenStreetMap and related libraries for routing.\n",
    "\n",
    "## Current Algorithm\n",
    "* Search for an isochrone for half the desired distance or duration.\n",
    "* Pick a random one and navigate there and back. Use alternate routes (only when available) to avoid retracing your steps.\n",
    "* Route factor in walking speed and other parameters that already exist in Valhalla API.\n",
    "\n",
    "## Future considerations\n",
    "* Avoid traffic lights (need to query OpenStreetMap for traffic lights in the area then add them to \"avoid_locations\" parameter)\n",
    "* Favor shaded area"
   ]
  },
  {
   "cell_type": "markdown",
   "id": "e325c356-ee5c-48a9-b21f-f770f7e565b4",
   "metadata": {},
   "source": [
    "# Dependencies\n",
    "\n",
    "* Uses **[geopy](https://geopy.readthedocs.io/en/stable/)** to search **[Nominatim](https://nominatim.openstreetmap.org/ui/search.html)**\n",
    "  * Nominatim is a search engine for OpenStreetMap data.\n",
    "* Plot with **[ipyleaflet](https://ipyleaflet.readthedocs.io/en/latest/)**\n",
    "  * Ipyleaflet is a Jupyter widget for Leaflet.js\n",
    "* Uses **[routingpy](https://routingpy.readthedocs.io/en/latest/#)** against a locally running **[Valhalla](https://valhalla.github.io/valhalla/)**\n",
    "  * Valhalla is an open source routing engine and accompanying libraries for use with OpenStreetMap data\n",
    "  * Run a server with a norcal dataset for OpenStreetMap\n",
    "    ```bash\n",
    "    docker run --rm --name valhalla_gis-ops -p 8002:8002 -v $PWD/custom_files:/custom_files -e tile_urls=https://download.geofabrik.de/north-america/us/california/norcal-latest.osm.pbf ghcr.io/gis-ops/docker-valhalla/valhalla:latest\n",
    "    ```"
   ]
  },
  {
   "cell_type": "code",
   "execution_count": 48,
   "id": "f9b46595-12d6-4870-9f0a-69fc856cbadf",
   "metadata": {},
   "outputs": [],
   "source": [
    "#!pip install -r requirements.txt"
   ]
  },
  {
   "cell_type": "code",
   "execution_count": 49,
   "id": "2e5f9ed1-0c1d-4c8c-8a1c-91fedf209e7c",
   "metadata": {},
   "outputs": [],
   "source": [
    "from geopy import Location, Nominatim\n",
    "from ipyleaflet import AwesomeIcon, Map, Marker, Polygon, Polyline, Popup\n",
    "from ipywidgets import HTML\n",
    "from routingpy import Valhalla\n",
    "from pprint import pprint\n",
    "from random import choice"
   ]
  },
  {
   "cell_type": "markdown",
   "id": "5e45bbe6-d09e-4037-a170-60e6ef4decff",
   "metadata": {},
   "source": [
    "# Search for a start location"
   ]
  },
  {
   "cell_type": "code",
   "execution_count": 50,
   "id": "e43ad0b3-2c1b-4057-b931-70fb3dea50df",
   "metadata": {},
   "outputs": [],
   "source": [
    "# Don't abuse\n",
    "\n",
    "# geolocator = Nominatim(user_agent=\"chris_test\")\n",
    "# start = geolocator.geocode(\"Toyota Research Institute\")"
   ]
  },
  {
   "cell_type": "code",
   "execution_count": 51,
   "id": "9cea1097-b254-47dd-8088-6067f12b0611",
   "metadata": {},
   "outputs": [],
   "source": [
    "# Saved result for TRI HQ\n",
    "start = Location(\n",
    "    \"Toyota Research Institute, 4440, West El Camino Real, Los Altos, Santa Clara County, California, 94022, United States\", \n",
    "    (37.40253645, -122.1165510679842, 0.0),\n",
    "    {\n",
    "        'place_id': 311529403,\n",
    "         'licence': 'Data © OpenStreetMap contributors, ODbL 1.0. http://osm.org/copyright',\n",
    "         'osm_type': 'way',\n",
    "         'osm_id': 256656808,\n",
    "         'lat': '37.40253645',\n",
    "         'lon': '-122.1165510679842',\n",
    "         'class': 'building',\n",
    "         'type': 'commercial',\n",
    "         'place_rank': 30,\n",
    "         'importance': 9.99999999995449e-06,\n",
    "         'addresstype': 'building',\n",
    "         'name': 'Toyota Research Institute',\n",
    "         'display_name': 'Toyota Research Institute, 4440, West El Camino Real, Los Altos, Santa Clara County, California, 94022, United States',\n",
    "         'boundingbox': ['37.4021493', '37.4029503', '-122.1171370', '-122.1159999']\n",
    "    }\n",
    ")"
   ]
  },
  {
   "cell_type": "code",
   "execution_count": 52,
   "id": "c826fb81-687d-4c03-8d50-51ed383415c4",
   "metadata": {},
   "outputs": [],
   "source": [
    "start_lat_long = (start.latitude, start.longitude)\n",
    "start_long_lat = (start.longitude, start.latitude)"
   ]
  },
  {
   "cell_type": "code",
   "execution_count": 53,
   "id": "79bde4c8-5f5b-43b6-8723-5a6728ae37de",
   "metadata": {},
   "outputs": [
    {
     "data": {
      "application/vnd.jupyter.widget-view+json": {
       "model_id": "7057f36aa396489398fd8af7f25e2212",
       "version_major": 2,
       "version_minor": 0
      },
      "text/plain": [
       "Map(center=[37.40253645, -122.1165510679842], controls=(ZoomControl(options=['position', 'zoom_in_text', 'zoom…"
      ]
     },
     "execution_count": 53,
     "metadata": {},
     "output_type": "execute_result"
    }
   ],
   "source": [
    "startpoint_icon = AwesomeIcon(\n",
    "    name='home',\n",
    "    marker_color='green',\n",
    "    icon_color='black',\n",
    "    spin=False\n",
    ")\n",
    "\n",
    "center_map = Map(center=start_lat_long, zoom=15)\n",
    "\n",
    "startpoint_marker = Marker(location=start_lat_long, draggable=False, icon=startpoint_icon)\n",
    "center_map.add_control(startpoint_marker)\n",
    "center_map"
   ]
  },
  {
   "cell_type": "markdown",
   "id": "7175ebcc-ed2b-4d1a-acc7-cc2860910ee0",
   "metadata": {},
   "source": [
    "# Get Isochrones for Time or Distance"
   ]
  },
  {
   "cell_type": "code",
   "execution_count": 54,
   "id": "be9c721b-58e3-4cc4-9d4c-a1f4a066ea4d",
   "metadata": {},
   "outputs": [],
   "source": [
    "MPH_TO_KPH = 1.60934\n",
    "METERS_PER_MILE = 1609.34\n",
    "SEC_PER_MIN = 60"
   ]
  },
  {
   "cell_type": "code",
   "execution_count": 55,
   "id": "e351e373-309d-471d-a875-39a85b219bfa",
   "metadata": {},
   "outputs": [],
   "source": [
    "desired_round_trip_time_min = 25\n",
    "desired_round_trip_distance_miles = 1\n",
    "desired_speed = 2.5 * MPH_TO_KPH\n",
    "\n",
    "# https://valhalla.github.io/valhalla/api/turn-by-turn/api-reference/#pedestrian-costing-options\n",
    "walking_options = {\n",
    "    \"walking_speed\": desired_speed,\n",
    "\n",
    "    # higher value is higher cost (less favored)\n",
    "    \"walkway_factor\": 1,\n",
    "    \"sidewalk_factor\": 1,\n",
    "    \"alley_factor\": 2,\n",
    "    \"driveway_factor\": 5,\n",
    "    \"step_penalty\": 1,\n",
    "\n",
    "    # 0 to 1, where 1 is more favored\n",
    "    \"use_living_streets\": 0.6,\n",
    "    \"use_tracks\": 0.5,\n",
    "    \"use_hills\": 0.5,\n",
    "    \"use_lit\": 0\n",
    "}"
   ]
  },
  {
   "cell_type": "code",
   "execution_count": 56,
   "id": "be4f9292-5137-4405-a43a-87c838a5a949",
   "metadata": {},
   "outputs": [
    {
     "data": {
      "application/vnd.jupyter.widget-view+json": {
       "model_id": "60cbe0fddc1443709cdcd28f7d015e5b",
       "version_major": 2,
       "version_minor": 0
      },
      "text/plain": [
       "Map(center=[37.40253645, -122.1165510679842], controls=(ZoomControl(options=['position', 'zoom_in_text', 'zoom…"
      ]
     },
     "execution_count": 56,
     "metadata": {},
     "output_type": "execute_result"
    }
   ],
   "source": [
    "isochrone_half = desired_round_trip_time_min * SEC_PER_MIN / 2\n",
    "equidistant_half = desired_round_trip_distance_miles * METERS_PER_MILE / 2\n",
    "\n",
    "halfway_isochrones = Valhalla('http://localhost:8002').isochrones(\n",
    "    locations=start_long_lat, \n",
    "    profile=\"pedestrian\",\n",
    "    units=\"mi\",\n",
    "    options=walking_options,\n",
    "    intervals=[isochrone_half],\n",
    "    # intervals=[equidistant_half],\n",
    "    interval_type=\"time\"\n",
    ")\n",
    "\n",
    "\n",
    "halfway_points = [(lat, long) for (long, lat) in halfway_isochrones[0].geometry]\n",
    "halfway_area = Polygon(\n",
    "    locations=halfway_points,\n",
    "    color=\"blue\",\n",
    "    fill_color=\"blue\"\n",
    ")\n",
    "\n",
    "halfway_map = Map(center=start_lat_long, zoom=15)\n",
    "halfway_map.add(halfway_area);\n",
    "halfway_map.add(startpoint_marker)\n",
    "halfway_map"
   ]
  },
  {
   "cell_type": "markdown",
   "id": "b611ecde-e13f-40f9-907d-99ddf9ac1894",
   "metadata": {},
   "source": [
    "# Pick a waypoint"
   ]
  },
  {
   "cell_type": "code",
   "execution_count": 57,
   "id": "4ce1ad65-5f59-4ed9-b14c-898c0fb3ce91",
   "metadata": {},
   "outputs": [
    {
     "data": {
      "application/vnd.jupyter.widget-view+json": {
       "model_id": "8f2aa9c98c674cbbba2f7d8cb8e714cd",
       "version_major": 2,
       "version_minor": 0
      },
      "text/plain": [
       "Map(center=[37.40253645, -122.1165510679842], controls=(ZoomControl(options=['position', 'zoom_in_text', 'zoom…"
      ]
     },
     "metadata": {},
     "output_type": "display_data"
    }
   ],
   "source": [
    "waypoint_icon = AwesomeIcon(\n",
    "    name='flag',\n",
    "    marker_color='red',\n",
    "    icon_color='black',\n",
    "    spin=False\n",
    ")\n",
    "waypoint_marker = Marker(location=start_lat_long, draggable=True, icon=waypoint_icon)\n",
    "routing_map = Map(center=start_lat_long, zoom=15)\n",
    "routing_map.add_control(startpoint_marker)\n",
    "routing_map.add_control(waypoint_marker)\n",
    "display(routing_map)\n",
    "\n",
    "all_instructions = []\n",
    "total_distance = 0 \n",
    "total_duration = 0\n",
    "all_geometry = []\n",
    "line = None\n",
    "popup = None"
   ]
  },
  {
   "cell_type": "markdown",
   "id": "ca830e0b-6dbd-4f62-b88a-0e3e898a8373",
   "metadata": {},
   "source": [
    "# Get a Route"
   ]
  },
  {
   "cell_type": "code",
   "execution_count": 58,
   "id": "initial_id",
   "metadata": {
    "ExecuteTime": {
     "end_time": "2024-05-28T21:20:51.132573Z",
     "start_time": "2024-05-28T21:20:51.055624Z"
    }
   },
   "outputs": [
    {
     "name": "stdout",
     "output_type": "stream",
     "text": [
      "Duration (minutes): 30.1965\n",
      "Distance (miles): 1.248\n",
      "['Walk southeast. Continue for 174 feet',\n",
      " 'Make a sharp left. Continue for 42 feet',\n",
      " 'Turn right onto the walkway. Continue for 749 feet',\n",
      " 'Turn left onto the crosswalk. Continue for 84 feet',\n",
      " 'Turn right onto North San Antonio Road. Continue for 1642 feet',\n",
      " 'Turn right onto West Portola Avenue. Continue for 205 feet',\n",
      " 'Turn left. Continue for 15 feet',\n",
      " 'Turn left onto the walkway. Continue for 401 feet',\n",
      " 'Your destination is on the right. Continue for 0 feet',\n",
      " 'Walk north on the walkway. Continue for 401 feet',\n",
      " 'Turn right. Continue for 15 feet',\n",
      " 'Turn right onto West Portola Avenue. Continue for 205 feet',\n",
      " 'Turn left onto North San Antonio Road. Continue for 1404 feet',\n",
      " 'Turn left. Continue for 21 feet',\n",
      " 'Turn right onto the walkway. Continue for 227 feet',\n",
      " 'Keep left to take the walkway. Continue for 733 feet',\n",
      " 'Turn left. Continue for 42 feet',\n",
      " 'Make a sharp right. Continue for 174 feet',\n",
      " 'Your destination is on the left. Continue for 0 feet']\n"
     ]
    },
    {
     "data": {
      "application/vnd.jupyter.widget-view+json": {
       "model_id": "8f2aa9c98c674cbbba2f7d8cb8e714cd",
       "version_major": 2,
       "version_minor": 0
      },
      "text/plain": [
       "Map(bottom=3253522.0, center=[37.40253645, -122.1165510679842], controls=(ZoomControl(options=['position', 'zo…"
      ]
     },
     "execution_count": 58,
     "metadata": {},
     "output_type": "execute_result"
    }
   ],
   "source": [
    "# random\n",
    "routing_map.remove(waypoint_marker)\n",
    "waypoint_lat_long = choice(halfway_points)\n",
    "waypoint_marker = Marker(location=waypoint_lat_long, draggable=True, icon=waypoint_icon)\n",
    "routing_map.add(waypoint_marker)\n",
    "\n",
    "# # from choice\n",
    "# waypoint_lat_long = waypoint_marker.location\n",
    "\n",
    "if line:\n",
    "    routing_map.remove(line)\n",
    "if popup:\n",
    "    routing_map.remove(popup)\n",
    "\n",
    "waypoint_long_lat = waypoint_lat_long[1], waypoint_lat_long[0]\n",
    "\n",
    "#six degrees of precision in valhalla\n",
    "inv = 1.0 / 1e6;\n",
    "\n",
    "#decode an encoded string\n",
    "def decode_shape(encoded):\n",
    "  decoded = []\n",
    "  previous = [0,0]\n",
    "  i = 0\n",
    "  #for each byte\n",
    "  while i < len(encoded):\n",
    "    #for each coord (lat, lon)\n",
    "    ll = [0,0]\n",
    "    for j in [0, 1]:\n",
    "      shift = 0\n",
    "      byte = 0x20\n",
    "      #keep decoding bytes until you have this coord\n",
    "      while byte >= 0x20:\n",
    "        byte = ord(encoded[i]) - 63\n",
    "        i += 1\n",
    "        ll[j] |= (byte & 0x1f) << shift\n",
    "        shift += 5\n",
    "      #get the final value adding the previous offset and remember it for the next\n",
    "      ll[j] = previous[j] + (~(ll[j] >> 1) if ll[j] & 1 else (ll[j] >> 1))\n",
    "      previous[j] = ll[j]\n",
    "    #scale by the precision and chop off long coords also flip the positions so\n",
    "    #its the far more standard lon,lat instead of lat,lon\n",
    "    decoded.append([float('%.6f' % (ll[1] * inv)), float('%.6f' % (ll[0] * inv))])\n",
    "  #hand back the list of coordinates\n",
    "  return decoded\n",
    "\n",
    "def get_directions(long_lat_1, long_lat_2):\n",
    "    directions = Valhalla('http://localhost:8002').directions(\n",
    "        locations=[long_lat_1, long_lat_2], \n",
    "        profile=\"pedestrian\",\n",
    "        units=\"mi\",\n",
    "        options=walking_options,\n",
    "        instructions=True,\n",
    "        alternates=2,\n",
    "    )\n",
    "    if \"alternates\" in directions.raw:\n",
    "        raw_trip = directions.raw[\"alternates\"][0][\"trip\"]\n",
    "    else:\n",
    "        raw_trip = directions.raw[\"trip\"]\n",
    "        \n",
    "    instructions = [f\"{m['instruction']} Continue for {int(m['length'] * 5280)} feet\" for m in raw_trip[\"legs\"][0][\"maneuvers\"]]\n",
    "    distance = raw_trip[\"summary\"][\"length\"]\n",
    "    duration = raw_trip[\"summary\"][\"time\"] / 60\n",
    "    geometry = decode_shape(raw_trip[\"legs\"][0][\"shape\"])\n",
    "    return instructions, distance, duration, geometry\n",
    "\n",
    "all_instructions = []\n",
    "total_distance = 0 \n",
    "total_duration = 0\n",
    "all_geometry = []\n",
    "instructions, distance, duration, geometry = get_directions(start_long_lat, waypoint_long_lat)\n",
    "all_instructions.extend(instructions)\n",
    "total_distance += distance\n",
    "total_duration += duration\n",
    "all_geometry.extend(geometry)\n",
    "instructions, distance, duration, geometry = get_directions(waypoint_long_lat, start_long_lat)\n",
    "all_instructions.extend(instructions)\n",
    "total_distance += distance\n",
    "total_duration += duration\n",
    "all_geometry.extend(geometry)\n",
    "\n",
    "locations = [(lat, long) for (long, lat) in all_geometry]\n",
    "line = Polyline(\n",
    "    locations=locations,\n",
    "    color=\"green\" ,\n",
    "    fill=False\n",
    ")\n",
    "\n",
    "routing_map.add(line)\n",
    "\n",
    "print(\"Duration (minutes):\", total_duration)\n",
    "print(\"Distance (miles):\", total_distance)\n",
    "pprint(all_instructions)\n",
    "\n",
    "message = HTML()\n",
    "message.value = f\"{int(total_duration)} minutes; {total_distance} miles\"\n",
    "\n",
    "# Popup with a given location on the map:\n",
    "popup = Popup(\n",
    "    location=waypoint_lat_long,\n",
    "    child=message,\n",
    "    close_button=True,\n",
    "    auto_close=False,\n",
    "    close_on_escape_key=True\n",
    ")\n",
    "routing_map.add(popup)\n"
   ]
  },
  {
   "cell_type": "code",
   "execution_count": null,
   "id": "145b8f81-fd7c-4121-ad93-64a1df94e405",
   "metadata": {},
   "outputs": [],
   "source": []
  },
  {
   "cell_type": "code",
   "execution_count": null,
   "id": "d1d1dd07-d745-4c2d-8c71-01426f53c1ad",
   "metadata": {},
   "outputs": [],
   "source": []
  },
  {
   "cell_type": "code",
   "execution_count": null,
   "id": "c28efa38-e31d-4922-9a03-7c7770595dd0",
   "metadata": {},
   "outputs": [],
   "source": []
  },
  {
   "cell_type": "code",
   "execution_count": null,
   "id": "58e2c5de-f5c0-4af8-90d9-17ee495c90d7",
   "metadata": {},
   "outputs": [],
   "source": []
  },
  {
   "cell_type": "code",
   "execution_count": null,
   "id": "ed94812b-c3d3-4241-9482-41848942c58d",
   "metadata": {},
   "outputs": [],
   "source": []
  },
  {
   "cell_type": "code",
   "execution_count": null,
   "id": "24707f2f-a7f4-49d1-9ee5-d26b2202bc49",
   "metadata": {},
   "outputs": [],
   "source": []
  },
  {
   "cell_type": "code",
   "execution_count": null,
   "id": "04f05107-c4ef-4aec-86de-98679d685403",
   "metadata": {},
   "outputs": [],
   "source": []
  },
  {
   "cell_type": "code",
   "execution_count": null,
   "id": "0ca15aeb-50c0-400f-8c42-739148534a7a",
   "metadata": {},
   "outputs": [],
   "source": []
  },
  {
   "cell_type": "markdown",
   "id": "198f9f50-ef34-4abe-b5d7-8809ccf00d6d",
   "metadata": {},
   "source": [
    "# Optimized Route through a number of waypoints"
   ]
  },
  {
   "cell_type": "code",
   "execution_count": 114,
   "id": "7fbb44ec-74da-4749-873f-7dc816d53dd2",
   "metadata": {},
   "outputs": [
    {
     "data": {
      "application/vnd.jupyter.widget-view+json": {
       "model_id": "0c439d88e53843bb96133caae66076b4",
       "version_major": 2,
       "version_minor": 0
      },
      "text/plain": [
       "Map(center=[37.40253645, -122.1165510679842], controls=(ZoomControl(options=['position', 'zoom_in_text', 'zoom…"
      ]
     },
     "metadata": {},
     "output_type": "display_data"
    }
   ],
   "source": [
    "NUM_WAYPOINTS = 3\n",
    "waypoint_icon = AwesomeIcon(\n",
    "    name='flag',\n",
    "    marker_color='blue',\n",
    "    icon_color='black',\n",
    "    spin=False\n",
    ")\n",
    "waypoint_markers = [Marker(location=start_lat_long, draggable=True, icon=waypoint_icon) for _ in range(NUM_WAYPOINTS)]\n",
    "opt_routing_map = Map(center=start_lat_long, zoom=15)\n",
    "opt_routing_map.add_control(startpoint_marker)\n",
    "for waypoint_marker in waypoint_markers:\n",
    "    opt_routing_map.add_control(waypoint_marker)\n",
    "display(opt_routing_map)"
   ]
  },
  {
   "cell_type": "code",
   "execution_count": 117,
   "id": "13a895cd-3a68-4e8a-95c7-f5dc89a72708",
   "metadata": {},
   "outputs": [],
   "source": [
    "import requests\n",
    "import json\n",
    "\n",
    "optimized_line = None\n",
    "\n",
    "v = Valhalla('http://localhost:8002')"
   ]
  },
  {
   "cell_type": "code",
   "execution_count": 123,
   "id": "5cade505-8801-4b77-b1b5-875ee0933750",
   "metadata": {},
   "outputs": [
    {
     "data": {
      "application/vnd.jupyter.widget-view+json": {
       "model_id": "0c439d88e53843bb96133caae66076b4",
       "version_major": 2,
       "version_minor": 0
      },
      "text/plain": [
       "Map(bottom=6506744.0, center=[37.40425557926452, -122.11575150489809], controls=(ZoomControl(options=['positio…"
      ]
     },
     "execution_count": 123,
     "metadata": {},
     "output_type": "execute_result"
    }
   ],
   "source": [
    "locations = [{\"lat\": start.latitude, \"lon\": start.longitude}]+[{\"lat\": w.location[0], \"lon\": w.location[1]} for w in waypoint_markers]+[{\"lat\": start.latitude, \"lon\": start.longitude}]\n",
    "\n",
    "json_params = {\"locations\":locations,\"costing\":\"pedestrian\",\"directions_options\":{\"units\":\"miles\"}}\n",
    "response = requests.get(f'http://localhost:8002/optimized_route?json={json.dumps(json_params)}')\n",
    "\n",
    "lon_lats = []\n",
    "for leg in response.json()['trip']['legs']:\n",
    "    lon_lats.extend(decode_shape(leg['shape']))\n",
    "lat_lons = [(lat, lon) for lon, lat in lon_lats]\n",
    "\n",
    "if optimized_line:\n",
    "    opt_routing_map.remove(optimized_line)\n",
    "optimized_line = Polyline(\n",
    "    locations=lat_lons,\n",
    "    color=\"green\" ,\n",
    "    fill=False\n",
    ")\n",
    "opt_routing_map.add(optimized_line)"
   ]
  },
  {
   "cell_type": "code",
   "execution_count": null,
   "id": "5ac50a5c-e200-40ba-807d-5c2f3ed0aba6",
   "metadata": {},
   "outputs": [],
   "source": []
  }
 ],
 "metadata": {
  "kernelspec": {
   "display_name": "Python 3 (ipykernel)",
   "language": "python",
   "name": "python3"
  },
  "language_info": {
   "codemirror_mode": {
    "name": "ipython",
    "version": 3
   },
   "file_extension": ".py",
   "mimetype": "text/x-python",
   "name": "python",
   "nbconvert_exporter": "python",
   "pygments_lexer": "ipython3",
   "version": "3.11.9"
  },
  "widgets": {
   "application/vnd.jupyter.widget-state+json": {
    "state": {
     "0439a501fde14f939e6fd350aca1310e": {
      "model_module": "jupyter-leaflet",
      "model_module_version": "^0.19",
      "model_name": "LeafletMapStyleModel",
      "state": {
       "_model_module_version": "^0.19"
      }
     },
     "044f264d042245ff99be75ee4ed14eba": {
      "model_module": "jupyter-leaflet",
      "model_module_version": "^0.19",
      "model_name": "LeafletAttributionControlModel",
      "state": {
       "_model_module_version": "^0.19",
       "_view_module_version": "^0.19",
       "options": [
        "position",
        "prefix"
       ],
       "position": "bottomright",
       "prefix": "ipyleaflet"
      }
     },
     "05a1b193549f4a509fd01cca08a6b9eb": {
      "model_module": "jupyter-leaflet",
      "model_module_version": "^0.19",
      "model_name": "LeafletMapStyleModel",
      "state": {
       "_model_module_version": "^0.19",
       "cursor": "move"
      }
     },
     "05d560824acb4d6e832747cfa342c85c": {
      "model_module": "jupyter-leaflet",
      "model_module_version": "^0.19",
      "model_name": "LeafletMapStyleModel",
      "state": {
       "_model_module_version": "^0.19"
      }
     },
     "06b48057d9d24279880c40adc457fdb4": {
      "model_module": "jupyter-leaflet",
      "model_module_version": "^0.19",
      "model_name": "LeafletMapStyleModel",
      "state": {
       "_model_module_version": "^0.19"
      }
     },
     "092850c083694cc48583261709c8a7cb": {
      "model_module": "jupyter-leaflet",
      "model_module_version": "^0.19",
      "model_name": "LeafletMapStyleModel",
      "state": {
       "_model_module_version": "^0.19",
       "cursor": "move"
      }
     },
     "0c439d88e53843bb96133caae66076b4": {
      "model_module": "jupyter-leaflet",
      "model_module_version": "^0.19",
      "model_name": "LeafletMapModel",
      "state": {
       "_model_module_version": "^0.19",
       "_view_module_version": "^0.19",
       "bottom": 6506744,
       "center": [
        37.40425557926452,
        -122.11575150489809
       ],
       "controls": [
        "IPY_MODEL_8bff3ad3f4d6495daa2c71384481dd4f",
        "IPY_MODEL_4aa0be6b573746fea767998d4b4ed162"
       ],
       "default_style": "IPY_MODEL_3c41c287adfd40408dc288e219764d64",
       "dragging_style": "IPY_MODEL_3054e74fab15440495f38c3258c4dd41",
       "east": -122.10396051406862,
       "fullscreen": false,
       "interpolation": "bilinear",
       "layers": [
        "IPY_MODEL_83550880e8634046985c8c09ee700d57",
        "IPY_MODEL_78f3f02b2e63424b84f0210de1c7c0bf",
        "IPY_MODEL_5d10d92c7ddd4fa38b6a8d3cc1f69fba",
        "IPY_MODEL_d88b0b74926a424a809bd7b28db2496c",
        "IPY_MODEL_527bf70ae26a42aa9feaed275e09d98b",
        "IPY_MODEL_20411e91e0e149a0b5b2d390de26d64f",
        "IPY_MODEL_964a66ec70404805be6cc63e39f77b06"
       ],
       "layout": "IPY_MODEL_9d6b542beced459daaf2e10863e55aa4",
       "left": 2697052,
       "modisdate": "2024-06-03",
       "north": 37.407664565792395,
       "options": [
        "bounce_at_zoom_limits",
        "box_zoom",
        "center",
        "close_popup_on_click",
        "double_click_zoom",
        "dragging",
        "fullscreen",
        "inertia",
        "inertia_deceleration",
        "inertia_max_speed",
        "interpolation",
        "keyboard",
        "keyboard_pan_offset",
        "keyboard_zoom_offset",
        "max_zoom",
        "min_zoom",
        "prefer_canvas",
        "scroll_wheel_zoom",
        "tap",
        "tap_tolerance",
        "touch_zoom",
        "world_copy_jump",
        "zoom",
        "zoom_animation_threshold",
        "zoom_delta",
        "zoom_snap"
       ],
       "prefer_canvas": false,
       "right": 2698151,
       "south": 37.40084643763196,
       "style": "IPY_MODEL_3c41c287adfd40408dc288e219764d64",
       "top": 6506344,
       "west": -122.12754249572755,
       "window_url": "http://localhost:8888/notebooks/RoundTripRoutes.ipynb",
       "zoom": 16
      }
     },
     "0f09756b68a54154bc06c6bfb482b2e4": {
      "model_module": "jupyter-leaflet",
      "model_module_version": "^0.19",
      "model_name": "LeafletPolylineModel",
      "state": {
       "_model_module_version": "^0.19",
       "_view_module_version": "^0.19",
       "color": "green",
       "draggable": false,
       "fill": false,
       "locations": [
        [
         37.402687,
         -122.116361
        ],
        [
         37.402997,
         -122.11675
        ],
        [
         37.40308,
         -122.116825
        ],
        [
         37.403126,
         -122.11676
        ],
        [
         37.403145,
         -122.116732
        ],
        [
         37.403206,
         -122.116646
        ],
        [
         37.403564,
         -122.11707
        ],
        [
         37.40361,
         -122.11687
        ],
        [
         37.40366,
         -122.116787
        ],
        [
         37.403681,
         -122.11676
        ],
        [
         37.403753,
         -122.116689
        ],
        [
         37.403905,
         -122.116537
        ],
        [
         37.403959,
         -122.116487
        ],
        [
         37.404131,
         -122.116317
        ],
        [
         37.404335,
         -122.116116
        ],
        [
         37.404356,
         -122.116096
        ],
        [
         37.40478,
         -122.115678
        ],
        [
         37.405189,
         -122.115267
        ],
        [
         37.405247,
         -122.115208
        ],
        [
         37.405277,
         -122.11518
        ],
        [
         37.405353,
         -122.115103
        ],
        [
         37.405365,
         -122.115091
        ],
        [
         37.40559,
         -122.114869
        ],
        [
         37.405774,
         -122.114686
        ],
        [
         37.405907,
         -122.114555
        ],
        [
         37.406131,
         -122.114332
        ],
        [
         37.406245,
         -122.114218
        ],
        [
         37.406291,
         -122.114293
        ],
        [
         37.406309,
         -122.114322
        ],
        [
         37.406425,
         -122.11451
        ],
        [
         37.406782,
         -122.11509
        ],
        [
         37.406843,
         -122.115187
        ],
        [
         37.406843,
         -122.115187
        ],
        [
         37.406782,
         -122.11509
        ],
        [
         37.406425,
         -122.11451
        ],
        [
         37.406309,
         -122.114322
        ],
        [
         37.406291,
         -122.114293
        ],
        [
         37.406245,
         -122.114218
        ],
        [
         37.406553,
         -122.113914
        ],
        [
         37.406525,
         -122.113866
        ],
        [
         37.406522,
         -122.113861
        ],
        [
         37.406285,
         -122.113486
        ],
        [
         37.406176,
         -122.113313
        ],
        [
         37.406136,
         -122.113249
        ],
        [
         37.406067,
         -122.113136
        ],
        [
         37.406022,
         -122.113067
        ],
        [
         37.405952,
         -122.112951
        ],
        [
         37.405931,
         -122.112922
        ],
        [
         37.405748,
         -122.11262
        ],
        [
         37.4057,
         -122.112554
        ],
        [
         37.405627,
         -122.112438
        ],
        [
         37.405579,
         -122.112364
        ],
        [
         37.405579,
         -122.112364
        ],
        [
         37.405473,
         -122.1122
        ],
        [
         37.405173,
         -122.112508
        ],
        [
         37.404937,
         -122.112614
        ],
        [
         37.404827,
         -122.112714
        ],
        [
         37.404473,
         -122.112938
        ],
        [
         37.404302,
         -122.113106
        ],
        [
         37.404425,
         -122.113499
        ],
        [
         37.404414,
         -122.113664
        ],
        [
         37.404184,
         -122.11389
        ],
        [
         37.404124,
         -122.113949
        ],
        [
         37.403912,
         -122.113622
        ],
        [
         37.403879,
         -122.113573
        ],
        [
         37.403848,
         -122.113522
        ],
        [
         37.403774,
         -122.113629
        ],
        [
         37.403665,
         -122.113844
        ],
        [
         37.403477,
         -122.113951
        ],
        [
         37.403401,
         -122.113994
        ],
        [
         37.403276,
         -122.11406
        ],
        [
         37.403234,
         -122.114154
        ]
       ],
       "options": [
        "color",
        "dash_array",
        "draggable",
        "fill",
        "fill_color",
        "fill_opacity",
        "line_cap",
        "line_join",
        "no_clip",
        "opacity",
        "pointer_events",
        "smooth_factor",
        "stroke",
        "transform",
        "weight"
       ],
       "rotation": true,
       "scaling": true,
       "transform": false,
       "uniform_scaling": false
      }
     },
     "0f7d957950c147539951fe5014a54af3": {
      "model_module": "jupyter-leaflet",
      "model_module_version": "^0.19",
      "model_name": "LeafletMapStyleModel",
      "state": {
       "_model_module_version": "^0.19",
       "cursor": "move"
      }
     },
     "0fea99b19d7f43068edfd71092862f86": {
      "model_module": "jupyter-leaflet",
      "model_module_version": "^0.19",
      "model_name": "LeafletMapStyleModel",
      "state": {
       "_model_module_version": "^0.19",
       "cursor": "move"
      }
     },
     "10857f6e79814fef8e17060447912424": {
      "model_module": "jupyter-leaflet",
      "model_module_version": "^0.19",
      "model_name": "LeafletMapStyleModel",
      "state": {
       "_model_module_version": "^0.19"
      }
     },
     "11d179deaf8a475791e9a0fcc204d035": {
      "model_module": "jupyter-leaflet",
      "model_module_version": "^0.19",
      "model_name": "LeafletMapStyleModel",
      "state": {
       "_model_module_version": "^0.19"
      }
     },
     "16f5fad74dce44c99876f4c78b1940ab": {
      "model_module": "@jupyter-widgets/base",
      "model_module_version": "2.0.0",
      "model_name": "LayoutModel",
      "state": {}
     },
     "1831ecdb7647471d8e44faa2b0120e03": {
      "model_module": "jupyter-leaflet",
      "model_module_version": "^0.19",
      "model_name": "LeafletAttributionControlModel",
      "state": {
       "_model_module_version": "^0.19",
       "_view_module_version": "^0.19",
       "options": [
        "position",
        "prefix"
       ],
       "position": "bottomright",
       "prefix": "ipyleaflet"
      }
     },
     "18d1fad46427438dbdc37ee20e8dafc0": {
      "model_module": "jupyter-leaflet",
      "model_module_version": "^0.19",
      "model_name": "LeafletAttributionControlModel",
      "state": {
       "_model_module_version": "^0.19",
       "_view_module_version": "^0.19",
       "options": [
        "position",
        "prefix"
       ],
       "position": "bottomright",
       "prefix": "ipyleaflet"
      }
     },
     "1c41ace7c73b4b94887e432f062577d2": {
      "model_module": "jupyter-leaflet",
      "model_module_version": "^0.19",
      "model_name": "LeafletMapStyleModel",
      "state": {
       "_model_module_version": "^0.19"
      }
     },
     "1eda4389f96140b3b2b1623a599e8132": {
      "model_module": "@jupyter-widgets/controls",
      "model_module_version": "2.0.0",
      "model_name": "HTMLStyleModel",
      "state": {
       "description_width": "",
       "font_size": null,
       "text_color": null
      }
     },
     "20411e91e0e149a0b5b2d390de26d64f": {
      "model_module": "jupyter-leaflet",
      "model_module_version": "^0.19",
      "model_name": "LeafletPolylineModel",
      "state": {
       "_model_module_version": "^0.19",
       "_view_module_version": "^0.19",
       "color": "green",
       "draggable": false,
       "fill": false,
       "locations": [
        [
         37.402687,
         -122.116361
        ],
        [
         37.402687,
         -122.116361
        ],
        [
         37.402687,
         -122.116361
        ],
        [
         37.402687,
         -122.116361
        ],
        [
         37.402687,
         -122.116361
        ],
        [
         37.402687,
         -122.116361
        ],
        [
         37.402687,
         -122.116361
        ],
        [
         37.402687,
         -122.116361
        ]
       ],
       "options": [
        "color",
        "dash_array",
        "draggable",
        "fill",
        "fill_color",
        "fill_opacity",
        "line_cap",
        "line_join",
        "no_clip",
        "opacity",
        "pointer_events",
        "smooth_factor",
        "stroke",
        "transform",
        "weight"
       ],
       "rotation": true,
       "scaling": true,
       "transform": false,
       "uniform_scaling": false
      }
     },
     "2058b3f2f6f84fb4ba4043abf0169ce8": {
      "model_module": "jupyter-leaflet",
      "model_module_version": "^0.19",
      "model_name": "LeafletMarkerModel",
      "state": {
       "_model_module_version": "^0.19",
       "_view_module_version": "^0.19",
       "icon": "IPY_MODEL_81c3193fa4974f16abf88cf781d6adc9",
       "location": [
        37.40555101241671,
        -122.11239337921144
       ],
       "options": [
        "alt",
        "draggable",
        "keyboard",
        "rise_offset",
        "rise_on_hover",
        "rotation_angle",
        "rotation_origin",
        "title",
        "z_index_offset"
       ]
      }
     },
     "20ba26ea42dd40d595e5d733966884b3": {
      "model_module": "jupyter-leaflet",
      "model_module_version": "^0.19",
      "model_name": "LeafletMarkerModel",
      "state": {
       "_model_module_version": "^0.19",
       "_view_module_version": "^0.19",
       "icon": "IPY_MODEL_7bb6f37da9af4828a4284cf86ca2520c",
       "location": [
        37.40253645,
        -122.1165510679842
       ],
       "options": [
        "alt",
        "draggable",
        "keyboard",
        "rise_offset",
        "rise_on_hover",
        "rotation_angle",
        "rotation_origin",
        "title",
        "z_index_offset"
       ]
      }
     },
     "2151b342bf9b4238836d3ed4f38920a1": {
      "model_module": "@jupyter-widgets/base",
      "model_module_version": "2.0.0",
      "model_name": "LayoutModel",
      "state": {}
     },
     "216860e143bd45eb9f019405a452bed8": {
      "model_module": "jupyter-leaflet",
      "model_module_version": "^0.19",
      "model_name": "LeafletPopupModel",
      "state": {
       "_model_module_version": "^0.19",
       "_view_module_version": "^0.19",
       "auto_close": false,
       "auto_pan": true,
       "auto_pan_padding": [
        5,
        5
       ],
       "auto_pan_padding_bottom_right": null,
       "auto_pan_padding_top_left": null,
       "child": "IPY_MODEL_3c5ea02c54fe43be8b31f1034e16da88",
       "close_button": true,
       "close_on_escape_key": true,
       "keep_in_view": false,
       "location": [
        37.396089,
        -122.114551
       ],
       "options": [
        "auto_close",
        "auto_pan",
        "auto_pan_padding",
        "auto_pan_padding_bottom_right",
        "auto_pan_padding_top_left",
        "close_button",
        "close_on_escape_key",
        "keep_in_view",
        "max_height",
        "max_width",
        "min_width"
       ]
      }
     },
     "2473969558cb4dc5b4d24365920f000a": {
      "model_module": "jupyter-leaflet",
      "model_module_version": "^0.19",
      "model_name": "LeafletMapStyleModel",
      "state": {
       "_model_module_version": "^0.19",
       "cursor": "move"
      }
     },
     "25183a0efed4415ba1b419e9ab7e16b7": {
      "model_module": "jupyter-leaflet",
      "model_module_version": "^0.19",
      "model_name": "LeafletMarkerModel",
      "state": {
       "_model_module_version": "^0.19",
       "_view_module_version": "^0.19",
       "icon": "IPY_MODEL_ac04e1fafe084a9e9ab9bf738c8e653f",
       "location": [
        37.407153227701336,
        -122.11561203002931
       ],
       "options": [
        "alt",
        "draggable",
        "keyboard",
        "rise_offset",
        "rise_on_hover",
        "rotation_angle",
        "rotation_origin",
        "title",
        "z_index_offset"
       ]
      }
     },
     "260bbc4773a14ab4bf46a5426d0b1fb6": {
      "model_module": "@jupyter-widgets/base",
      "model_module_version": "2.0.0",
      "model_name": "LayoutModel",
      "state": {}
     },
     "27f89d06340b40d9b18c3400c81e026a": {
      "model_module": "jupyter-leaflet",
      "model_module_version": "^0.19",
      "model_name": "LeafletAttributionControlModel",
      "state": {
       "_model_module_version": "^0.19",
       "_view_module_version": "^0.19",
       "options": [
        "position",
        "prefix"
       ],
       "position": "bottomright",
       "prefix": "ipyleaflet"
      }
     },
     "2c81ab40b9144af29a5c944bf11e4b90": {
      "model_module": "jupyter-leaflet",
      "model_module_version": "^0.19",
      "model_name": "LeafletMapModel",
      "state": {
       "_model_module_version": "^0.19",
       "_view_module_version": "^0.19",
       "bottom": 3253522,
       "center": [
        37.40253645,
        -122.1165510679842
       ],
       "controls": [
        "IPY_MODEL_693b74c87fea4b3abc485f2bf0a1254d",
        "IPY_MODEL_bbf33957c4e840e2929553803d2a2ff4"
       ],
       "default_style": "IPY_MODEL_673a818534a046ccb756574a69ccdbc1",
       "dragging_style": "IPY_MODEL_e74bcdf5c20f48b18eb42bd6beab0b30",
       "east": -122.0929527282715,
       "fullscreen": false,
       "interpolation": "bilinear",
       "layers": [
        "IPY_MODEL_cd6fe8717edb458689fc0b1863e17ae1",
        "IPY_MODEL_c7728dbe71b24a929cd73ab37515aa87",
        "IPY_MODEL_bf3534a43cf9431eabdfee64bbcc1ac5",
        "IPY_MODEL_25183a0efed4415ba1b419e9ab7e16b7"
       ],
       "layout": "IPY_MODEL_65465b7b78f4449eb7d4baa8ae57ed8a",
       "left": 1348233,
       "modisdate": "2024-06-03",
       "north": 37.40936900089054,
       "options": [
        "bounce_at_zoom_limits",
        "box_zoom",
        "center",
        "close_popup_on_click",
        "double_click_zoom",
        "dragging",
        "fullscreen",
        "inertia",
        "inertia_deceleration",
        "inertia_max_speed",
        "interpolation",
        "keyboard",
        "keyboard_pan_offset",
        "keyboard_zoom_offset",
        "max_zoom",
        "min_zoom",
        "prefer_canvas",
        "scroll_wheel_zoom",
        "tap",
        "tap_tolerance",
        "touch_zoom",
        "world_copy_jump",
        "zoom",
        "zoom_animation_threshold",
        "zoom_delta",
        "zoom_snap"
       ],
       "prefer_canvas": false,
       "right": 1349332,
       "south": 37.39573243437289,
       "style": "IPY_MODEL_10857f6e79814fef8e17060447912424",
       "top": 3253122,
       "west": -122.14011669158937,
       "window_url": "http://localhost:8888/notebooks/RoundTripRoutes.ipynb",
       "zoom": 15
      }
     },
     "2d19765730a343bd8e225b22cbda4427": {
      "model_module": "jupyter-leaflet",
      "model_module_version": "^0.19",
      "model_name": "LeafletZoomControlModel",
      "state": {
       "_model_module_version": "^0.19",
       "_view_module_version": "^0.19",
       "options": [
        "position",
        "zoom_in_text",
        "zoom_in_title",
        "zoom_out_text",
        "zoom_out_title"
       ]
      }
     },
     "2dcc38709d5d43df8423cf1898044546": {
      "model_module": "jupyter-leaflet",
      "model_module_version": "^0.19",
      "model_name": "LeafletPolylineModel",
      "state": {
       "_model_module_version": "^0.19",
       "_view_module_version": "^0.19",
       "color": "green",
       "draggable": false,
       "fill": false,
       "locations": [
        [
         37.402687,
         -122.116361
        ],
        [
         37.402997,
         -122.11675
        ],
        [
         37.40308,
         -122.116825
        ],
        [
         37.403126,
         -122.11676
        ],
        [
         37.403145,
         -122.116732
        ],
        [
         37.403531,
         -122.117178
        ],
        [
         37.403953,
         -122.117659
        ],
        [
         37.404004,
         -122.117596
        ],
        [
         37.404019,
         -122.117613
        ],
        [
         37.40421,
         -122.117824
        ],
        [
         37.404259,
         -122.117881
        ],
        [
         37.40438,
         -122.118025
        ],
        [
         37.404406,
         -122.118056
        ],
        [
         37.404518,
         -122.118189
        ],
        [
         37.404591,
         -122.118275
        ],
        [
         37.404702,
         -122.118144
        ],
        [
         37.404761,
         -122.118075
        ],
        [
         37.404778,
         -122.118055
        ],
        [
         37.405029,
         -122.117739
        ],
        [
         37.405067,
         -122.117785
        ],
        [
         37.405181,
         -122.117922
        ],
        [
         37.405181,
         -122.117922
        ],
        [
         37.405067,
         -122.117785
        ],
        [
         37.405029,
         -122.117739
        ],
        [
         37.404778,
         -122.118055
        ],
        [
         37.404761,
         -122.118075
        ],
        [
         37.404702,
         -122.118144
        ],
        [
         37.404603,
         -122.118028
        ],
        [
         37.404594,
         -122.118017
        ],
        [
         37.404556,
         -122.117972
        ],
        [
         37.404381,
         -122.117769
        ],
        [
         37.404117,
         -122.117461
        ],
        [
         37.403708,
         -122.116984
        ],
        [
         37.40361,
         -122.11687
        ],
        [
         37.40366,
         -122.116787
        ],
        [
         37.403681,
         -122.11676
        ],
        [
         37.403753,
         -122.116689
        ],
        [
         37.403905,
         -122.116537
        ],
        [
         37.403959,
         -122.116487
        ],
        [
         37.404131,
         -122.116317
        ],
        [
         37.404335,
         -122.116116
        ],
        [
         37.404356,
         -122.116096
        ],
        [
         37.40478,
         -122.115678
        ],
        [
         37.405189,
         -122.115267
        ],
        [
         37.405247,
         -122.115208
        ],
        [
         37.405292,
         -122.11528
        ],
        [
         37.406182,
         -122.114394
        ],
        [
         37.406205,
         -122.114381
        ],
        [
         37.406291,
         -122.114293
        ],
        [
         37.406356,
         -122.114227
        ],
        [
         37.406367,
         -122.114207
        ],
        [
         37.406385,
         -122.114187
        ],
        [
         37.406453,
         -122.114122
        ],
        [
         37.406453,
         -122.114122
        ],
        [
         37.406385,
         -122.114187
        ],
        [
         37.406367,
         -122.114207
        ],
        [
         37.406356,
         -122.114227
        ],
        [
         37.406291,
         -122.114293
        ],
        [
         37.406245,
         -122.114218
        ],
        [
         37.406131,
         -122.114332
        ],
        [
         37.405907,
         -122.114555
        ],
        [
         37.405774,
         -122.114686
        ],
        [
         37.40559,
         -122.114869
        ],
        [
         37.405365,
         -122.115091
        ],
        [
         37.405353,
         -122.115103
        ],
        [
         37.405277,
         -122.11518
        ],
        [
         37.405227,
         -122.115108
        ],
        [
         37.405201,
         -122.11507
        ],
        [
         37.404908,
         -122.114601
        ],
        [
         37.404837,
         -122.114518
        ],
        [
         37.404753,
         -122.114438
        ],
        [
         37.404667,
         -122.114378
        ],
        [
         37.404584,
         -122.11434
        ],
        [
         37.40449,
         -122.114313
        ],
        [
         37.404441,
         -122.114282
        ],
        [
         37.404337,
         -122.114218
        ],
        [
         37.404225,
         -122.114105
        ],
        [
         37.404158,
         -122.114
        ],
        [
         37.404124,
         -122.113949
        ],
        [
         37.403912,
         -122.113622
        ],
        [
         37.403879,
         -122.113573
        ],
        [
         37.403848,
         -122.113522
        ],
        [
         37.403837,
         -122.113505
        ],
        [
         37.403785,
         -122.11342
        ],
        [
         37.403754,
         -122.11337
        ],
        [
         37.403672,
         -122.113238
        ],
        [
         37.403568,
         -122.113075
        ],
        [
         37.403531,
         -122.113017
        ],
        [
         37.403504,
         -122.112975
        ],
        [
         37.403409,
         -122.112822
        ],
        [
         37.40337,
         -122.11276
        ],
        [
         37.40337,
         -122.11276
        ],
        [
         37.403295,
         -122.112639
        ],
        [
         37.403286,
         -122.112623
        ],
        [
         37.403235,
         -122.112521
        ],
        [
         37.403137,
         -122.112578
        ],
        [
         37.402957,
         -122.112681
        ],
        [
         37.402739,
         -122.112804
        ],
        [
         37.402602,
         -122.112885
        ],
        [
         37.40228,
         -122.113076
        ],
        [
         37.402232,
         -122.113105
        ],
        [
         37.401485,
         -122.113544
        ],
        [
         37.401452,
         -122.113561
        ],
        [
         37.40138,
         -122.113611
        ],
        [
         37.401231,
         -122.113719
        ],
        [
         37.401292,
         -122.113832
        ],
        [
         37.401304,
         -122.113854
        ],
        [
         37.401673,
         -122.114535
        ],
        [
         37.401831,
         -122.114833
        ],
        [
         37.402011,
         -122.115136
        ],
        [
         37.40204,
         -122.115186
        ],
        [
         37.402196,
         -122.115435
        ],
        [
         37.402331,
         -122.115647
        ],
        [
         37.402284,
         -122.115691
        ],
        [
         37.402439,
         -122.115911
        ],
        [
         37.402432,
         -122.115918
        ],
        [
         37.402405,
         -122.115948
        ],
        [
         37.40234,
         -122.115924
        ],
        [
         37.402687,
         -122.116361
        ]
       ],
       "options": [
        "color",
        "dash_array",
        "draggable",
        "fill",
        "fill_color",
        "fill_opacity",
        "line_cap",
        "line_join",
        "no_clip",
        "opacity",
        "pointer_events",
        "smooth_factor",
        "stroke",
        "transform",
        "weight"
       ],
       "rotation": true,
       "scaling": true,
       "transform": false,
       "uniform_scaling": false
      }
     },
     "3054e74fab15440495f38c3258c4dd41": {
      "model_module": "jupyter-leaflet",
      "model_module_version": "^0.19",
      "model_name": "LeafletMapStyleModel",
      "state": {
       "_model_module_version": "^0.19",
       "cursor": "move"
      }
     },
     "32873aab32f64fc5b100e774679b67e7": {
      "model_module": "jupyter-leaflet",
      "model_module_version": "^0.19",
      "model_name": "LeafletPolygonModel",
      "state": {
       "_model_module_version": "^0.19",
       "_view_module_version": "^0.19",
       "color": "blue",
       "draggable": false,
       "fill_color": "blue",
       "locations": [
        [
         37.408772,
         -122.112551
        ],
        [
         37.408536,
         -122.113923
        ],
        [
         37.407409,
         -122.114551
        ],
        [
         37.408464,
         -122.115551
        ],
        [
         37.408738,
         -122.117551
        ],
        [
         37.408026,
         -122.118551
        ],
        [
         37.408616,
         -122.119472
        ],
        [
         37.409027,
         -122.121551
        ],
        [
         37.408536,
         -122.122369
        ],
        [
         37.408322,
         -122.121765
        ],
        [
         37.406925,
         -122.12194
        ],
        [
         37.406537,
         -122.122961
        ],
        [
         37.404921,
         -122.122167
        ],
        [
         37.402784,
         -122.122799
        ],
        [
         37.402536,
         -122.12325
        ],
        [
         37.400641,
         -122.122446
        ],
        [
         37.399899,
         -122.121551
        ],
        [
         37.401046,
         -122.119551
        ],
        [
         37.399536,
         -122.119153
        ],
        [
         37.396089,
         -122.114551
        ],
        [
         37.397836,
         -122.11185
        ],
        [
         37.398537,
         -122.108261
        ],
        [
         37.403569,
         -122.109519
        ],
        [
         37.406676,
         -122.111412
        ],
        [
         37.408375,
         -122.111713
        ],
        [
         37.408772,
         -122.112551
        ]
       ],
       "options": [
        "color",
        "dash_array",
        "draggable",
        "fill",
        "fill_color",
        "fill_opacity",
        "line_cap",
        "line_join",
        "no_clip",
        "opacity",
        "pointer_events",
        "smooth_factor",
        "stroke",
        "transform",
        "weight"
       ],
       "rotation": true,
       "scaling": true,
       "transform": false,
       "uniform_scaling": false
      }
     },
     "33b66c7c975640c5a3d4422b9e22f787": {
      "model_module": "jupyter-leaflet",
      "model_module_version": "^0.19",
      "model_name": "LeafletAttributionControlModel",
      "state": {
       "_model_module_version": "^0.19",
       "_view_module_version": "^0.19",
       "options": [
        "position",
        "prefix"
       ],
       "position": "bottomright",
       "prefix": "ipyleaflet"
      }
     },
     "38041a01b13a41a79c897b6ff2327739": {
      "model_module": "@jupyter-widgets/base",
      "model_module_version": "2.0.0",
      "model_name": "LayoutModel",
      "state": {}
     },
     "390b7c8ac5de4ea38d32336f63cd43db": {
      "model_module": "jupyter-leaflet",
      "model_module_version": "^0.19",
      "model_name": "LeafletMarkerModel",
      "state": {
       "_model_module_version": "^0.19",
       "_view_module_version": "^0.19",
       "icon": "IPY_MODEL_81c3193fa4974f16abf88cf781d6adc9",
       "location": [
        37.405278291509106,
        -122.11531162261964
       ],
       "options": [
        "alt",
        "draggable",
        "keyboard",
        "rise_offset",
        "rise_on_hover",
        "rotation_angle",
        "rotation_origin",
        "title",
        "z_index_offset"
       ]
      }
     },
     "3c1b6830883d42eaa014d30a34fe29a1": {
      "model_module": "jupyter-leaflet",
      "model_module_version": "^0.19",
      "model_name": "LeafletAwesomeIconModel",
      "state": {
       "_model_module_version": "^0.19",
       "_view_module_version": "^0.19",
       "icon_color": "black",
       "marker_color": "green"
      }
     },
     "3c41c287adfd40408dc288e219764d64": {
      "model_module": "jupyter-leaflet",
      "model_module_version": "^0.19",
      "model_name": "LeafletMapStyleModel",
      "state": {
       "_model_module_version": "^0.19"
      }
     },
     "3c5ea02c54fe43be8b31f1034e16da88": {
      "model_module": "@jupyter-widgets/controls",
      "model_module_version": "2.0.0",
      "model_name": "HTMLModel",
      "state": {
       "layout": "IPY_MODEL_2151b342bf9b4238836d3ed4f38920a1",
       "style": "IPY_MODEL_1eda4389f96140b3b2b1623a599e8132",
       "value": "30 minutes; 1.248 miles"
      }
     },
     "3cf5a5d837654dfea5ccbbc0d0ce8413": {
      "model_module": "jupyter-leaflet",
      "model_module_version": "^0.19",
      "model_name": "LeafletMarkerModel",
      "state": {
       "_model_module_version": "^0.19",
       "_view_module_version": "^0.19",
       "icon": "IPY_MODEL_b09c308e2a1148fc81cc49462ea27a76",
       "location": [
        37.40253645,
        -122.1165510679842
       ],
       "options": [
        "alt",
        "draggable",
        "keyboard",
        "rise_offset",
        "rise_on_hover",
        "rotation_angle",
        "rotation_origin",
        "title",
        "z_index_offset"
       ]
      }
     },
     "3dc10b6c6e5e4ed38b48fa189b0be9be": {
      "model_module": "jupyter-leaflet",
      "model_module_version": "^0.19",
      "model_name": "LeafletMapStyleModel",
      "state": {
       "_model_module_version": "^0.19"
      }
     },
     "44539bcd906a4b2c8412068472788383": {
      "model_module": "jupyter-leaflet",
      "model_module_version": "^0.19",
      "model_name": "LeafletTileLayerModel",
      "state": {
       "_model_module_version": "^0.19",
       "_view_module_version": "^0.19",
       "attribution": "&copy; <a href=\"https://www.openstreetmap.org/copyright\">OpenStreetMap</a> contributors",
       "base": true,
       "max_zoom": 19,
       "min_zoom": 1,
       "name": "OpenStreetMap.Mapnik",
       "options": [
        "attribution",
        "bounds",
        "detect_retina",
        "max_native_zoom",
        "max_zoom",
        "min_native_zoom",
        "min_zoom",
        "no_wrap",
        "tile_size",
        "tms",
        "zoom_offset"
       ],
       "url": "https://tile.openstreetmap.org/{z}/{x}/{y}.png"
      }
     },
     "4789807aa2b54b17905f4431dfd838c9": {
      "model_module": "jupyter-leaflet",
      "model_module_version": "^0.19",
      "model_name": "LeafletAttributionControlModel",
      "state": {
       "_model_module_version": "^0.19",
       "_view_module_version": "^0.19",
       "options": [
        "position",
        "prefix"
       ],
       "position": "bottomright",
       "prefix": "ipyleaflet"
      }
     },
     "4aa0be6b573746fea767998d4b4ed162": {
      "model_module": "jupyter-leaflet",
      "model_module_version": "^0.19",
      "model_name": "LeafletAttributionControlModel",
      "state": {
       "_model_module_version": "^0.19",
       "_view_module_version": "^0.19",
       "options": [
        "position",
        "prefix"
       ],
       "position": "bottomright",
       "prefix": "ipyleaflet"
      }
     },
     "4c9545b67c014c36820d8266111cce86": {
      "model_module": "jupyter-leaflet",
      "model_module_version": "^0.19",
      "model_name": "LeafletMapModel",
      "state": {
       "_model_module_version": "^0.19",
       "_view_module_version": "^0.19",
       "bottom": 3253522,
       "center": [
        37.40253645,
        -122.1165510679842
       ],
       "controls": [
        "IPY_MODEL_a1a4046a772742a9b03eaa34cbe64c9b",
        "IPY_MODEL_18d1fad46427438dbdc37ee20e8dafc0"
       ],
       "default_style": "IPY_MODEL_1c41ace7c73b4b94887e432f062577d2",
       "dragging_style": "IPY_MODEL_b5ffdbd6fbd3401b873988ae74d90878",
       "east": -122.0929527282715,
       "fullscreen": false,
       "interpolation": "bilinear",
       "layers": [
        "IPY_MODEL_d67d773e9245419eb7c2879169a1f3a1",
        "IPY_MODEL_78f3f02b2e63424b84f0210de1c7c0bf",
        "IPY_MODEL_5cc828c970a64ffcaafdae2cd677301a",
        "IPY_MODEL_89de180a80bd4be094885b2ce8abb51b",
        "IPY_MODEL_e51fc1826698423ea78ebfa013458a62",
        "IPY_MODEL_bfffd07468354d60800e99ac8c8e03e7",
        "IPY_MODEL_9245b3c2a7204e44a5c09996c487d862",
        "IPY_MODEL_ddf694df64fa427894c3791b03faaf73"
       ],
       "layout": "IPY_MODEL_a6f44b1aade042709f35cf7295655ed2",
       "left": 1348233,
       "modisdate": "2024-06-03",
       "north": 37.40936900089054,
       "options": [
        "bounce_at_zoom_limits",
        "box_zoom",
        "center",
        "close_popup_on_click",
        "double_click_zoom",
        "dragging",
        "fullscreen",
        "inertia",
        "inertia_deceleration",
        "inertia_max_speed",
        "interpolation",
        "keyboard",
        "keyboard_pan_offset",
        "keyboard_zoom_offset",
        "max_zoom",
        "min_zoom",
        "prefer_canvas",
        "scroll_wheel_zoom",
        "tap",
        "tap_tolerance",
        "touch_zoom",
        "world_copy_jump",
        "zoom",
        "zoom_animation_threshold",
        "zoom_delta",
        "zoom_snap"
       ],
       "prefer_canvas": false,
       "right": 1349332,
       "south": 37.39573243437289,
       "style": "IPY_MODEL_b902242e344741a1b0b83ae2155433e4",
       "top": 3253122,
       "west": -122.14011669158937,
       "window_url": "http://localhost:8888/notebooks/RoundTripRoutes.ipynb",
       "zoom": 15
      }
     },
     "527bf70ae26a42aa9feaed275e09d98b": {
      "model_module": "jupyter-leaflet",
      "model_module_version": "^0.19",
      "model_name": "LeafletMarkerModel",
      "state": {
       "_model_module_version": "^0.19",
       "_view_module_version": "^0.19",
       "icon": "IPY_MODEL_a0e80a8f13de471cbe2cb6694d82df44",
       "location": [
        37.404988524457075,
        -122.11265087127686
       ],
       "options": [
        "alt",
        "draggable",
        "keyboard",
        "rise_offset",
        "rise_on_hover",
        "rotation_angle",
        "rotation_origin",
        "title",
        "z_index_offset"
       ]
      }
     },
     "546c8dc5afe24e38b229b7ab24be9f3b": {
      "model_module": "jupyter-leaflet",
      "model_module_version": "^0.19",
      "model_name": "LeafletAwesomeIconModel",
      "state": {
       "_model_module_version": "^0.19",
       "_view_module_version": "^0.19",
       "icon_color": "black",
       "marker_color": "green"
      }
     },
     "548336b7d7674e64aff113e472d3625d": {
      "model_module": "jupyter-leaflet",
      "model_module_version": "^0.19",
      "model_name": "LeafletMarkerModel",
      "state": {
       "_model_module_version": "^0.19",
       "_view_module_version": "^0.19",
       "icon": "IPY_MODEL_983fca2b07364160b7d145ce78ab910d",
       "location": [
        37.40002822056113,
        -122.11857318878175
       ],
       "options": [
        "alt",
        "draggable",
        "keyboard",
        "rise_offset",
        "rise_on_hover",
        "rotation_angle",
        "rotation_origin",
        "title",
        "z_index_offset"
       ]
      }
     },
     "55a623611711422f950fdb98b50d2342": {
      "model_module": "jupyter-leaflet",
      "model_module_version": "^0.19",
      "model_name": "LeafletTileLayerModel",
      "state": {
       "_model_module_version": "^0.19",
       "_view_module_version": "^0.19",
       "attribution": "&copy; <a href=\"https://www.openstreetmap.org/copyright\">OpenStreetMap</a> contributors",
       "base": true,
       "max_zoom": 19,
       "min_zoom": 1,
       "name": "OpenStreetMap.Mapnik",
       "options": [
        "attribution",
        "bounds",
        "detect_retina",
        "max_native_zoom",
        "max_zoom",
        "min_native_zoom",
        "min_zoom",
        "no_wrap",
        "tile_size",
        "tms",
        "zoom_offset"
       ],
       "url": "https://tile.openstreetmap.org/{z}/{x}/{y}.png"
      }
     },
     "57b5a22ac670430d98d4d837641e198d": {
      "model_module": "jupyter-leaflet",
      "model_module_version": "^0.19",
      "model_name": "LeafletZoomControlModel",
      "state": {
       "_model_module_version": "^0.19",
       "_view_module_version": "^0.19",
       "options": [
        "position",
        "zoom_in_text",
        "zoom_in_title",
        "zoom_out_text",
        "zoom_out_title"
       ]
      }
     },
     "5bbf4115a5a743a2ab8ff0912b73e72c": {
      "model_module": "jupyter-leaflet",
      "model_module_version": "^0.19",
      "model_name": "LeafletMapStyleModel",
      "state": {
       "_model_module_version": "^0.19"
      }
     },
     "5cc828c970a64ffcaafdae2cd677301a": {
      "model_module": "jupyter-leaflet",
      "model_module_version": "^0.19",
      "model_name": "LeafletMarkerModel",
      "state": {
       "_model_module_version": "^0.19",
       "_view_module_version": "^0.19",
       "icon": "IPY_MODEL_a3d7099d6b6d4a439e596584c52a5b03",
       "location": [
        37.40640325885485,
        -122.11925983428956
       ],
       "options": [
        "alt",
        "draggable",
        "keyboard",
        "rise_offset",
        "rise_on_hover",
        "rotation_angle",
        "rotation_origin",
        "title",
        "z_index_offset"
       ]
      }
     },
     "5d10d92c7ddd4fa38b6a8d3cc1f69fba": {
      "model_module": "jupyter-leaflet",
      "model_module_version": "^0.19",
      "model_name": "LeafletMarkerModel",
      "state": {
       "_model_module_version": "^0.19",
       "_view_module_version": "^0.19",
       "icon": "IPY_MODEL_a0e80a8f13de471cbe2cb6694d82df44",
       "location": [
        37.40650552777596,
        -122.11198568344118
       ],
       "options": [
        "alt",
        "draggable",
        "keyboard",
        "rise_offset",
        "rise_on_hover",
        "rotation_angle",
        "rotation_origin",
        "title",
        "z_index_offset"
       ]
      }
     },
     "60cbe0fddc1443709cdcd28f7d015e5b": {
      "model_module": "jupyter-leaflet",
      "model_module_version": "^0.19",
      "model_name": "LeafletMapModel",
      "state": {
       "_model_module_version": "^0.19",
       "_view_module_version": "^0.19",
       "bottom": 3253322,
       "center": [
        37.40255102783601,
        -122.11651325225831
       ],
       "controls": [
        "IPY_MODEL_e980405f46134a02b890ff47a734f794",
        "IPY_MODEL_27f89d06340b40d9b18c3400c81e026a"
       ],
       "default_style": "IPY_MODEL_9d9c6595a4be44ef95f00d8a508c99e6",
       "dragging_style": "IPY_MODEL_a692d795388145b59e869c583bca176e",
       "east": -122.11651325225831,
       "fullscreen": false,
       "interpolation": "bilinear",
       "layers": [
        "IPY_MODEL_44539bcd906a4b2c8412068472788383",
        "IPY_MODEL_32873aab32f64fc5b100e774679b67e7",
        "IPY_MODEL_78f3f02b2e63424b84f0210de1c7c0bf"
       ],
       "layout": "IPY_MODEL_c704d11b7d234e44bb2ca68b41da8dd1",
       "left": 1348783,
       "modisdate": "2024-06-03",
       "north": 37.40255102783601,
       "options": [
        "bounce_at_zoom_limits",
        "box_zoom",
        "center",
        "close_popup_on_click",
        "double_click_zoom",
        "dragging",
        "fullscreen",
        "inertia",
        "inertia_deceleration",
        "inertia_max_speed",
        "interpolation",
        "keyboard",
        "keyboard_pan_offset",
        "keyboard_zoom_offset",
        "max_zoom",
        "min_zoom",
        "prefer_canvas",
        "scroll_wheel_zoom",
        "tap",
        "tap_tolerance",
        "touch_zoom",
        "world_copy_jump",
        "zoom",
        "zoom_animation_threshold",
        "zoom_delta",
        "zoom_snap"
       ],
       "prefer_canvas": false,
       "right": 1348783,
       "south": 37.40255102783601,
       "style": "IPY_MODEL_9d9c6595a4be44ef95f00d8a508c99e6",
       "top": 3253322,
       "west": -122.11651325225831,
       "window_url": "http://localhost:8888/notebooks/RoundTripRoutes.ipynb",
       "zoom": 15
      }
     },
     "62a21277791b4e329309c558db364796": {
      "model_module": "jupyter-leaflet",
      "model_module_version": "^0.19",
      "model_name": "LeafletMarkerModel",
      "state": {
       "_model_module_version": "^0.19",
       "_view_module_version": "^0.19",
       "icon": "IPY_MODEL_983fca2b07364160b7d145ce78ab910d",
       "location": [
        37.40292603247723,
        -122.1198606491089
       ],
       "options": [
        "alt",
        "draggable",
        "keyboard",
        "rise_offset",
        "rise_on_hover",
        "rotation_angle",
        "rotation_origin",
        "title",
        "z_index_offset"
       ]
      }
     },
     "638d593ff65740b88982ff3909d16d4a": {
      "model_module": "jupyter-leaflet",
      "model_module_version": "^0.19",
      "model_name": "LeafletMarkerModel",
      "state": {
       "_model_module_version": "^0.19",
       "_view_module_version": "^0.19",
       "icon": "IPY_MODEL_fe8083ea9047497b810ea8c88085955b",
       "location": [
        37.406948691487706,
        -122.11531162261964
       ],
       "options": [
        "alt",
        "draggable",
        "keyboard",
        "rise_offset",
        "rise_on_hover",
        "rotation_angle",
        "rotation_origin",
        "title",
        "z_index_offset"
       ]
      }
     },
     "65465b7b78f4449eb7d4baa8ae57ed8a": {
      "model_module": "@jupyter-widgets/base",
      "model_module_version": "2.0.0",
      "model_name": "LayoutModel",
      "state": {}
     },
     "67387e2195c144509948135d45380cc6": {
      "model_module": "jupyter-leaflet",
      "model_module_version": "^0.19",
      "model_name": "LeafletMapStyleModel",
      "state": {
       "_model_module_version": "^0.19"
      }
     },
     "673a818534a046ccb756574a69ccdbc1": {
      "model_module": "jupyter-leaflet",
      "model_module_version": "^0.19",
      "model_name": "LeafletMapStyleModel",
      "state": {
       "_model_module_version": "^0.19"
      }
     },
     "6752be5e1ea44b9f97af390b110b0ca0": {
      "model_module": "jupyter-leaflet",
      "model_module_version": "^0.19",
      "model_name": "LeafletTileLayerModel",
      "state": {
       "_model_module_version": "^0.19",
       "_view_module_version": "^0.19",
       "attribution": "&copy; <a href=\"https://www.openstreetmap.org/copyright\">OpenStreetMap</a> contributors",
       "base": true,
       "max_zoom": 19,
       "min_zoom": 1,
       "name": "OpenStreetMap.Mapnik",
       "options": [
        "attribution",
        "bounds",
        "detect_retina",
        "max_native_zoom",
        "max_zoom",
        "min_native_zoom",
        "min_zoom",
        "no_wrap",
        "tile_size",
        "tms",
        "zoom_offset"
       ],
       "url": "https://tile.openstreetmap.org/{z}/{x}/{y}.png"
      }
     },
     "693b74c87fea4b3abc485f2bf0a1254d": {
      "model_module": "jupyter-leaflet",
      "model_module_version": "^0.19",
      "model_name": "LeafletZoomControlModel",
      "state": {
       "_model_module_version": "^0.19",
       "_view_module_version": "^0.19",
       "options": [
        "position",
        "zoom_in_text",
        "zoom_in_title",
        "zoom_out_text",
        "zoom_out_title"
       ]
      }
     },
     "6971da79a2bd46cfa4c7a4843f82fd3e": {
      "model_module": "jupyter-leaflet",
      "model_module_version": "^0.19",
      "model_name": "LeafletMapModel",
      "state": {
       "_model_module_version": "^0.19",
       "_view_module_version": "^0.19",
       "bottom": 3253522,
       "center": [
        37.40253645,
        -122.1165510679842
       ],
       "controls": [
        "IPY_MODEL_81f406c4fcf44c55b40b404a6018c15f",
        "IPY_MODEL_b88bacbe86bd4cea827d6cf25bca92be"
       ],
       "default_style": "IPY_MODEL_fa50aace3b6744919840df73b683bc73",
       "dragging_style": "IPY_MODEL_2473969558cb4dc5b4d24365920f000a",
       "east": -122.0929527282715,
       "fullscreen": false,
       "interpolation": "bilinear",
       "layers": [
        "IPY_MODEL_bad44394fad24478baa1addd27e08f7e",
        "IPY_MODEL_78f3f02b2e63424b84f0210de1c7c0bf",
        "IPY_MODEL_2058b3f2f6f84fb4ba4043abf0169ce8",
        "IPY_MODEL_390b7c8ac5de4ea38d32336f63cd43db",
        "IPY_MODEL_91fed67810a54decadcc3d5294b3bcdd",
        "IPY_MODEL_0f09756b68a54154bc06c6bfb482b2e4",
        "IPY_MODEL_c5383d65c3594890b943ac023de4df29"
       ],
       "layout": "IPY_MODEL_7d6c8a060df04fabbef80cd7577a0dbe",
       "left": 1348233,
       "modisdate": "2024-06-03",
       "north": 37.40936900089054,
       "options": [
        "bounce_at_zoom_limits",
        "box_zoom",
        "center",
        "close_popup_on_click",
        "double_click_zoom",
        "dragging",
        "fullscreen",
        "inertia",
        "inertia_deceleration",
        "inertia_max_speed",
        "interpolation",
        "keyboard",
        "keyboard_pan_offset",
        "keyboard_zoom_offset",
        "max_zoom",
        "min_zoom",
        "prefer_canvas",
        "scroll_wheel_zoom",
        "tap",
        "tap_tolerance",
        "touch_zoom",
        "world_copy_jump",
        "zoom",
        "zoom_animation_threshold",
        "zoom_delta",
        "zoom_snap"
       ],
       "prefer_canvas": false,
       "right": 1349332,
       "south": 37.39573243437289,
       "style": "IPY_MODEL_fa50aace3b6744919840df73b683bc73",
       "top": 3253122,
       "west": -122.14011669158937,
       "window_url": "http://localhost:8888/notebooks/RoundTripRoutes.ipynb",
       "zoom": 15
      }
     },
     "6a9cbe1b12f148dc958723fc0add76b5": {
      "model_module": "jupyter-leaflet",
      "model_module_version": "^0.19",
      "model_name": "LeafletMapModel",
      "state": {
       "_model_module_version": "^0.19",
       "_view_module_version": "^0.19",
       "center": [
        37.40255102783601,
        -122.11651325225831
       ],
       "controls": [
        "IPY_MODEL_9d40b0f46a6f4d7eb0cc9622894245a0",
        "IPY_MODEL_b7aee8ee6a9b48a1ac28f11830c2a33c"
       ],
       "default_style": "IPY_MODEL_0439a501fde14f939e6fd350aca1310e",
       "dragging_style": "IPY_MODEL_05a1b193549f4a509fd01cca08a6b9eb",
       "east": null,
       "fullscreen": false,
       "interpolation": "bilinear",
       "layers": [
        "IPY_MODEL_d17bedce14b44cf4bca5e93cf5a6173a",
        "IPY_MODEL_c7728dbe71b24a929cd73ab37515aa87",
        "IPY_MODEL_20ba26ea42dd40d595e5d733966884b3"
       ],
       "layout": "IPY_MODEL_16f5fad74dce44c99876f4c78b1940ab",
       "modisdate": "2024-06-03",
       "north": -90,
       "options": [
        "bounce_at_zoom_limits",
        "box_zoom",
        "center",
        "close_popup_on_click",
        "double_click_zoom",
        "dragging",
        "fullscreen",
        "inertia",
        "inertia_deceleration",
        "inertia_max_speed",
        "interpolation",
        "keyboard",
        "keyboard_pan_offset",
        "keyboard_zoom_offset",
        "max_zoom",
        "min_zoom",
        "prefer_canvas",
        "scroll_wheel_zoom",
        "tap",
        "tap_tolerance",
        "touch_zoom",
        "world_copy_jump",
        "zoom",
        "zoom_animation_threshold",
        "zoom_delta",
        "zoom_snap"
       ],
       "prefer_canvas": false,
       "south": 90,
       "style": "IPY_MODEL_0439a501fde14f939e6fd350aca1310e",
       "west": null,
       "window_url": "http://localhost:8888/notebooks/RoundTripRoutes.ipynb",
       "zoom": 15
      }
     },
     "6d03ee71103348d2af5044ae3a266dd4": {
      "model_module": "jupyter-leaflet",
      "model_module_version": "^0.19",
      "model_name": "LeafletMapStyleModel",
      "state": {
       "_model_module_version": "^0.19",
       "cursor": "move"
      }
     },
     "6e7ac2dfb7e247d7b701642c1576e4f7": {
      "model_module": "jupyter-leaflet",
      "model_module_version": "^0.19",
      "model_name": "LeafletMapStyleModel",
      "state": {
       "_model_module_version": "^0.19",
       "cursor": "move"
      }
     },
     "7057f36aa396489398fd8af7f25e2212": {
      "model_module": "jupyter-leaflet",
      "model_module_version": "^0.19",
      "model_name": "LeafletMapModel",
      "state": {
       "_model_module_version": "^0.19",
       "_view_module_version": "^0.19",
       "bottom": 3253322,
       "center": [
        37.40255102783601,
        -122.11651325225831
       ],
       "controls": [
        "IPY_MODEL_f914a7032e82437ca1192ae9e323e424",
        "IPY_MODEL_a4981aead4c144d8a3b5688571398b33"
       ],
       "default_style": "IPY_MODEL_76647f9f57b64b3a96f64774d9023afe",
       "dragging_style": "IPY_MODEL_fa5a962ea15e4943b6f62ff60514f460",
       "east": -122.11651325225831,
       "fullscreen": false,
       "interpolation": "bilinear",
       "layers": [
        "IPY_MODEL_6752be5e1ea44b9f97af390b110b0ca0",
        "IPY_MODEL_78f3f02b2e63424b84f0210de1c7c0bf"
       ],
       "layout": "IPY_MODEL_875f9cf419554fb8b4e54393ade8731b",
       "left": 1348783,
       "modisdate": "2024-06-03",
       "north": 37.40255102783601,
       "options": [
        "bounce_at_zoom_limits",
        "box_zoom",
        "center",
        "close_popup_on_click",
        "double_click_zoom",
        "dragging",
        "fullscreen",
        "inertia",
        "inertia_deceleration",
        "inertia_max_speed",
        "interpolation",
        "keyboard",
        "keyboard_pan_offset",
        "keyboard_zoom_offset",
        "max_zoom",
        "min_zoom",
        "prefer_canvas",
        "scroll_wheel_zoom",
        "tap",
        "tap_tolerance",
        "touch_zoom",
        "world_copy_jump",
        "zoom",
        "zoom_animation_threshold",
        "zoom_delta",
        "zoom_snap"
       ],
       "prefer_canvas": false,
       "right": 1348783,
       "south": 37.40255102783601,
       "style": "IPY_MODEL_76647f9f57b64b3a96f64774d9023afe",
       "top": 3253322,
       "west": -122.11651325225831,
       "window_url": "http://localhost:8888/notebooks/RoundTripRoutes.ipynb",
       "zoom": 15
      }
     },
     "72072971f62b4962ab05607386191f80": {
      "model_module": "jupyter-leaflet",
      "model_module_version": "^0.19",
      "model_name": "LeafletMapStyleModel",
      "state": {
       "_model_module_version": "^0.19"
      }
     },
     "7294f29e344c4a40860ead37d54f0847": {
      "model_module": "jupyter-leaflet",
      "model_module_version": "^0.19",
      "model_name": "LeafletMarkerModel",
      "state": {
       "_model_module_version": "^0.19",
       "_view_module_version": "^0.19",
       "icon": "IPY_MODEL_fe8083ea9047497b810ea8c88085955b",
       "location": [
        37.406198720593814,
        -122.11917400360109
       ],
       "options": [
        "alt",
        "draggable",
        "keyboard",
        "rise_offset",
        "rise_on_hover",
        "rotation_angle",
        "rotation_origin",
        "title",
        "z_index_offset"
       ]
      }
     },
     "76647f9f57b64b3a96f64774d9023afe": {
      "model_module": "jupyter-leaflet",
      "model_module_version": "^0.19",
      "model_name": "LeafletMapStyleModel",
      "state": {
       "_model_module_version": "^0.19"
      }
     },
     "773131b1587e41a99f19a7e467116903": {
      "model_module": "jupyter-leaflet",
      "model_module_version": "^0.19",
      "model_name": "LeafletAttributionControlModel",
      "state": {
       "_model_module_version": "^0.19",
       "_view_module_version": "^0.19",
       "options": [
        "position",
        "prefix"
       ],
       "position": "bottomright",
       "prefix": "ipyleaflet"
      }
     },
     "780809207b174b09a9f4e3fec914636a": {
      "model_module": "jupyter-leaflet",
      "model_module_version": "^0.19",
      "model_name": "LeafletTileLayerModel",
      "state": {
       "_model_module_version": "^0.19",
       "_view_module_version": "^0.19",
       "attribution": "&copy; <a href=\"https://www.openstreetmap.org/copyright\">OpenStreetMap</a> contributors",
       "base": true,
       "max_zoom": 19,
       "min_zoom": 1,
       "name": "OpenStreetMap.Mapnik",
       "options": [
        "attribution",
        "bounds",
        "detect_retina",
        "max_native_zoom",
        "max_zoom",
        "min_native_zoom",
        "min_zoom",
        "no_wrap",
        "tile_size",
        "tms",
        "zoom_offset"
       ],
       "url": "https://tile.openstreetmap.org/{z}/{x}/{y}.png"
      }
     },
     "78f3f02b2e63424b84f0210de1c7c0bf": {
      "model_module": "jupyter-leaflet",
      "model_module_version": "^0.19",
      "model_name": "LeafletMarkerModel",
      "state": {
       "_model_module_version": "^0.19",
       "_view_module_version": "^0.19",
       "draggable": false,
       "icon": "IPY_MODEL_3c1b6830883d42eaa014d30a34fe29a1",
       "location": [
        37.40253645,
        -122.1165510679842
       ],
       "options": [
        "alt",
        "draggable",
        "keyboard",
        "rise_offset",
        "rise_on_hover",
        "rotation_angle",
        "rotation_origin",
        "title",
        "z_index_offset"
       ]
      }
     },
     "7bb6f37da9af4828a4284cf86ca2520c": {
      "model_module": "jupyter-leaflet",
      "model_module_version": "^0.19",
      "model_name": "LeafletAwesomeIconModel",
      "state": {
       "_model_module_version": "^0.19",
       "_view_module_version": "^0.19",
       "icon_color": "black",
       "name": "flag"
      }
     },
     "7d6c8a060df04fabbef80cd7577a0dbe": {
      "model_module": "@jupyter-widgets/base",
      "model_module_version": "2.0.0",
      "model_name": "LayoutModel",
      "state": {}
     },
     "7de21f4171c749a4bd815faef0738bbf": {
      "model_module": "jupyter-leaflet",
      "model_module_version": "^0.19",
      "model_name": "LeafletAwesomeIconModel",
      "state": {
       "_model_module_version": "^0.19",
       "_view_module_version": "^0.19",
       "icon_color": "black",
       "marker_color": "red",
       "name": "flag"
      }
     },
     "81c3193fa4974f16abf88cf781d6adc9": {
      "model_module": "jupyter-leaflet",
      "model_module_version": "^0.19",
      "model_name": "LeafletAwesomeIconModel",
      "state": {
       "_model_module_version": "^0.19",
       "_view_module_version": "^0.19",
       "icon_color": "black",
       "name": "flag"
      }
     },
     "81f406c4fcf44c55b40b404a6018c15f": {
      "model_module": "jupyter-leaflet",
      "model_module_version": "^0.19",
      "model_name": "LeafletZoomControlModel",
      "state": {
       "_model_module_version": "^0.19",
       "_view_module_version": "^0.19",
       "options": [
        "position",
        "zoom_in_text",
        "zoom_in_title",
        "zoom_out_text",
        "zoom_out_title"
       ]
      }
     },
     "83550880e8634046985c8c09ee700d57": {
      "model_module": "jupyter-leaflet",
      "model_module_version": "^0.19",
      "model_name": "LeafletTileLayerModel",
      "state": {
       "_model_module_version": "^0.19",
       "_view_module_version": "^0.19",
       "attribution": "&copy; <a href=\"https://www.openstreetmap.org/copyright\">OpenStreetMap</a> contributors",
       "base": true,
       "max_zoom": 19,
       "min_zoom": 1,
       "name": "OpenStreetMap.Mapnik",
       "options": [
        "attribution",
        "bounds",
        "detect_retina",
        "max_native_zoom",
        "max_zoom",
        "min_native_zoom",
        "min_zoom",
        "no_wrap",
        "tile_size",
        "tms",
        "zoom_offset"
       ],
       "url": "https://tile.openstreetmap.org/{z}/{x}/{y}.png"
      }
     },
     "84841b4df7cd43faa488d39f67c1de78": {
      "model_module": "jupyter-leaflet",
      "model_module_version": "^0.19",
      "model_name": "LeafletPolylineModel",
      "state": {
       "_model_module_version": "^0.19",
       "_view_module_version": "^0.19",
       "color": "green",
       "draggable": false,
       "fill": false,
       "locations": [
        [
         37.402687,
         -122.116361
        ],
        [
         37.40234,
         -122.115924
        ],
        [
         37.402405,
         -122.115948
        ],
        [
         37.402432,
         -122.115918
        ],
        [
         37.402439,
         -122.115911
        ],
        [
         37.402284,
         -122.115691
        ],
        [
         37.401937,
         -122.115199
        ],
        [
         37.401762,
         -122.114891
        ],
        [
         37.401605,
         -122.1146
        ],
        [
         37.401268,
         -122.113971
        ],
        [
         37.401241,
         -122.113941
        ],
        [
         37.401203,
         -122.113924
        ],
        [
         37.401153,
         -122.113918
        ],
        [
         37.40111,
         -122.113799
        ],
        [
         37.401048,
         -122.113663
        ],
        [
         37.401031,
         -122.113677
        ],
        [
         37.400864,
         -122.113818
        ],
        [
         37.400699,
         -122.113939
        ],
        [
         37.400566,
         -122.114029
        ],
        [
         37.400391,
         -122.114135
        ],
        [
         37.400236,
         -122.114221
        ],
        [
         37.400119,
         -122.114253
        ],
        [
         37.399375,
         -122.114243
        ],
        [
         37.399007,
         -122.114235
        ],
        [
         37.39857,
         -122.114225
        ],
        [
         37.398374,
         -122.11423
        ],
        [
         37.398193,
         -122.114228
        ],
        [
         37.398143,
         -122.114229
        ],
        [
         37.397471,
         -122.114219
        ],
        [
         37.39747,
         -122.114365
        ],
        [
         37.39714,
         -122.114367
        ],
        [
         37.396936,
         -122.114367
        ],
        [
         37.396886,
         -122.114367
        ],
        [
         37.396789,
         -122.114368
        ],
        [
         37.396794,
         -122.114465
        ],
        [
         37.396795,
         -122.114488
        ],
        [
         37.396828,
         -122.115095
        ],
        [
         37.39677,
         -122.1151
        ],
        [
         37.396771,
         -122.115064
        ],
        [
         37.396728,
         -122.114514
        ],
        [
         37.396678,
         -122.114481
        ],
        [
         37.396091,
         -122.114458
        ],
        [
         37.396091,
         -122.114458
        ],
        [
         37.396678,
         -122.114481
        ],
        [
         37.396728,
         -122.114514
        ],
        [
         37.396771,
         -122.115064
        ],
        [
         37.39677,
         -122.1151
        ],
        [
         37.396828,
         -122.115095
        ],
        [
         37.396795,
         -122.114488
        ],
        [
         37.396794,
         -122.114465
        ],
        [
         37.396789,
         -122.114368
        ],
        [
         37.396886,
         -122.114367
        ],
        [
         37.396936,
         -122.114367
        ],
        [
         37.39714,
         -122.114367
        ],
        [
         37.39747,
         -122.114365
        ],
        [
         37.397648,
         -122.114366
        ],
        [
         37.397683,
         -122.114366
        ],
        [
         37.39838,
         -122.114373
        ],
        [
         37.398449,
         -122.114377
        ],
        [
         37.398747,
         -122.114374
        ],
        [
         37.398878,
         -122.114375
        ],
        [
         37.399664,
         -122.114376
        ],
        [
         37.399762,
         -122.114376
        ],
        [
         37.399963,
         -122.114379
        ],
        [
         37.400127,
         -122.114376
        ],
        [
         37.400249,
         -122.114356
        ],
        [
         37.400337,
         -122.114308
        ],
        [
         37.400602,
         -122.114135
        ],
        [
         37.400631,
         -122.114215
        ],
        [
         37.401153,
         -122.113918
        ],
        [
         37.401203,
         -122.113924
        ],
        [
         37.401241,
         -122.113941
        ],
        [
         37.401268,
         -122.113971
        ],
        [
         37.401605,
         -122.1146
        ],
        [
         37.401762,
         -122.114891
        ],
        [
         37.401937,
         -122.115199
        ],
        [
         37.402284,
         -122.115691
        ],
        [
         37.402439,
         -122.115911
        ],
        [
         37.402432,
         -122.115918
        ],
        [
         37.402405,
         -122.115948
        ],
        [
         37.40234,
         -122.115924
        ],
        [
         37.402687,
         -122.116361
        ]
       ],
       "options": [
        "color",
        "dash_array",
        "draggable",
        "fill",
        "fill_color",
        "fill_opacity",
        "line_cap",
        "line_join",
        "no_clip",
        "opacity",
        "pointer_events",
        "smooth_factor",
        "stroke",
        "transform",
        "weight"
       ],
       "rotation": true,
       "scaling": true,
       "transform": false,
       "uniform_scaling": false
      }
     },
     "85c06c51038e4354b95596e8dc99e4b0": {
      "model_module": "jupyter-leaflet",
      "model_module_version": "^0.19",
      "model_name": "LeafletMarkerModel",
      "state": {
       "_model_module_version": "^0.19",
       "_view_module_version": "^0.19",
       "icon": "IPY_MODEL_fe8083ea9047497b810ea8c88085955b",
       "location": [
        37.403164670817254,
        -122.11423873901369
       ],
       "options": [
        "alt",
        "draggable",
        "keyboard",
        "rise_offset",
        "rise_on_hover",
        "rotation_angle",
        "rotation_origin",
        "title",
        "z_index_offset"
       ]
      }
     },
     "875f9cf419554fb8b4e54393ade8731b": {
      "model_module": "@jupyter-widgets/base",
      "model_module_version": "2.0.0",
      "model_name": "LayoutModel",
      "state": {}
     },
     "88730a6ed318460dbcd3b5339f38e9f4": {
      "model_module": "jupyter-leaflet",
      "model_module_version": "^0.19",
      "model_name": "LeafletMapStyleModel",
      "state": {
       "_model_module_version": "^0.19"
      }
     },
     "89de180a80bd4be094885b2ce8abb51b": {
      "model_module": "jupyter-leaflet",
      "model_module_version": "^0.19",
      "model_name": "LeafletMarkerModel",
      "state": {
       "_model_module_version": "^0.19",
       "_view_module_version": "^0.19",
       "icon": "IPY_MODEL_a3d7099d6b6d4a439e596584c52a5b03",
       "location": [
        37.40722140631514,
        -122.1158266067505
       ],
       "options": [
        "alt",
        "draggable",
        "keyboard",
        "rise_offset",
        "rise_on_hover",
        "rotation_angle",
        "rotation_origin",
        "title",
        "z_index_offset"
       ]
      }
     },
     "8bff3ad3f4d6495daa2c71384481dd4f": {
      "model_module": "jupyter-leaflet",
      "model_module_version": "^0.19",
      "model_name": "LeafletZoomControlModel",
      "state": {
       "_model_module_version": "^0.19",
       "_view_module_version": "^0.19",
       "options": [
        "position",
        "zoom_in_text",
        "zoom_in_title",
        "zoom_out_text",
        "zoom_out_title"
       ]
      }
     },
     "8e99922f3834482090d0b748cebc7c6e": {
      "model_module": "jupyter-leaflet",
      "model_module_version": "^0.19",
      "model_name": "LeafletPolylineModel",
      "state": {
       "_model_module_version": "^0.19",
       "_view_module_version": "^0.19",
       "color": "green",
       "draggable": false,
       "fill": false,
       "locations": [
        [
         37.402687,
         -122.116361
        ],
        [
         37.40234,
         -122.115924
        ],
        [
         37.402405,
         -122.115948
        ],
        [
         37.402432,
         -122.115918
        ],
        [
         37.402439,
         -122.115911
        ],
        [
         37.402284,
         -122.115691
        ],
        [
         37.401937,
         -122.115199
        ],
        [
         37.401762,
         -122.114891
        ],
        [
         37.401605,
         -122.1146
        ],
        [
         37.401268,
         -122.113971
        ],
        [
         37.401241,
         -122.113941
        ],
        [
         37.401203,
         -122.113924
        ],
        [
         37.401153,
         -122.113918
        ],
        [
         37.400631,
         -122.114215
        ],
        [
         37.400257,
         -122.114443
        ],
        [
         37.40022,
         -122.114467
        ],
        [
         37.400204,
         -122.114535
        ],
        [
         37.400203,
         -122.114909
        ],
        [
         37.400126,
         -122.114921
        ],
        [
         37.400127,
         -122.114839
        ],
        [
         37.400127,
         -122.114839
        ],
        [
         37.400126,
         -122.114921
        ],
        [
         37.400125,
         -122.114984
        ],
        [
         37.400125,
         -122.115648
        ],
        [
         37.400123,
         -122.11632
        ],
        [
         37.400124,
         -122.117349
        ],
        [
         37.400121,
         -122.118362
        ],
        [
         37.400089,
         -122.11845
        ],
        [
         37.400054,
         -122.118531
        ],
        [
         37.400041,
         -122.118579
        ],
        [
         37.400041,
         -122.118579
        ],
        [
         37.399991,
         -122.118764
        ],
        [
         37.399954,
         -122.11898
        ],
        [
         37.39994,
         -122.119267
        ],
        [
         37.399931,
         -122.121658
        ],
        [
         37.399931,
         -122.121729
        ],
        [
         37.40008,
         -122.121744
        ],
        [
         37.400108,
         -122.121749
        ],
        [
         37.400249,
         -122.121772
        ],
        [
         37.400391,
         -122.121779
        ],
        [
         37.40059,
         -122.121763
        ],
        [
         37.400725,
         -122.121724
        ],
        [
         37.400761,
         -122.121714
        ],
        [
         37.40091,
         -122.121645
        ],
        [
         37.401058,
         -122.121553
        ],
        [
         37.401195,
         -122.121441
        ],
        [
         37.401329,
         -122.121317
        ],
        [
         37.401482,
         -122.121178
        ],
        [
         37.401626,
         -122.121042
        ],
        [
         37.40187,
         -122.120818
        ],
        [
         37.402759,
         -122.119994
        ],
        [
         37.40288,
         -122.119882
        ],
        [
         37.402918,
         -122.119847
        ],
        [
         37.402918,
         -122.119847
        ],
        [
         37.403002,
         -122.119769
        ],
        [
         37.403496,
         -122.119311
        ],
        [
         37.403534,
         -122.119275
        ],
        [
         37.403822,
         -122.119008
        ],
        [
         37.404073,
         -122.118775
        ],
        [
         37.404161,
         -122.118694
        ],
        [
         37.404117,
         -122.118605
        ],
        [
         37.404295,
         -122.118451
        ],
        [
         37.40425,
         -122.118376
        ],
        [
         37.404261,
         -122.118191
        ],
        [
         37.404325,
         -122.118102
        ],
        [
         37.40415,
         -122.117897
        ],
        [
         37.403953,
         -122.117659
        ],
        [
         37.403531,
         -122.117178
        ],
        [
         37.403145,
         -122.116732
        ],
        [
         37.403126,
         -122.11676
        ],
        [
         37.40308,
         -122.116825
        ],
        [
         37.402997,
         -122.11675
        ],
        [
         37.402687,
         -122.116361
        ]
       ],
       "options": [
        "color",
        "dash_array",
        "draggable",
        "fill",
        "fill_color",
        "fill_opacity",
        "line_cap",
        "line_join",
        "no_clip",
        "opacity",
        "pointer_events",
        "smooth_factor",
        "stroke",
        "transform",
        "weight"
       ],
       "rotation": true,
       "scaling": true,
       "transform": false,
       "uniform_scaling": false
      }
     },
     "8f2aa9c98c674cbbba2f7d8cb8e714cd": {
      "model_module": "jupyter-leaflet",
      "model_module_version": "^0.19",
      "model_name": "LeafletMapModel",
      "state": {
       "_model_module_version": "^0.19",
       "_view_module_version": "^0.19",
       "bottom": 3253324,
       "center": [
        37.409300824231146,
        -122.14009523391725
       ],
       "controls": [
        "IPY_MODEL_57b5a22ac670430d98d4d837641e198d",
        "IPY_MODEL_773131b1587e41a99f19a7e467116903"
       ],
       "default_style": "IPY_MODEL_3dc10b6c6e5e4ed38b48fa189b0be9be",
       "dragging_style": "IPY_MODEL_0fea99b19d7f43068edfd71092862f86",
       "east": -122.11651325225831,
       "fullscreen": false,
       "interpolation": "bilinear",
       "layers": [
        "IPY_MODEL_55a623611711422f950fdb98b50d2342",
        "IPY_MODEL_78f3f02b2e63424b84f0210de1c7c0bf",
        "IPY_MODEL_e5d68a97770e4bfb8dbe458eacd8076b",
        "IPY_MODEL_84841b4df7cd43faa488d39f67c1de78",
        "IPY_MODEL_216860e143bd45eb9f019405a452bed8"
       ],
       "layout": "IPY_MODEL_c68794593a6c42018beb74501f373ca6",
       "left": 1347684,
       "modisdate": "2024-06-03",
       "north": 37.41611818304169,
       "options": [
        "bounce_at_zoom_limits",
        "box_zoom",
        "center",
        "close_popup_on_click",
        "double_click_zoom",
        "dragging",
        "fullscreen",
        "inertia",
        "inertia_deceleration",
        "inertia_max_speed",
        "interpolation",
        "keyboard",
        "keyboard_pan_offset",
        "keyboard_zoom_offset",
        "max_zoom",
        "min_zoom",
        "prefer_canvas",
        "scroll_wheel_zoom",
        "tap",
        "tap_tolerance",
        "touch_zoom",
        "world_copy_jump",
        "zoom",
        "zoom_animation_threshold",
        "zoom_delta",
        "zoom_snap"
       ],
       "prefer_canvas": false,
       "right": 1348783,
       "south": 37.40248284497232,
       "style": "IPY_MODEL_3dc10b6c6e5e4ed38b48fa189b0be9be",
       "top": 3252924,
       "west": -122.16367721557619,
       "window_url": "http://localhost:8888/notebooks/RoundTripRoutes.ipynb",
       "zoom": 15
      }
     },
     "91fed67810a54decadcc3d5294b3bcdd": {
      "model_module": "jupyter-leaflet",
      "model_module_version": "^0.19",
      "model_name": "LeafletMarkerModel",
      "state": {
       "_model_module_version": "^0.19",
       "_view_module_version": "^0.19",
       "icon": "IPY_MODEL_81c3193fa4974f16abf88cf781d6adc9",
       "location": [
        37.40323285306051,
        -122.11415290832521
       ],
       "options": [
        "alt",
        "draggable",
        "keyboard",
        "rise_offset",
        "rise_on_hover",
        "rotation_angle",
        "rotation_origin",
        "title",
        "z_index_offset"
       ]
      }
     },
     "9245b3c2a7204e44a5c09996c487d862": {
      "model_module": "jupyter-leaflet",
      "model_module_version": "^0.19",
      "model_name": "LeafletPolylineModel",
      "state": {
       "_model_module_version": "^0.19",
       "_view_module_version": "^0.19",
       "color": "green",
       "draggable": false,
       "fill": false,
       "locations": [
        [
         37.402687,
         -122.116361
        ],
        [
         37.402997,
         -122.11675
        ],
        [
         37.40308,
         -122.116825
        ],
        [
         37.403126,
         -122.11676
        ],
        [
         37.403145,
         -122.116732
        ],
        [
         37.403206,
         -122.116646
        ],
        [
         37.402648,
         -122.116022
        ],
        [
         37.402495,
         -122.115848
        ],
        [
         37.402331,
         -122.115647
        ],
        [
         37.402196,
         -122.115435
        ],
        [
         37.40204,
         -122.115186
        ],
        [
         37.402011,
         -122.115136
        ],
        [
         37.401831,
         -122.114833
        ],
        [
         37.401673,
         -122.114535
        ],
        [
         37.401304,
         -122.113854
        ],
        [
         37.401292,
         -122.113832
        ],
        [
         37.401231,
         -122.113719
        ],
        [
         37.401154,
         -122.113574
        ],
        [
         37.401304,
         -122.113465
        ],
        [
         37.40138,
         -122.113611
        ],
        [
         37.401439,
         -122.113728
        ],
        [
         37.40172,
         -122.114271
        ],
        [
         37.401879,
         -122.114562
        ],
        [
         37.401964,
         -122.114717
        ],
        [
         37.40221,
         -122.115133
        ],
        [
         37.402298,
         -122.11528
        ],
        [
         37.402337,
         -122.115341
        ],
        [
         37.402438,
         -122.115484
        ],
        [
         37.403049,
         -122.11621
        ],
        [
         37.403156,
         -122.116339
        ],
        [
         37.403222,
         -122.116415
        ],
        [
         37.403255,
         -122.116454
        ],
        [
         37.403293,
         -122.116499
        ],
        [
         37.403457,
         -122.116693
        ],
        [
         37.403537,
         -122.116785
        ],
        [
         37.40361,
         -122.11687
        ],
        [
         37.403708,
         -122.116984
        ],
        [
         37.404117,
         -122.117461
        ],
        [
         37.404381,
         -122.117769
        ],
        [
         37.404556,
         -122.117972
        ],
        [
         37.404594,
         -122.118017
        ],
        [
         37.404603,
         -122.118028
        ],
        [
         37.404702,
         -122.118144
        ],
        [
         37.404765,
         -122.118213
        ],
        [
         37.405063,
         -122.118532
        ],
        [
         37.405578,
         -122.119123
        ],
        [
         37.405705,
         -122.119269
        ],
        [
         37.405736,
         -122.119305
        ],
        [
         37.405881,
         -122.119477
        ],
        [
         37.405937,
         -122.119402
        ],
        [
         37.405959,
         -122.119382
        ],
        [
         37.406252,
         -122.119108
        ],
        [
         37.406333,
         -122.119032
        ],
        [
         37.406428,
         -122.118924
        ],
        [
         37.406463,
         -122.118981
        ],
        [
         37.40672,
         -122.119352
        ],
        [
         37.406603,
         -122.119519
        ],
        [
         37.406426,
         -122.119312
        ],
        [
         37.406393,
         -122.119273
        ],
        [
         37.406393,
         -122.119273
        ],
        [
         37.406331,
         -122.1192
        ],
        [
         37.406295,
         -122.119158
        ],
        [
         37.406252,
         -122.119108
        ],
        [
         37.406333,
         -122.119032
        ],
        [
         37.406428,
         -122.118924
        ],
        [
         37.406676,
         -122.118641
        ],
        [
         37.40687,
         -122.118426
        ],
        [
         37.408091,
         -122.11722
        ],
        [
         37.408146,
         -122.117168
        ],
        [
         37.407708,
         -122.116467
        ],
        [
         37.407649,
         -122.116372
        ],
        [
         37.407603,
         -122.1163
        ],
        [
         37.407399,
         -122.115977
        ],
        [
         37.407273,
         -122.115864
        ],
        [
         37.407237,
         -122.11581
        ],
        [
         37.407237,
         -122.11581
        ],
        [
         37.40719,
         -122.115738
        ],
        [
         37.406782,
         -122.11509
        ],
        [
         37.406425,
         -122.11451
        ],
        [
         37.406309,
         -122.114322
        ],
        [
         37.406291,
         -122.114293
        ],
        [
         37.406245,
         -122.114218
        ],
        [
         37.406131,
         -122.114332
        ],
        [
         37.405907,
         -122.114555
        ],
        [
         37.405774,
         -122.114686
        ],
        [
         37.40559,
         -122.114869
        ],
        [
         37.405365,
         -122.115091
        ],
        [
         37.405353,
         -122.115103
        ],
        [
         37.405277,
         -122.11518
        ],
        [
         37.405227,
         -122.115108
        ],
        [
         37.405201,
         -122.11507
        ],
        [
         37.404908,
         -122.114601
        ],
        [
         37.404837,
         -122.114518
        ],
        [
         37.404753,
         -122.114438
        ],
        [
         37.404667,
         -122.114378
        ],
        [
         37.404584,
         -122.11434
        ],
        [
         37.40449,
         -122.114313
        ],
        [
         37.404441,
         -122.114282
        ],
        [
         37.404337,
         -122.114218
        ],
        [
         37.404225,
         -122.114105
        ],
        [
         37.404158,
         -122.114
        ],
        [
         37.404124,
         -122.113949
        ],
        [
         37.403912,
         -122.113622
        ],
        [
         37.403879,
         -122.113573
        ],
        [
         37.403848,
         -122.113522
        ],
        [
         37.403837,
         -122.113505
        ],
        [
         37.403785,
         -122.11342
        ],
        [
         37.403754,
         -122.11337
        ],
        [
         37.403672,
         -122.113238
        ],
        [
         37.403621,
         -122.113281
        ],
        [
         37.403173,
         -122.113662
        ],
        [
         37.403274,
         -122.113808
        ],
        [
         37.403264,
         -122.113923
        ],
        [
         37.403218,
         -122.113969
        ]
       ],
       "options": [
        "color",
        "dash_array",
        "draggable",
        "fill",
        "fill_color",
        "fill_opacity",
        "line_cap",
        "line_join",
        "no_clip",
        "opacity",
        "pointer_events",
        "smooth_factor",
        "stroke",
        "transform",
        "weight"
       ],
       "rotation": true,
       "scaling": true,
       "transform": false,
       "uniform_scaling": false
      }
     },
     "95b433e110fa47db91b9cdb213c20528": {
      "model_module": "jupyter-leaflet",
      "model_module_version": "^0.19",
      "model_name": "LeafletTileLayerModel",
      "state": {
       "_model_module_version": "^0.19",
       "_view_module_version": "^0.19",
       "attribution": "&copy; <a href=\"https://www.openstreetmap.org/copyright\">OpenStreetMap</a> contributors",
       "base": true,
       "max_zoom": 19,
       "min_zoom": 1,
       "name": "OpenStreetMap.Mapnik",
       "options": [
        "attribution",
        "bounds",
        "detect_retina",
        "max_native_zoom",
        "max_zoom",
        "min_native_zoom",
        "min_zoom",
        "no_wrap",
        "tile_size",
        "tms",
        "zoom_offset"
       ],
       "url": "https://tile.openstreetmap.org/{z}/{x}/{y}.png"
      }
     },
     "964a66ec70404805be6cc63e39f77b06": {
      "model_module": "jupyter-leaflet",
      "model_module_version": "^0.19",
      "model_name": "LeafletPolylineModel",
      "state": {
       "_model_module_version": "^0.19",
       "_view_module_version": "^0.19",
       "color": "green",
       "draggable": false,
       "fill": false,
       "locations": [
        [
         37.402687,
         -122.116361
        ],
        [
         37.402997,
         -122.11675
        ],
        [
         37.40308,
         -122.116825
        ],
        [
         37.403126,
         -122.11676
        ],
        [
         37.403145,
         -122.116732
        ],
        [
         37.403206,
         -122.116646
        ],
        [
         37.403564,
         -122.11707
        ],
        [
         37.40361,
         -122.11687
        ],
        [
         37.403537,
         -122.116785
        ],
        [
         37.403457,
         -122.116693
        ],
        [
         37.403293,
         -122.116499
        ],
        [
         37.403255,
         -122.116454
        ],
        [
         37.403222,
         -122.116415
        ],
        [
         37.403156,
         -122.116339
        ],
        [
         37.403049,
         -122.11621
        ],
        [
         37.402438,
         -122.115484
        ],
        [
         37.402337,
         -122.115341
        ],
        [
         37.402393,
         -122.115278
        ],
        [
         37.402429,
         -122.115238
        ],
        [
         37.402592,
         -122.115089
        ],
        [
         37.402719,
         -122.114983
        ],
        [
         37.402874,
         -122.114806
        ],
        [
         37.403027,
         -122.114616
        ],
        [
         37.403096,
         -122.114462
        ],
        [
         37.403255,
         -122.114362
        ],
        [
         37.403276,
         -122.114337
        ],
        [
         37.403276,
         -122.114337
        ],
        [
         37.403296,
         -122.114314
        ],
        [
         37.403385,
         -122.114128
        ],
        [
         37.403477,
         -122.113951
        ],
        [
         37.403665,
         -122.113844
        ],
        [
         37.403774,
         -122.113629
        ],
        [
         37.403848,
         -122.113522
        ],
        [
         37.403879,
         -122.113573
        ],
        [
         37.403912,
         -122.113622
        ],
        [
         37.404124,
         -122.113949
        ],
        [
         37.404184,
         -122.11389
        ],
        [
         37.404414,
         -122.113664
        ],
        [
         37.404425,
         -122.113499
        ],
        [
         37.404302,
         -122.113106
        ],
        [
         37.404473,
         -122.112938
        ],
        [
         37.404827,
         -122.112714
        ],
        [
         37.40499,
         -122.112655
        ],
        [
         37.40499,
         -122.112655
        ],
        [
         37.405121,
         -122.112608
        ],
        [
         37.405173,
         -122.112508
        ],
        [
         37.405473,
         -122.1122
        ],
        [
         37.405456,
         -122.112174
        ],
        [
         37.405371,
         -122.112042
        ],
        [
         37.405134,
         -122.111686
        ],
        [
         37.405062,
         -122.111573
        ],
        [
         37.405048,
         -122.111549
        ],
        [
         37.405002,
         -122.111451
        ],
        [
         37.405112,
         -122.111386
        ],
        [
         37.405246,
         -122.111307
        ],
        [
         37.40534,
         -122.111245
        ],
        [
         37.405451,
         -122.111179
        ],
        [
         37.405636,
         -122.111071
        ],
        [
         37.405749,
         -122.111004
        ],
        [
         37.405853,
         -122.110943
        ],
        [
         37.405907,
         -122.111033
        ],
        [
         37.40593,
         -122.111068
        ],
        [
         37.405966,
         -122.111127
        ],
        [
         37.406049,
         -122.111264
        ],
        [
         37.406131,
         -122.111404
        ],
        [
         37.406215,
         -122.111536
        ],
        [
         37.406305,
         -122.111679
        ],
        [
         37.40634,
         -122.111735
        ],
        [
         37.406496,
         -122.111995
        ],
        [
         37.406496,
         -122.111995
        ],
        [
         37.406555,
         -122.112092
        ],
        [
         37.406621,
         -122.1122
        ],
        [
         37.406745,
         -122.112398
        ],
        [
         37.407106,
         -122.112981
        ],
        [
         37.407184,
         -122.113107
        ],
        [
         37.407202,
         -122.113137
        ],
        [
         37.407252,
         -122.113219
        ],
        [
         37.407166,
         -122.113302
        ],
        [
         37.407076,
         -122.113396
        ],
        [
         37.406553,
         -122.113914
        ],
        [
         37.406245,
         -122.114218
        ],
        [
         37.406131,
         -122.114332
        ],
        [
         37.405907,
         -122.114555
        ],
        [
         37.405774,
         -122.114686
        ],
        [
         37.40559,
         -122.114869
        ],
        [
         37.405365,
         -122.115091
        ],
        [
         37.405353,
         -122.115103
        ],
        [
         37.405277,
         -122.11518
        ],
        [
         37.405247,
         -122.115208
        ],
        [
         37.405189,
         -122.115267
        ],
        [
         37.40478,
         -122.115678
        ],
        [
         37.404356,
         -122.116096
        ],
        [
         37.404335,
         -122.116116
        ],
        [
         37.404131,
         -122.116317
        ],
        [
         37.403959,
         -122.116487
        ],
        [
         37.403905,
         -122.116537
        ],
        [
         37.403753,
         -122.116689
        ],
        [
         37.403681,
         -122.11676
        ],
        [
         37.40366,
         -122.116787
        ],
        [
         37.40361,
         -122.11687
        ],
        [
         37.403564,
         -122.11707
        ],
        [
         37.403206,
         -122.116646
        ],
        [
         37.403145,
         -122.116732
        ],
        [
         37.403126,
         -122.11676
        ],
        [
         37.40308,
         -122.116825
        ],
        [
         37.402997,
         -122.11675
        ],
        [
         37.402687,
         -122.116361
        ]
       ],
       "options": [
        "color",
        "dash_array",
        "draggable",
        "fill",
        "fill_color",
        "fill_opacity",
        "line_cap",
        "line_join",
        "no_clip",
        "opacity",
        "pointer_events",
        "smooth_factor",
        "stroke",
        "transform",
        "weight"
       ],
       "rotation": true,
       "scaling": true,
       "transform": false,
       "uniform_scaling": false
      }
     },
     "983fca2b07364160b7d145ce78ab910d": {
      "model_module": "jupyter-leaflet",
      "model_module_version": "^0.19",
      "model_name": "LeafletAwesomeIconModel",
      "state": {
       "_model_module_version": "^0.19",
       "_view_module_version": "^0.19",
       "icon_color": "black",
       "name": "flag"
      }
     },
     "9d40b0f46a6f4d7eb0cc9622894245a0": {
      "model_module": "jupyter-leaflet",
      "model_module_version": "^0.19",
      "model_name": "LeafletZoomControlModel",
      "state": {
       "_model_module_version": "^0.19",
       "_view_module_version": "^0.19",
       "options": [
        "position",
        "zoom_in_text",
        "zoom_in_title",
        "zoom_out_text",
        "zoom_out_title"
       ]
      }
     },
     "9d6b542beced459daaf2e10863e55aa4": {
      "model_module": "@jupyter-widgets/base",
      "model_module_version": "2.0.0",
      "model_name": "LayoutModel",
      "state": {}
     },
     "9d9c6595a4be44ef95f00d8a508c99e6": {
      "model_module": "jupyter-leaflet",
      "model_module_version": "^0.19",
      "model_name": "LeafletMapStyleModel",
      "state": {
       "_model_module_version": "^0.19"
      }
     },
     "9e735f7ae5da486aa9385eaa5dd703ee": {
      "model_module": "jupyter-leaflet",
      "model_module_version": "^0.19",
      "model_name": "LeafletMarkerModel",
      "state": {
       "_model_module_version": "^0.19",
       "_view_module_version": "^0.19",
       "icon": "IPY_MODEL_983fca2b07364160b7d145ce78ab910d",
       "location": [
        37.40285784995478,
        -122.11458206176759
       ],
       "options": [
        "alt",
        "draggable",
        "keyboard",
        "rise_offset",
        "rise_on_hover",
        "rotation_angle",
        "rotation_origin",
        "title",
        "z_index_offset"
       ]
      }
     },
     "a05af8b9c2e04f3cbf31772939015640": {
      "model_module": "jupyter-leaflet",
      "model_module_version": "^0.19",
      "model_name": "LeafletMapStyleModel",
      "state": {
       "_model_module_version": "^0.19"
      }
     },
     "a0d8185f0a914d8caa8f8d44d8e0b533": {
      "model_module": "jupyter-leaflet",
      "model_module_version": "^0.19",
      "model_name": "LeafletMapStyleModel",
      "state": {
       "_model_module_version": "^0.19"
      }
     },
     "a0e80a8f13de471cbe2cb6694d82df44": {
      "model_module": "jupyter-leaflet",
      "model_module_version": "^0.19",
      "model_name": "LeafletAwesomeIconModel",
      "state": {
       "_model_module_version": "^0.19",
       "_view_module_version": "^0.19",
       "icon_color": "black",
       "name": "flag"
      }
     },
     "a1a4046a772742a9b03eaa34cbe64c9b": {
      "model_module": "jupyter-leaflet",
      "model_module_version": "^0.19",
      "model_name": "LeafletZoomControlModel",
      "state": {
       "_model_module_version": "^0.19",
       "_view_module_version": "^0.19",
       "options": [
        "position",
        "zoom_in_text",
        "zoom_in_title",
        "zoom_out_text",
        "zoom_out_title"
       ]
      }
     },
     "a1ac4853e55b411f82ab3c557df1044c": {
      "model_module": "jupyter-leaflet",
      "model_module_version": "^0.19",
      "model_name": "LeafletMapModel",
      "state": {
       "_model_module_version": "^0.19",
       "_view_module_version": "^0.19",
       "center": [
        37.40255102783601,
        -122.11651325225831
       ],
       "controls": [
        "IPY_MODEL_c338132910cf4ece8149e51856857a4c",
        "IPY_MODEL_4789807aa2b54b17905f4431dfd838c9"
       ],
       "default_style": "IPY_MODEL_88730a6ed318460dbcd3b5339f38e9f4",
       "dragging_style": "IPY_MODEL_6d03ee71103348d2af5044ae3a266dd4",
       "east": null,
       "fullscreen": false,
       "interpolation": "bilinear",
       "layers": [
        "IPY_MODEL_95b433e110fa47db91b9cdb213c20528",
        "IPY_MODEL_c7728dbe71b24a929cd73ab37515aa87",
        "IPY_MODEL_c154ad5e396b4405ac069fbc68556f56"
       ],
       "layout": "IPY_MODEL_260bbc4773a14ab4bf46a5426d0b1fb6",
       "modisdate": "2024-06-03",
       "north": -90,
       "options": [
        "bounce_at_zoom_limits",
        "box_zoom",
        "center",
        "close_popup_on_click",
        "double_click_zoom",
        "dragging",
        "fullscreen",
        "inertia",
        "inertia_deceleration",
        "inertia_max_speed",
        "interpolation",
        "keyboard",
        "keyboard_pan_offset",
        "keyboard_zoom_offset",
        "max_zoom",
        "min_zoom",
        "prefer_canvas",
        "scroll_wheel_zoom",
        "tap",
        "tap_tolerance",
        "touch_zoom",
        "world_copy_jump",
        "zoom",
        "zoom_animation_threshold",
        "zoom_delta",
        "zoom_snap"
       ],
       "prefer_canvas": false,
       "south": 90,
       "style": "IPY_MODEL_88730a6ed318460dbcd3b5339f38e9f4",
       "west": null,
       "window_url": "http://localhost:8888/notebooks/RoundTripRoutes.ipynb",
       "zoom": 15
      }
     },
     "a1f90c8f0ec546c0be361dd783a4df60": {
      "model_module": "@jupyter-widgets/base",
      "model_module_version": "2.0.0",
      "model_name": "LayoutModel",
      "state": {}
     },
     "a3d7099d6b6d4a439e596584c52a5b03": {
      "model_module": "jupyter-leaflet",
      "model_module_version": "^0.19",
      "model_name": "LeafletAwesomeIconModel",
      "state": {
       "_model_module_version": "^0.19",
       "_view_module_version": "^0.19",
       "icon_color": "black",
       "name": "flag"
      }
     },
     "a4981aead4c144d8a3b5688571398b33": {
      "model_module": "jupyter-leaflet",
      "model_module_version": "^0.19",
      "model_name": "LeafletAttributionControlModel",
      "state": {
       "_model_module_version": "^0.19",
       "_view_module_version": "^0.19",
       "options": [
        "position",
        "prefix"
       ],
       "position": "bottomright",
       "prefix": "ipyleaflet"
      }
     },
     "a692d795388145b59e869c583bca176e": {
      "model_module": "jupyter-leaflet",
      "model_module_version": "^0.19",
      "model_name": "LeafletMapStyleModel",
      "state": {
       "_model_module_version": "^0.19",
       "cursor": "move"
      }
     },
     "a6f44b1aade042709f35cf7295655ed2": {
      "model_module": "@jupyter-widgets/base",
      "model_module_version": "2.0.0",
      "model_name": "LayoutModel",
      "state": {}
     },
     "ac04e1fafe084a9e9ab9bf738c8e653f": {
      "model_module": "jupyter-leaflet",
      "model_module_version": "^0.19",
      "model_name": "LeafletAwesomeIconModel",
      "state": {
       "_model_module_version": "^0.19",
       "_view_module_version": "^0.19",
       "icon_color": "black",
       "name": "flag"
      }
     },
     "acc6319932ad41b692d1b4077388e05f": {
      "model_module": "jupyter-leaflet",
      "model_module_version": "^0.19",
      "model_name": "LeafletMapStyleModel",
      "state": {
       "_model_module_version": "^0.19"
      }
     },
     "b09c308e2a1148fc81cc49462ea27a76": {
      "model_module": "jupyter-leaflet",
      "model_module_version": "^0.19",
      "model_name": "LeafletAwesomeIconModel",
      "state": {
       "_model_module_version": "^0.19",
       "_view_module_version": "^0.19",
       "icon_color": "black",
       "marker_color": "red",
       "name": "flag"
      }
     },
     "b5ffdbd6fbd3401b873988ae74d90878": {
      "model_module": "jupyter-leaflet",
      "model_module_version": "^0.19",
      "model_name": "LeafletMapStyleModel",
      "state": {
       "_model_module_version": "^0.19",
       "cursor": "move"
      }
     },
     "b7aee8ee6a9b48a1ac28f11830c2a33c": {
      "model_module": "jupyter-leaflet",
      "model_module_version": "^0.19",
      "model_name": "LeafletAttributionControlModel",
      "state": {
       "_model_module_version": "^0.19",
       "_view_module_version": "^0.19",
       "options": [
        "position",
        "prefix"
       ],
       "position": "bottomright",
       "prefix": "ipyleaflet"
      }
     },
     "b88bacbe86bd4cea827d6cf25bca92be": {
      "model_module": "jupyter-leaflet",
      "model_module_version": "^0.19",
      "model_name": "LeafletAttributionControlModel",
      "state": {
       "_model_module_version": "^0.19",
       "_view_module_version": "^0.19",
       "options": [
        "position",
        "prefix"
       ],
       "position": "bottomright",
       "prefix": "ipyleaflet"
      }
     },
     "b902242e344741a1b0b83ae2155433e4": {
      "model_module": "jupyter-leaflet",
      "model_module_version": "^0.19",
      "model_name": "LeafletMapStyleModel",
      "state": {
       "_model_module_version": "^0.19"
      }
     },
     "bad44394fad24478baa1addd27e08f7e": {
      "model_module": "jupyter-leaflet",
      "model_module_version": "^0.19",
      "model_name": "LeafletTileLayerModel",
      "state": {
       "_model_module_version": "^0.19",
       "_view_module_version": "^0.19",
       "attribution": "&copy; <a href=\"https://www.openstreetmap.org/copyright\">OpenStreetMap</a> contributors",
       "base": true,
       "max_zoom": 19,
       "min_zoom": 1,
       "name": "OpenStreetMap.Mapnik",
       "options": [
        "attribution",
        "bounds",
        "detect_retina",
        "max_native_zoom",
        "max_zoom",
        "min_native_zoom",
        "min_zoom",
        "no_wrap",
        "tile_size",
        "tms",
        "zoom_offset"
       ],
       "url": "https://tile.openstreetmap.org/{z}/{x}/{y}.png"
      }
     },
     "bbf33957c4e840e2929553803d2a2ff4": {
      "model_module": "jupyter-leaflet",
      "model_module_version": "^0.19",
      "model_name": "LeafletAttributionControlModel",
      "state": {
       "_model_module_version": "^0.19",
       "_view_module_version": "^0.19",
       "options": [
        "position",
        "prefix"
       ],
       "position": "bottomright",
       "prefix": "ipyleaflet"
      }
     },
     "bf20b819992646e986213bca202a7521": {
      "model_module": "jupyter-leaflet",
      "model_module_version": "^0.19",
      "model_name": "LeafletMapStyleModel",
      "state": {
       "_model_module_version": "^0.19"
      }
     },
     "bf3534a43cf9431eabdfee64bbcc1ac5": {
      "model_module": "jupyter-leaflet",
      "model_module_version": "^0.19",
      "model_name": "LeafletMarkerModel",
      "state": {
       "_model_module_version": "^0.19",
       "_view_module_version": "^0.19",
       "icon": "IPY_MODEL_ac04e1fafe084a9e9ab9bf738c8e653f",
       "location": [
        37.40671006519942,
        -122.11870193481447
       ],
       "options": [
        "alt",
        "draggable",
        "keyboard",
        "rise_offset",
        "rise_on_hover",
        "rotation_angle",
        "rotation_origin",
        "title",
        "z_index_offset"
       ]
      }
     },
     "bfffd07468354d60800e99ac8c8e03e7": {
      "model_module": "jupyter-leaflet",
      "model_module_version": "^0.19",
      "model_name": "LeafletPolylineModel",
      "state": {
       "_model_module_version": "^0.19",
       "_view_module_version": "^0.19",
       "color": "green",
       "draggable": false,
       "fill": false,
       "locations": [
        [
         37.406393,
         -122.119273
        ],
        [
         37.406331,
         -122.1192
        ],
        [
         37.406295,
         -122.119158
        ],
        [
         37.406252,
         -122.119108
        ],
        [
         37.406333,
         -122.119032
        ],
        [
         37.406428,
         -122.118924
        ],
        [
         37.406676,
         -122.118641
        ],
        [
         37.40687,
         -122.118426
        ],
        [
         37.408091,
         -122.11722
        ],
        [
         37.408146,
         -122.117168
        ],
        [
         37.407708,
         -122.116467
        ],
        [
         37.407649,
         -122.116372
        ],
        [
         37.407603,
         -122.1163
        ],
        [
         37.407399,
         -122.115977
        ],
        [
         37.407273,
         -122.115864
        ],
        [
         37.407237,
         -122.11581
        ],
        [
         37.407237,
         -122.11581
        ],
        [
         37.40719,
         -122.115738
        ],
        [
         37.406782,
         -122.11509
        ],
        [
         37.406425,
         -122.11451
        ],
        [
         37.406309,
         -122.114322
        ],
        [
         37.406291,
         -122.114293
        ],
        [
         37.406245,
         -122.114218
        ],
        [
         37.406131,
         -122.114332
        ],
        [
         37.405907,
         -122.114555
        ],
        [
         37.405774,
         -122.114686
        ],
        [
         37.40559,
         -122.114869
        ],
        [
         37.405365,
         -122.115091
        ],
        [
         37.405353,
         -122.115103
        ],
        [
         37.405277,
         -122.11518
        ],
        [
         37.405227,
         -122.115108
        ],
        [
         37.405201,
         -122.11507
        ],
        [
         37.404908,
         -122.114601
        ],
        [
         37.404837,
         -122.114518
        ],
        [
         37.404753,
         -122.114438
        ],
        [
         37.404667,
         -122.114378
        ],
        [
         37.404584,
         -122.11434
        ],
        [
         37.40449,
         -122.114313
        ],
        [
         37.404441,
         -122.114282
        ],
        [
         37.404337,
         -122.114218
        ],
        [
         37.404225,
         -122.114105
        ],
        [
         37.404158,
         -122.114
        ],
        [
         37.404124,
         -122.113949
        ],
        [
         37.403912,
         -122.113622
        ],
        [
         37.403879,
         -122.113573
        ],
        [
         37.403848,
         -122.113522
        ],
        [
         37.403837,
         -122.113505
        ],
        [
         37.403785,
         -122.11342
        ],
        [
         37.403754,
         -122.11337
        ],
        [
         37.403672,
         -122.113238
        ],
        [
         37.403621,
         -122.113281
        ],
        [
         37.403173,
         -122.113662
        ],
        [
         37.403274,
         -122.113808
        ],
        [
         37.403264,
         -122.113923
        ],
        [
         37.403218,
         -122.113969
        ]
       ],
       "options": [
        "color",
        "dash_array",
        "draggable",
        "fill",
        "fill_color",
        "fill_opacity",
        "line_cap",
        "line_join",
        "no_clip",
        "opacity",
        "pointer_events",
        "smooth_factor",
        "stroke",
        "transform",
        "weight"
       ],
       "rotation": true,
       "scaling": true,
       "transform": false,
       "uniform_scaling": false
      }
     },
     "c154ad5e396b4405ac069fbc68556f56": {
      "model_module": "jupyter-leaflet",
      "model_module_version": "^0.19",
      "model_name": "LeafletMarkerModel",
      "state": {
       "_model_module_version": "^0.19",
       "_view_module_version": "^0.19",
       "icon": "IPY_MODEL_7de21f4171c749a4bd815faef0738bbf",
       "location": [
        37.40253645,
        -122.1165510679842
       ],
       "options": [
        "alt",
        "draggable",
        "keyboard",
        "rise_offset",
        "rise_on_hover",
        "rotation_angle",
        "rotation_origin",
        "title",
        "z_index_offset"
       ]
      }
     },
     "c182a4c79d5843da90048bc00b011f1f": {
      "model_module": "jupyter-leaflet",
      "model_module_version": "^0.19",
      "model_name": "LeafletZoomControlModel",
      "state": {
       "_model_module_version": "^0.19",
       "_view_module_version": "^0.19",
       "options": [
        "position",
        "zoom_in_text",
        "zoom_in_title",
        "zoom_out_text",
        "zoom_out_title"
       ]
      }
     },
     "c338132910cf4ece8149e51856857a4c": {
      "model_module": "jupyter-leaflet",
      "model_module_version": "^0.19",
      "model_name": "LeafletZoomControlModel",
      "state": {
       "_model_module_version": "^0.19",
       "_view_module_version": "^0.19",
       "options": [
        "position",
        "zoom_in_text",
        "zoom_in_title",
        "zoom_out_text",
        "zoom_out_title"
       ]
      }
     },
     "c3eb4f9ac8594287a9c4bb3f98503f1e": {
      "model_module": "jupyter-leaflet",
      "model_module_version": "^0.19",
      "model_name": "LeafletMapModel",
      "state": {
       "_model_module_version": "^0.19",
       "_view_module_version": "^0.19",
       "center": [
        37.40253645,
        -122.1165510679842
       ],
       "controls": [
        "IPY_MODEL_fdeb03af07534940801961edf4390361",
        "IPY_MODEL_1831ecdb7647471d8e44faa2b0120e03"
       ],
       "default_style": "IPY_MODEL_67387e2195c144509948135d45380cc6",
       "dragging_style": "IPY_MODEL_092850c083694cc48583261709c8a7cb",
       "fullscreen": false,
       "interpolation": "bilinear",
       "layers": [
        "IPY_MODEL_780809207b174b09a9f4e3fec914636a",
        "IPY_MODEL_c7728dbe71b24a929cd73ab37515aa87"
       ],
       "layout": "IPY_MODEL_38041a01b13a41a79c897b6ff2327739",
       "modisdate": "2024-06-03",
       "options": [
        "bounce_at_zoom_limits",
        "box_zoom",
        "center",
        "close_popup_on_click",
        "double_click_zoom",
        "dragging",
        "fullscreen",
        "inertia",
        "inertia_deceleration",
        "inertia_max_speed",
        "interpolation",
        "keyboard",
        "keyboard_pan_offset",
        "keyboard_zoom_offset",
        "max_zoom",
        "min_zoom",
        "prefer_canvas",
        "scroll_wheel_zoom",
        "tap",
        "tap_tolerance",
        "touch_zoom",
        "world_copy_jump",
        "zoom",
        "zoom_animation_threshold",
        "zoom_delta",
        "zoom_snap"
       ],
       "prefer_canvas": false,
       "style": "IPY_MODEL_f4a1a18269ac474d84290edc0c7807dc",
       "window_url": "http://localhost:8888/notebooks/RoundTripRoutes.ipynb",
       "zoom": 15
      }
     },
     "c5383d65c3594890b943ac023de4df29": {
      "model_module": "jupyter-leaflet",
      "model_module_version": "^0.19",
      "model_name": "LeafletPolylineModel",
      "state": {
       "_model_module_version": "^0.19",
       "_view_module_version": "^0.19",
       "color": "green",
       "draggable": false,
       "fill": false,
       "locations": [
        [
         37.402687,
         -122.116361
        ],
        [
         37.402997,
         -122.11675
        ],
        [
         37.40308,
         -122.116825
        ],
        [
         37.403126,
         -122.11676
        ],
        [
         37.403145,
         -122.116732
        ],
        [
         37.403206,
         -122.116646
        ],
        [
         37.403564,
         -122.11707
        ],
        [
         37.40361,
         -122.11687
        ],
        [
         37.40366,
         -122.116787
        ],
        [
         37.403681,
         -122.11676
        ],
        [
         37.403753,
         -122.116689
        ],
        [
         37.403905,
         -122.116537
        ],
        [
         37.403959,
         -122.116487
        ],
        [
         37.404131,
         -122.116317
        ],
        [
         37.404335,
         -122.116116
        ],
        [
         37.404356,
         -122.116096
        ],
        [
         37.40478,
         -122.115678
        ],
        [
         37.405189,
         -122.115267
        ],
        [
         37.405247,
         -122.115208
        ],
        [
         37.405277,
         -122.11518
        ],
        [
         37.405353,
         -122.115103
        ],
        [
         37.405365,
         -122.115091
        ],
        [
         37.40559,
         -122.114869
        ],
        [
         37.405774,
         -122.114686
        ],
        [
         37.405907,
         -122.114555
        ],
        [
         37.406131,
         -122.114332
        ],
        [
         37.406245,
         -122.114218
        ],
        [
         37.406291,
         -122.114293
        ],
        [
         37.406309,
         -122.114322
        ],
        [
         37.406425,
         -122.11451
        ],
        [
         37.406782,
         -122.11509
        ],
        [
         37.406843,
         -122.115187
        ],
        [
         37.406843,
         -122.115187
        ],
        [
         37.406782,
         -122.11509
        ],
        [
         37.406425,
         -122.11451
        ],
        [
         37.406309,
         -122.114322
        ],
        [
         37.406291,
         -122.114293
        ],
        [
         37.406245,
         -122.114218
        ],
        [
         37.406553,
         -122.113914
        ],
        [
         37.406525,
         -122.113866
        ],
        [
         37.406522,
         -122.113861
        ],
        [
         37.406285,
         -122.113486
        ],
        [
         37.406176,
         -122.113313
        ],
        [
         37.406136,
         -122.113249
        ],
        [
         37.406067,
         -122.113136
        ],
        [
         37.406022,
         -122.113067
        ],
        [
         37.405952,
         -122.112951
        ],
        [
         37.405931,
         -122.112922
        ],
        [
         37.405748,
         -122.11262
        ],
        [
         37.4057,
         -122.112554
        ],
        [
         37.405627,
         -122.112438
        ],
        [
         37.405579,
         -122.112364
        ],
        [
         37.405579,
         -122.112364
        ],
        [
         37.405473,
         -122.1122
        ],
        [
         37.405173,
         -122.112508
        ],
        [
         37.404937,
         -122.112614
        ],
        [
         37.404827,
         -122.112714
        ],
        [
         37.404473,
         -122.112938
        ],
        [
         37.404302,
         -122.113106
        ],
        [
         37.404425,
         -122.113499
        ],
        [
         37.404414,
         -122.113664
        ],
        [
         37.404184,
         -122.11389
        ],
        [
         37.404124,
         -122.113949
        ],
        [
         37.403912,
         -122.113622
        ],
        [
         37.403879,
         -122.113573
        ],
        [
         37.403848,
         -122.113522
        ],
        [
         37.403774,
         -122.113629
        ],
        [
         37.403665,
         -122.113844
        ],
        [
         37.403477,
         -122.113951
        ],
        [
         37.403401,
         -122.113994
        ],
        [
         37.403276,
         -122.11406
        ],
        [
         37.403234,
         -122.114154
        ],
        [
         37.403234,
         -122.114154
        ],
        [
         37.403096,
         -122.114462
        ],
        [
         37.403027,
         -122.114616
        ],
        [
         37.402874,
         -122.114806
        ],
        [
         37.402719,
         -122.114983
        ],
        [
         37.402592,
         -122.115089
        ],
        [
         37.402429,
         -122.115238
        ],
        [
         37.402393,
         -122.115278
        ],
        [
         37.402337,
         -122.115341
        ],
        [
         37.402438,
         -122.115484
        ],
        [
         37.403049,
         -122.11621
        ],
        [
         37.403156,
         -122.116339
        ],
        [
         37.403222,
         -122.116415
        ],
        [
         37.403255,
         -122.116454
        ],
        [
         37.403293,
         -122.116499
        ],
        [
         37.403457,
         -122.116693
        ],
        [
         37.403537,
         -122.116785
        ],
        [
         37.40361,
         -122.11687
        ],
        [
         37.403564,
         -122.11707
        ],
        [
         37.403206,
         -122.116646
        ],
        [
         37.403145,
         -122.116732
        ],
        [
         37.403126,
         -122.11676
        ],
        [
         37.40308,
         -122.116825
        ],
        [
         37.402997,
         -122.11675
        ],
        [
         37.402687,
         -122.116361
        ]
       ],
       "options": [
        "color",
        "dash_array",
        "draggable",
        "fill",
        "fill_color",
        "fill_opacity",
        "line_cap",
        "line_join",
        "no_clip",
        "opacity",
        "pointer_events",
        "smooth_factor",
        "stroke",
        "transform",
        "weight"
       ],
       "rotation": true,
       "scaling": true,
       "transform": false,
       "uniform_scaling": false
      }
     },
     "c68794593a6c42018beb74501f373ca6": {
      "model_module": "@jupyter-widgets/base",
      "model_module_version": "2.0.0",
      "model_name": "LayoutModel",
      "state": {}
     },
     "c704d11b7d234e44bb2ca68b41da8dd1": {
      "model_module": "@jupyter-widgets/base",
      "model_module_version": "2.0.0",
      "model_name": "LayoutModel",
      "state": {}
     },
     "c7728dbe71b24a929cd73ab37515aa87": {
      "model_module": "jupyter-leaflet",
      "model_module_version": "^0.19",
      "model_name": "LeafletMarkerModel",
      "state": {
       "_model_module_version": "^0.19",
       "_view_module_version": "^0.19",
       "draggable": false,
       "icon": "IPY_MODEL_546c8dc5afe24e38b229b7ab24be9f3b",
       "location": [
        37.40253645,
        -122.1165510679842
       ],
       "options": [
        "alt",
        "draggable",
        "keyboard",
        "rise_offset",
        "rise_on_hover",
        "rotation_angle",
        "rotation_origin",
        "title",
        "z_index_offset"
       ]
      }
     },
     "c944d2a168f741aabd7b2843efd0b927": {
      "model_module": "jupyter-leaflet",
      "model_module_version": "^0.19",
      "model_name": "LeafletMapStyleModel",
      "state": {
       "_model_module_version": "^0.19"
      }
     },
     "caaa249d25d94059b94bff92543d7ae4": {
      "model_module": "jupyter-leaflet",
      "model_module_version": "^0.19",
      "model_name": "LeafletMarkerModel",
      "state": {
       "_model_module_version": "^0.19",
       "_view_module_version": "^0.19",
       "icon": "IPY_MODEL_ac04e1fafe084a9e9ab9bf738c8e653f",
       "location": [
        37.40330103524173,
        -122.1140241622925
       ],
       "options": [
        "alt",
        "draggable",
        "keyboard",
        "rise_offset",
        "rise_on_hover",
        "rotation_angle",
        "rotation_origin",
        "title",
        "z_index_offset"
       ]
      }
     },
     "cd6fe8717edb458689fc0b1863e17ae1": {
      "model_module": "jupyter-leaflet",
      "model_module_version": "^0.19",
      "model_name": "LeafletTileLayerModel",
      "state": {
       "_model_module_version": "^0.19",
       "_view_module_version": "^0.19",
       "attribution": "&copy; <a href=\"https://www.openstreetmap.org/copyright\">OpenStreetMap</a> contributors",
       "base": true,
       "max_zoom": 19,
       "min_zoom": 1,
       "name": "OpenStreetMap.Mapnik",
       "options": [
        "attribution",
        "bounds",
        "detect_retina",
        "max_native_zoom",
        "max_zoom",
        "min_native_zoom",
        "min_zoom",
        "no_wrap",
        "tile_size",
        "tms",
        "zoom_offset"
       ],
       "url": "https://tile.openstreetmap.org/{z}/{x}/{y}.png"
      }
     },
     "d17bedce14b44cf4bca5e93cf5a6173a": {
      "model_module": "jupyter-leaflet",
      "model_module_version": "^0.19",
      "model_name": "LeafletTileLayerModel",
      "state": {
       "_model_module_version": "^0.19",
       "_view_module_version": "^0.19",
       "attribution": "&copy; <a href=\"https://www.openstreetmap.org/copyright\">OpenStreetMap</a> contributors",
       "base": true,
       "max_zoom": 19,
       "min_zoom": 1,
       "name": "OpenStreetMap.Mapnik",
       "options": [
        "attribution",
        "bounds",
        "detect_retina",
        "max_native_zoom",
        "max_zoom",
        "min_native_zoom",
        "min_zoom",
        "no_wrap",
        "tile_size",
        "tms",
        "zoom_offset"
       ],
       "url": "https://tile.openstreetmap.org/{z}/{x}/{y}.png"
      }
     },
     "d5e29f32b8074daeb197ceea0f3846b5": {
      "model_module": "@jupyter-widgets/base",
      "model_module_version": "2.0.0",
      "model_name": "LayoutModel",
      "state": {}
     },
     "d67d773e9245419eb7c2879169a1f3a1": {
      "model_module": "jupyter-leaflet",
      "model_module_version": "^0.19",
      "model_name": "LeafletTileLayerModel",
      "state": {
       "_model_module_version": "^0.19",
       "_view_module_version": "^0.19",
       "attribution": "&copy; <a href=\"https://www.openstreetmap.org/copyright\">OpenStreetMap</a> contributors",
       "base": true,
       "max_zoom": 19,
       "min_zoom": 1,
       "name": "OpenStreetMap.Mapnik",
       "options": [
        "attribution",
        "bounds",
        "detect_retina",
        "max_native_zoom",
        "max_zoom",
        "min_native_zoom",
        "min_zoom",
        "no_wrap",
        "tile_size",
        "tms",
        "zoom_offset"
       ],
       "url": "https://tile.openstreetmap.org/{z}/{x}/{y}.png"
      }
     },
     "d88b0b74926a424a809bd7b28db2496c": {
      "model_module": "jupyter-leaflet",
      "model_module_version": "^0.19",
      "model_name": "LeafletMarkerModel",
      "state": {
       "_model_module_version": "^0.19",
       "_view_module_version": "^0.19",
       "icon": "IPY_MODEL_a0e80a8f13de471cbe2cb6694d82df44",
       "location": [
        37.40326694415888,
        -122.11432456970216
       ],
       "options": [
        "alt",
        "draggable",
        "keyboard",
        "rise_offset",
        "rise_on_hover",
        "rotation_angle",
        "rotation_origin",
        "title",
        "z_index_offset"
       ]
      }
     },
     "ddf694df64fa427894c3791b03faaf73": {
      "model_module": "jupyter-leaflet",
      "model_module_version": "^0.19",
      "model_name": "LeafletPolylineModel",
      "state": {
       "_model_module_version": "^0.19",
       "_view_module_version": "^0.19",
       "color": "green",
       "draggable": false,
       "fill": false,
       "locations": [
        [
         37.402687,
         -122.116361
        ],
        [
         37.402997,
         -122.11675
        ],
        [
         37.40308,
         -122.116825
        ],
        [
         37.403126,
         -122.11676
        ],
        [
         37.403145,
         -122.116732
        ],
        [
         37.403531,
         -122.117178
        ],
        [
         37.403953,
         -122.117659
        ],
        [
         37.404004,
         -122.117596
        ],
        [
         37.404019,
         -122.117613
        ],
        [
         37.40421,
         -122.117824
        ],
        [
         37.404259,
         -122.117881
        ],
        [
         37.40438,
         -122.118025
        ],
        [
         37.404406,
         -122.118056
        ],
        [
         37.404518,
         -122.118189
        ],
        [
         37.404591,
         -122.118275
        ],
        [
         37.404639,
         -122.118332
        ],
        [
         37.404653,
         -122.11835
        ],
        [
         37.404768,
         -122.118485
        ],
        [
         37.40481,
         -122.118535
        ],
        [
         37.404846,
         -122.118578
        ],
        [
         37.404981,
         -122.118737
        ],
        [
         37.405419,
         -122.119256
        ],
        [
         37.40551,
         -122.119364
        ],
        [
         37.405739,
         -122.119619
        ],
        [
         37.405881,
         -122.119477
        ],
        [
         37.405937,
         -122.119402
        ],
        [
         37.405959,
         -122.119382
        ],
        [
         37.406252,
         -122.119108
        ],
        [
         37.406295,
         -122.119158
        ],
        [
         37.406331,
         -122.1192
        ],
        [
         37.406393,
         -122.119273
        ],
        [
         37.406393,
         -122.119273
        ],
        [
         37.406331,
         -122.1192
        ],
        [
         37.406295,
         -122.119158
        ],
        [
         37.406252,
         -122.119108
        ],
        [
         37.406333,
         -122.119032
        ],
        [
         37.406428,
         -122.118924
        ],
        [
         37.406676,
         -122.118641
        ],
        [
         37.40687,
         -122.118426
        ],
        [
         37.406838,
         -122.118385
        ],
        [
         37.406818,
         -122.11836
        ],
        [
         37.406774,
         -122.118262
        ],
        [
         37.406744,
         -122.118116
        ],
        [
         37.406628,
         -122.117801
        ],
        [
         37.406612,
         -122.117696
        ],
        [
         37.406604,
         -122.117647
        ],
        [
         37.406639,
         -122.117474
        ],
        [
         37.406758,
         -122.117275
        ],
        [
         37.407574,
         -122.116454
        ],
        [
         37.407649,
         -122.116372
        ],
        [
         37.407603,
         -122.1163
        ],
        [
         37.407399,
         -122.115977
        ],
        [
         37.407273,
         -122.115864
        ],
        [
         37.407237,
         -122.11581
        ],
        [
         37.407237,
         -122.11581
        ],
        [
         37.40719,
         -122.115738
        ],
        [
         37.406782,
         -122.11509
        ],
        [
         37.406425,
         -122.11451
        ],
        [
         37.406309,
         -122.114322
        ],
        [
         37.406291,
         -122.114293
        ],
        [
         37.406245,
         -122.114218
        ],
        [
         37.406131,
         -122.114332
        ],
        [
         37.405907,
         -122.114555
        ],
        [
         37.405774,
         -122.114686
        ],
        [
         37.40559,
         -122.114869
        ],
        [
         37.405365,
         -122.115091
        ],
        [
         37.405353,
         -122.115103
        ],
        [
         37.405277,
         -122.11518
        ],
        [
         37.405227,
         -122.115108
        ],
        [
         37.405201,
         -122.11507
        ],
        [
         37.404908,
         -122.114601
        ],
        [
         37.404837,
         -122.114518
        ],
        [
         37.404753,
         -122.114438
        ],
        [
         37.404667,
         -122.114378
        ],
        [
         37.404584,
         -122.11434
        ],
        [
         37.40449,
         -122.114313
        ],
        [
         37.404441,
         -122.114282
        ],
        [
         37.404337,
         -122.114218
        ],
        [
         37.404225,
         -122.114105
        ],
        [
         37.404158,
         -122.114
        ],
        [
         37.404124,
         -122.113949
        ],
        [
         37.403912,
         -122.113622
        ],
        [
         37.403879,
         -122.113573
        ],
        [
         37.403848,
         -122.113522
        ],
        [
         37.403774,
         -122.113629
        ],
        [
         37.403665,
         -122.113844
        ],
        [
         37.403477,
         -122.113951
        ],
        [
         37.403385,
         -122.114128
        ],
        [
         37.403363,
         -122.114174
        ]
       ],
       "options": [
        "color",
        "dash_array",
        "draggable",
        "fill",
        "fill_color",
        "fill_opacity",
        "line_cap",
        "line_join",
        "no_clip",
        "opacity",
        "pointer_events",
        "smooth_factor",
        "stroke",
        "transform",
        "weight"
       ],
       "rotation": true,
       "scaling": true,
       "transform": false,
       "uniform_scaling": false
      }
     },
     "e13df79f5ad04f2f83ebdbdaeb8856fe": {
      "model_module": "jupyter-leaflet",
      "model_module_version": "^0.19",
      "model_name": "LeafletTileLayerModel",
      "state": {
       "_model_module_version": "^0.19",
       "_view_module_version": "^0.19",
       "attribution": "&copy; <a href=\"https://www.openstreetmap.org/copyright\">OpenStreetMap</a> contributors",
       "base": true,
       "max_zoom": 19,
       "min_zoom": 1,
       "name": "OpenStreetMap.Mapnik",
       "options": [
        "attribution",
        "bounds",
        "detect_retina",
        "max_native_zoom",
        "max_zoom",
        "min_native_zoom",
        "min_zoom",
        "no_wrap",
        "tile_size",
        "tms",
        "zoom_offset"
       ],
       "url": "https://tile.openstreetmap.org/{z}/{x}/{y}.png"
      }
     },
     "e1f66db3f3344081bcea7e5dd14e4183": {
      "model_module": "jupyter-leaflet",
      "model_module_version": "^0.19",
      "model_name": "LeafletPolylineModel",
      "state": {
       "_model_module_version": "^0.19",
       "_view_module_version": "^0.19",
       "color": "green",
       "draggable": false,
       "fill": false,
       "locations": [
        [
         37.402687,
         -122.116361
        ],
        [
         37.402997,
         -122.11675
        ],
        [
         37.40308,
         -122.116825
        ],
        [
         37.403126,
         -122.11676
        ],
        [
         37.403145,
         -122.116732
        ],
        [
         37.403206,
         -122.116646
        ],
        [
         37.403564,
         -122.11707
        ],
        [
         37.40361,
         -122.11687
        ],
        [
         37.403537,
         -122.116785
        ],
        [
         37.403457,
         -122.116693
        ],
        [
         37.403293,
         -122.116499
        ],
        [
         37.403255,
         -122.116454
        ],
        [
         37.403222,
         -122.116415
        ],
        [
         37.403156,
         -122.116339
        ],
        [
         37.403049,
         -122.11621
        ],
        [
         37.402438,
         -122.115484
        ],
        [
         37.402337,
         -122.115341
        ],
        [
         37.402393,
         -122.115278
        ],
        [
         37.402429,
         -122.115238
        ],
        [
         37.402592,
         -122.115089
        ],
        [
         37.402719,
         -122.114983
        ],
        [
         37.402874,
         -122.114806
        ],
        [
         37.403027,
         -122.114616
        ],
        [
         37.403096,
         -122.114462
        ],
        [
         37.403208,
         -122.114391
        ],
        [
         37.403208,
         -122.114391
        ],
        [
         37.403255,
         -122.114362
        ],
        [
         37.403296,
         -122.114314
        ],
        [
         37.403385,
         -122.114128
        ],
        [
         37.403477,
         -122.113951
        ],
        [
         37.403665,
         -122.113844
        ],
        [
         37.403774,
         -122.113629
        ],
        [
         37.403848,
         -122.113522
        ],
        [
         37.403879,
         -122.113573
        ],
        [
         37.403912,
         -122.113622
        ],
        [
         37.404124,
         -122.113949
        ],
        [
         37.404158,
         -122.114
        ],
        [
         37.404225,
         -122.114105
        ],
        [
         37.404337,
         -122.114218
        ],
        [
         37.404441,
         -122.114282
        ],
        [
         37.40449,
         -122.114313
        ],
        [
         37.404584,
         -122.11434
        ],
        [
         37.404667,
         -122.114378
        ],
        [
         37.404753,
         -122.114438
        ],
        [
         37.404837,
         -122.114518
        ],
        [
         37.404908,
         -122.114601
        ],
        [
         37.405201,
         -122.11507
        ],
        [
         37.405227,
         -122.115108
        ],
        [
         37.405277,
         -122.11518
        ],
        [
         37.405353,
         -122.115103
        ],
        [
         37.405365,
         -122.115091
        ],
        [
         37.405384,
         -122.115072
        ],
        [
         37.405384,
         -122.115072
        ],
        [
         37.405365,
         -122.115091
        ],
        [
         37.405353,
         -122.115103
        ],
        [
         37.405277,
         -122.11518
        ],
        [
         37.405247,
         -122.115208
        ],
        [
         37.405189,
         -122.115267
        ],
        [
         37.40478,
         -122.115678
        ],
        [
         37.404356,
         -122.116096
        ],
        [
         37.404335,
         -122.116116
        ],
        [
         37.404131,
         -122.116317
        ],
        [
         37.404086,
         -122.116362
        ],
        [
         37.404086,
         -122.116362
        ],
        [
         37.403959,
         -122.116487
        ],
        [
         37.403905,
         -122.116537
        ],
        [
         37.403753,
         -122.116689
        ],
        [
         37.403681,
         -122.11676
        ],
        [
         37.40366,
         -122.116787
        ],
        [
         37.40361,
         -122.11687
        ],
        [
         37.403564,
         -122.11707
        ],
        [
         37.403206,
         -122.116646
        ],
        [
         37.403145,
         -122.116732
        ],
        [
         37.403126,
         -122.11676
        ],
        [
         37.40308,
         -122.116825
        ],
        [
         37.402997,
         -122.11675
        ],
        [
         37.402687,
         -122.116361
        ]
       ],
       "options": [
        "color",
        "dash_array",
        "draggable",
        "fill",
        "fill_color",
        "fill_opacity",
        "line_cap",
        "line_join",
        "no_clip",
        "opacity",
        "pointer_events",
        "smooth_factor",
        "stroke",
        "transform",
        "weight"
       ],
       "rotation": true,
       "scaling": true,
       "transform": false,
       "uniform_scaling": false
      }
     },
     "e4db5d1a4cdc4deb8c85060bf2b2c4dc": {
      "model_module": "jupyter-leaflet",
      "model_module_version": "^0.19",
      "model_name": "LeafletMapModel",
      "state": {
       "_model_module_version": "^0.19",
       "_view_module_version": "^0.19",
       "bottom": 3253522,
       "center": [
        37.40253645,
        -122.1165510679842
       ],
       "controls": [
        "IPY_MODEL_c182a4c79d5843da90048bc00b011f1f",
        "IPY_MODEL_33b66c7c975640c5a3d4422b9e22f787"
       ],
       "default_style": "IPY_MODEL_05d560824acb4d6e832747cfa342c85c",
       "dragging_style": "IPY_MODEL_6e7ac2dfb7e247d7b701642c1576e4f7",
       "east": -122.0929527282715,
       "fullscreen": false,
       "interpolation": "bilinear",
       "layers": [
        "IPY_MODEL_f98b2435460942ec9645a4a95c468277",
        "IPY_MODEL_78f3f02b2e63424b84f0210de1c7c0bf",
        "IPY_MODEL_9e735f7ae5da486aa9385eaa5dd703ee",
        "IPY_MODEL_62a21277791b4e329309c558db364796",
        "IPY_MODEL_548336b7d7674e64aff113e472d3625d",
        "IPY_MODEL_8e99922f3834482090d0b748cebc7c6e"
       ],
       "layout": "IPY_MODEL_d5e29f32b8074daeb197ceea0f3846b5",
       "left": 1348233,
       "modisdate": "2024-06-03",
       "north": 37.40936900089054,
       "options": [
        "bounce_at_zoom_limits",
        "box_zoom",
        "center",
        "close_popup_on_click",
        "double_click_zoom",
        "dragging",
        "fullscreen",
        "inertia",
        "inertia_deceleration",
        "inertia_max_speed",
        "interpolation",
        "keyboard",
        "keyboard_pan_offset",
        "keyboard_zoom_offset",
        "max_zoom",
        "min_zoom",
        "prefer_canvas",
        "scroll_wheel_zoom",
        "tap",
        "tap_tolerance",
        "touch_zoom",
        "world_copy_jump",
        "zoom",
        "zoom_animation_threshold",
        "zoom_delta",
        "zoom_snap"
       ],
       "prefer_canvas": false,
       "right": 1349332,
       "south": 37.39573243437289,
       "style": "IPY_MODEL_11d179deaf8a475791e9a0fcc204d035",
       "top": 3253122,
       "west": -122.14011669158937,
       "window_url": "http://localhost:8888/notebooks/RoundTripRoutes.ipynb",
       "zoom": 15
      }
     },
     "e51fc1826698423ea78ebfa013458a62": {
      "model_module": "jupyter-leaflet",
      "model_module_version": "^0.19",
      "model_name": "LeafletMarkerModel",
      "state": {
       "_model_module_version": "^0.19",
       "_view_module_version": "^0.19",
       "icon": "IPY_MODEL_a3d7099d6b6d4a439e596584c52a5b03",
       "location": [
        37.40333512630908,
        -122.11415290832521
       ],
       "options": [
        "alt",
        "draggable",
        "keyboard",
        "rise_offset",
        "rise_on_hover",
        "rotation_angle",
        "rotation_origin",
        "title",
        "z_index_offset"
       ]
      }
     },
     "e5d68a97770e4bfb8dbe458eacd8076b": {
      "model_module": "jupyter-leaflet",
      "model_module_version": "^0.19",
      "model_name": "LeafletMarkerModel",
      "state": {
       "_model_module_version": "^0.19",
       "_view_module_version": "^0.19",
       "icon": "IPY_MODEL_b09c308e2a1148fc81cc49462ea27a76",
       "location": [
        37.396089,
        -122.114551
       ],
       "options": [
        "alt",
        "draggable",
        "keyboard",
        "rise_offset",
        "rise_on_hover",
        "rotation_angle",
        "rotation_origin",
        "title",
        "z_index_offset"
       ]
      }
     },
     "e604cf617d8f4f5a9c95ee65f6d43bde": {
      "model_module": "jupyter-leaflet",
      "model_module_version": "^0.19",
      "model_name": "LeafletPolylineModel",
      "state": {
       "_model_module_version": "^0.19",
       "_view_module_version": "^0.19",
       "color": "green",
       "draggable": false,
       "fill": false,
       "locations": [
        [
         37.402687,
         -122.116361
        ],
        [
         37.402997,
         -122.11675
        ],
        [
         37.40308,
         -122.116825
        ],
        [
         37.403126,
         -122.11676
        ],
        [
         37.403145,
         -122.116732
        ],
        [
         37.403206,
         -122.116646
        ],
        [
         37.403564,
         -122.11707
        ],
        [
         37.40361,
         -122.11687
        ],
        [
         37.40366,
         -122.116787
        ],
        [
         37.403681,
         -122.11676
        ],
        [
         37.403753,
         -122.116689
        ],
        [
         37.403905,
         -122.116537
        ],
        [
         37.403959,
         -122.116487
        ],
        [
         37.404131,
         -122.116317
        ],
        [
         37.404335,
         -122.116116
        ],
        [
         37.404356,
         -122.116096
        ],
        [
         37.40478,
         -122.115678
        ],
        [
         37.405189,
         -122.115267
        ],
        [
         37.405247,
         -122.115208
        ],
        [
         37.405277,
         -122.11518
        ],
        [
         37.405353,
         -122.115103
        ],
        [
         37.405365,
         -122.115091
        ],
        [
         37.40559,
         -122.114869
        ],
        [
         37.405774,
         -122.114686
        ],
        [
         37.405907,
         -122.114555
        ],
        [
         37.406131,
         -122.114332
        ],
        [
         37.406245,
         -122.114218
        ],
        [
         37.406553,
         -122.113914
        ],
        [
         37.407076,
         -122.113396
        ],
        [
         37.407166,
         -122.113302
        ],
        [
         37.407252,
         -122.113219
        ],
        [
         37.407202,
         -122.113137
        ],
        [
         37.407184,
         -122.113107
        ],
        [
         37.407106,
         -122.112981
        ],
        [
         37.406952,
         -122.112733
        ],
        [
         37.406952,
         -122.112733
        ],
        [
         37.407106,
         -122.112981
        ],
        [
         37.407184,
         -122.113107
        ],
        [
         37.407202,
         -122.113137
        ],
        [
         37.407135,
         -122.113235
        ],
        [
         37.407128,
         -122.113251
        ],
        [
         37.407111,
         -122.113277
        ],
        [
         37.40673,
         -122.11366
        ],
        [
         37.406694,
         -122.113695
        ],
        [
         37.406668,
         -122.113722
        ],
        [
         37.406648,
         -122.113743
        ],
        [
         37.406623,
         -122.11377
        ],
        [
         37.406607,
         -122.113785
        ],
        [
         37.406586,
         -122.11379
        ],
        [
         37.406569,
         -122.113787
        ],
        [
         37.40655,
         -122.113771
        ],
        [
         37.406528,
         -122.113747
        ],
        [
         37.406502,
         -122.113706
        ],
        [
         37.406479,
         -122.113672
        ],
        [
         37.406403,
         -122.113558
        ],
        [
         37.406329,
         -122.113441
        ],
        [
         37.406285,
         -122.113486
        ],
        [
         37.406176,
         -122.113313
        ],
        [
         37.406136,
         -122.113249
        ],
        [
         37.406067,
         -122.113136
        ],
        [
         37.406022,
         -122.113067
        ],
        [
         37.405952,
         -122.112951
        ],
        [
         37.405931,
         -122.112922
        ],
        [
         37.405748,
         -122.11262
        ],
        [
         37.4057,
         -122.112554
        ],
        [
         37.405627,
         -122.112438
        ],
        [
         37.405473,
         -122.1122
        ],
        [
         37.405173,
         -122.112508
        ],
        [
         37.405121,
         -122.112608
        ],
        [
         37.40499,
         -122.112655
        ],
        [
         37.40499,
         -122.112655
        ],
        [
         37.404827,
         -122.112714
        ],
        [
         37.404473,
         -122.112938
        ],
        [
         37.404302,
         -122.113106
        ],
        [
         37.404425,
         -122.113499
        ],
        [
         37.404414,
         -122.113664
        ],
        [
         37.404184,
         -122.11389
        ],
        [
         37.404124,
         -122.113949
        ],
        [
         37.403912,
         -122.113622
        ],
        [
         37.403879,
         -122.113573
        ],
        [
         37.403848,
         -122.113522
        ],
        [
         37.403774,
         -122.113629
        ],
        [
         37.403665,
         -122.113844
        ],
        [
         37.403477,
         -122.113951
        ],
        [
         37.403385,
         -122.114128
        ],
        [
         37.403296,
         -122.114314
        ],
        [
         37.403276,
         -122.114337
        ],
        [
         37.403276,
         -122.114337
        ],
        [
         37.403255,
         -122.114362
        ],
        [
         37.403096,
         -122.114462
        ],
        [
         37.403027,
         -122.114616
        ],
        [
         37.402874,
         -122.114806
        ],
        [
         37.402719,
         -122.114983
        ],
        [
         37.402592,
         -122.115089
        ],
        [
         37.402429,
         -122.115238
        ],
        [
         37.402393,
         -122.115278
        ],
        [
         37.402337,
         -122.115341
        ],
        [
         37.402438,
         -122.115484
        ],
        [
         37.403049,
         -122.11621
        ],
        [
         37.403156,
         -122.116339
        ],
        [
         37.403222,
         -122.116415
        ],
        [
         37.403255,
         -122.116454
        ],
        [
         37.403293,
         -122.116499
        ],
        [
         37.403457,
         -122.116693
        ],
        [
         37.403537,
         -122.116785
        ],
        [
         37.40361,
         -122.11687
        ],
        [
         37.403564,
         -122.11707
        ],
        [
         37.403206,
         -122.116646
        ],
        [
         37.403145,
         -122.116732
        ],
        [
         37.403126,
         -122.11676
        ],
        [
         37.40308,
         -122.116825
        ],
        [
         37.402997,
         -122.11675
        ],
        [
         37.402687,
         -122.116361
        ]
       ],
       "options": [
        "color",
        "dash_array",
        "draggable",
        "fill",
        "fill_color",
        "fill_opacity",
        "line_cap",
        "line_join",
        "no_clip",
        "opacity",
        "pointer_events",
        "smooth_factor",
        "stroke",
        "transform",
        "weight"
       ],
       "rotation": true,
       "scaling": true,
       "transform": false,
       "uniform_scaling": false
      }
     },
     "e74bcdf5c20f48b18eb42bd6beab0b30": {
      "model_module": "jupyter-leaflet",
      "model_module_version": "^0.19",
      "model_name": "LeafletMapStyleModel",
      "state": {
       "_model_module_version": "^0.19",
       "cursor": "move"
      }
     },
     "e980405f46134a02b890ff47a734f794": {
      "model_module": "jupyter-leaflet",
      "model_module_version": "^0.19",
      "model_name": "LeafletZoomControlModel",
      "state": {
       "_model_module_version": "^0.19",
       "_view_module_version": "^0.19",
       "options": [
        "position",
        "zoom_in_text",
        "zoom_in_title",
        "zoom_out_text",
        "zoom_out_title"
       ]
      }
     },
     "f221f44153b74f25bfad061cca31dad9": {
      "model_module": "jupyter-leaflet",
      "model_module_version": "^0.19",
      "model_name": "LeafletMapModel",
      "state": {
       "_model_module_version": "^0.19",
       "_view_module_version": "^0.19",
       "bottom": 3253522,
       "center": [
        37.40253645,
        -122.1165510679842
       ],
       "controls": [
        "IPY_MODEL_2d19765730a343bd8e225b22cbda4427",
        "IPY_MODEL_044f264d042245ff99be75ee4ed14eba"
       ],
       "default_style": "IPY_MODEL_5bbf4115a5a743a2ab8ff0912b73e72c",
       "dragging_style": "IPY_MODEL_0f7d957950c147539951fe5014a54af3",
       "east": -122.0929527282715,
       "fullscreen": false,
       "interpolation": "bilinear",
       "layers": [
        "IPY_MODEL_e13df79f5ad04f2f83ebdbdaeb8856fe",
        "IPY_MODEL_78f3f02b2e63424b84f0210de1c7c0bf",
        "IPY_MODEL_7294f29e344c4a40860ead37d54f0847",
        "IPY_MODEL_638d593ff65740b88982ff3909d16d4a",
        "IPY_MODEL_85c06c51038e4354b95596e8dc99e4b0"
       ],
       "layout": "IPY_MODEL_a1f90c8f0ec546c0be361dd783a4df60",
       "left": 1348233,
       "modisdate": "2024-06-03",
       "north": 37.40936900089054,
       "options": [
        "bounce_at_zoom_limits",
        "box_zoom",
        "center",
        "close_popup_on_click",
        "double_click_zoom",
        "dragging",
        "fullscreen",
        "inertia",
        "inertia_deceleration",
        "inertia_max_speed",
        "interpolation",
        "keyboard",
        "keyboard_pan_offset",
        "keyboard_zoom_offset",
        "max_zoom",
        "min_zoom",
        "prefer_canvas",
        "scroll_wheel_zoom",
        "tap",
        "tap_tolerance",
        "touch_zoom",
        "world_copy_jump",
        "zoom",
        "zoom_animation_threshold",
        "zoom_delta",
        "zoom_snap"
       ],
       "prefer_canvas": false,
       "right": 1349332,
       "south": 37.39573243437289,
       "style": "IPY_MODEL_a0d8185f0a914d8caa8f8d44d8e0b533",
       "top": 3253122,
       "west": -122.14011669158937,
       "window_url": "http://localhost:8888/notebooks/RoundTripRoutes.ipynb",
       "zoom": 15
      }
     },
     "f4a1a18269ac474d84290edc0c7807dc": {
      "model_module": "jupyter-leaflet",
      "model_module_version": "^0.19",
      "model_name": "LeafletMapStyleModel",
      "state": {
       "_model_module_version": "^0.19"
      }
     },
     "f914a7032e82437ca1192ae9e323e424": {
      "model_module": "jupyter-leaflet",
      "model_module_version": "^0.19",
      "model_name": "LeafletZoomControlModel",
      "state": {
       "_model_module_version": "^0.19",
       "_view_module_version": "^0.19",
       "options": [
        "position",
        "zoom_in_text",
        "zoom_in_title",
        "zoom_out_text",
        "zoom_out_title"
       ]
      }
     },
     "f98b2435460942ec9645a4a95c468277": {
      "model_module": "jupyter-leaflet",
      "model_module_version": "^0.19",
      "model_name": "LeafletTileLayerModel",
      "state": {
       "_model_module_version": "^0.19",
       "_view_module_version": "^0.19",
       "attribution": "&copy; <a href=\"https://www.openstreetmap.org/copyright\">OpenStreetMap</a> contributors",
       "base": true,
       "max_zoom": 19,
       "min_zoom": 1,
       "name": "OpenStreetMap.Mapnik",
       "options": [
        "attribution",
        "bounds",
        "detect_retina",
        "max_native_zoom",
        "max_zoom",
        "min_native_zoom",
        "min_zoom",
        "no_wrap",
        "tile_size",
        "tms",
        "zoom_offset"
       ],
       "url": "https://tile.openstreetmap.org/{z}/{x}/{y}.png"
      }
     },
     "fa50aace3b6744919840df73b683bc73": {
      "model_module": "jupyter-leaflet",
      "model_module_version": "^0.19",
      "model_name": "LeafletMapStyleModel",
      "state": {
       "_model_module_version": "^0.19"
      }
     },
     "fa5a962ea15e4943b6f62ff60514f460": {
      "model_module": "jupyter-leaflet",
      "model_module_version": "^0.19",
      "model_name": "LeafletMapStyleModel",
      "state": {
       "_model_module_version": "^0.19",
       "cursor": "move"
      }
     },
     "fd33f66da7944ae285e5659c0acd46c5": {
      "model_module": "jupyter-leaflet",
      "model_module_version": "^0.19",
      "model_name": "LeafletMapStyleModel",
      "state": {
       "_model_module_version": "^0.19"
      }
     },
     "fd8de9c5e70744dab9eeb026425a884e": {
      "model_module": "jupyter-leaflet",
      "model_module_version": "^0.19",
      "model_name": "LeafletPolylineModel",
      "state": {
       "_model_module_version": "^0.19",
       "_view_module_version": "^0.19",
       "color": "green",
       "draggable": false,
       "fill": false,
       "locations": [
        [
         37.402687,
         -122.116361
        ],
        [
         37.402997,
         -122.11675
        ],
        [
         37.40308,
         -122.116825
        ],
        [
         37.403126,
         -122.11676
        ],
        [
         37.403145,
         -122.116732
        ],
        [
         37.403206,
         -122.116646
        ],
        [
         37.403564,
         -122.11707
        ],
        [
         37.40361,
         -122.11687
        ],
        [
         37.403537,
         -122.116785
        ],
        [
         37.403457,
         -122.116693
        ],
        [
         37.403293,
         -122.116499
        ],
        [
         37.403255,
         -122.116454
        ],
        [
         37.403222,
         -122.116415
        ],
        [
         37.403156,
         -122.116339
        ],
        [
         37.403049,
         -122.11621
        ],
        [
         37.402438,
         -122.115484
        ],
        [
         37.402337,
         -122.115341
        ],
        [
         37.402393,
         -122.115278
        ],
        [
         37.402429,
         -122.115238
        ],
        [
         37.402592,
         -122.115089
        ],
        [
         37.402719,
         -122.114983
        ],
        [
         37.402874,
         -122.114806
        ],
        [
         37.403027,
         -122.114616
        ],
        [
         37.403096,
         -122.114462
        ],
        [
         37.403255,
         -122.114362
        ],
        [
         37.403276,
         -122.114337
        ],
        [
         37.403276,
         -122.114337
        ],
        [
         37.403296,
         -122.114314
        ],
        [
         37.403385,
         -122.114128
        ],
        [
         37.403477,
         -122.113951
        ],
        [
         37.403665,
         -122.113844
        ],
        [
         37.403774,
         -122.113629
        ],
        [
         37.403848,
         -122.113522
        ],
        [
         37.403879,
         -122.113573
        ],
        [
         37.403912,
         -122.113622
        ],
        [
         37.404124,
         -122.113949
        ],
        [
         37.404184,
         -122.11389
        ],
        [
         37.404414,
         -122.113664
        ],
        [
         37.404425,
         -122.113499
        ],
        [
         37.404302,
         -122.113106
        ],
        [
         37.404473,
         -122.112938
        ],
        [
         37.404827,
         -122.112714
        ],
        [
         37.40499,
         -122.112655
        ],
        [
         37.40499,
         -122.112655
        ],
        [
         37.405121,
         -122.112608
        ],
        [
         37.405173,
         -122.112508
        ],
        [
         37.405473,
         -122.1122
        ],
        [
         37.405627,
         -122.112438
        ],
        [
         37.4057,
         -122.112554
        ],
        [
         37.405748,
         -122.11262
        ],
        [
         37.405931,
         -122.112922
        ],
        [
         37.405952,
         -122.112951
        ],
        [
         37.406022,
         -122.113067
        ],
        [
         37.406067,
         -122.113136
        ],
        [
         37.406136,
         -122.113249
        ],
        [
         37.406176,
         -122.113313
        ],
        [
         37.406285,
         -122.113486
        ],
        [
         37.406522,
         -122.113861
        ],
        [
         37.406525,
         -122.113866
        ],
        [
         37.406553,
         -122.113914
        ],
        [
         37.406908,
         -122.113563
        ],
        [
         37.406908,
         -122.113563
        ],
        [
         37.406553,
         -122.113914
        ],
        [
         37.406245,
         -122.114218
        ],
        [
         37.406131,
         -122.114332
        ],
        [
         37.405907,
         -122.114555
        ],
        [
         37.405774,
         -122.114686
        ],
        [
         37.40559,
         -122.114869
        ],
        [
         37.405365,
         -122.115091
        ],
        [
         37.405353,
         -122.115103
        ],
        [
         37.405277,
         -122.11518
        ],
        [
         37.405247,
         -122.115208
        ],
        [
         37.405189,
         -122.115267
        ],
        [
         37.40478,
         -122.115678
        ],
        [
         37.404356,
         -122.116096
        ],
        [
         37.404335,
         -122.116116
        ],
        [
         37.404131,
         -122.116317
        ],
        [
         37.403959,
         -122.116487
        ],
        [
         37.403905,
         -122.116537
        ],
        [
         37.403753,
         -122.116689
        ],
        [
         37.403681,
         -122.11676
        ],
        [
         37.40366,
         -122.116787
        ],
        [
         37.40361,
         -122.11687
        ],
        [
         37.403564,
         -122.11707
        ],
        [
         37.403206,
         -122.116646
        ],
        [
         37.403145,
         -122.116732
        ],
        [
         37.403126,
         -122.11676
        ],
        [
         37.40308,
         -122.116825
        ],
        [
         37.402997,
         -122.11675
        ],
        [
         37.402687,
         -122.116361
        ]
       ],
       "options": [
        "color",
        "dash_array",
        "draggable",
        "fill",
        "fill_color",
        "fill_opacity",
        "line_cap",
        "line_join",
        "no_clip",
        "opacity",
        "pointer_events",
        "smooth_factor",
        "stroke",
        "transform",
        "weight"
       ],
       "rotation": true,
       "scaling": true,
       "transform": false,
       "uniform_scaling": false
      }
     },
     "fdeb03af07534940801961edf4390361": {
      "model_module": "jupyter-leaflet",
      "model_module_version": "^0.19",
      "model_name": "LeafletZoomControlModel",
      "state": {
       "_model_module_version": "^0.19",
       "_view_module_version": "^0.19",
       "options": [
        "position",
        "zoom_in_text",
        "zoom_in_title",
        "zoom_out_text",
        "zoom_out_title"
       ]
      }
     },
     "fe8083ea9047497b810ea8c88085955b": {
      "model_module": "jupyter-leaflet",
      "model_module_version": "^0.19",
      "model_name": "LeafletAwesomeIconModel",
      "state": {
       "_model_module_version": "^0.19",
       "_view_module_version": "^0.19",
       "icon_color": "black",
       "name": "flag"
      }
     }
    },
    "version_major": 2,
    "version_minor": 0
   }
  }
 },
 "nbformat": 4,
 "nbformat_minor": 5
}
