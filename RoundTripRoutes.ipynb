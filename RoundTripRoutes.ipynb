{
 "cells": [
  {
   "cell_type": "markdown",
   "id": "f40af95f-331b-4600-9c11-bf9cf4d35be0",
   "metadata": {},
   "source": [
    "# Round Trip Routes\n",
    "\n",
    "## Goals\n",
    "* To get a suggested round trip route for a certain distance or duration. Useful to plan for exercise, such as taking a 30min walk around the office.\n",
    "* To learn about OpenStreetMap and related libraries for routing.\n",
    "\n",
    "## Current Algorithm\n",
    "* Search for an isochrone for half the desired distance or duration.\n",
    "* Pick a random one and navigate there and back. Use alternate routes (only when available) to avoid retracing your steps.\n",
    "* Route factor in walking speed and other parameters that already exist in Valhalla API.\n",
    "\n",
    "## Future considerations\n",
    "* Avoid traffic lights (need to query OpenStreetMap for traffic lights in the area then add them to \"avoid_locations\" parameter)\n",
    "* Favor shaded area"
   ]
  },
  {
   "cell_type": "markdown",
   "id": "e325c356-ee5c-48a9-b21f-f770f7e565b4",
   "metadata": {},
   "source": [
    "# Dependencies\n",
    "\n",
    "* Uses **[geopy](https://geopy.readthedocs.io/en/stable/)** to search **[Nominatim](https://nominatim.openstreetmap.org/ui/search.html)**\n",
    "  * Nominatim is a search engine for OpenStreetMap data.\n",
    "* Plot with **[ipyleaflet](https://ipyleaflet.readthedocs.io/en/latest/)**\n",
    "  * Ipyleaflet is a Jupyter widget for Leaflet.js\n",
    "* Uses **[routingpy](https://routingpy.readthedocs.io/en/latest/#)** against a locally running **[Valhalla](https://valhalla.github.io/valhalla/)**\n",
    "  * Valhalla is an open source routing engine and accompanying libraries for use with OpenStreetMap data\n",
    "  * Run a server with a norcal dataset for OpenStreetMap\n",
    "    ```bash\n",
    "    docker run --rm --name valhalla_gis-ops -p 8002:8002 -v $PWD/custom_files:/custom_files -e tile_urls=https://download.geofabrik.de/north-america/us/california/norcal-latest.osm.pbf ghcr.io/gis-ops/docker-valhalla/valhalla:latest\n",
    "    ```"
   ]
  },
  {
   "cell_type": "code",
   "execution_count": 1,
   "id": "f9b46595-12d6-4870-9f0a-69fc856cbadf",
   "metadata": {},
   "outputs": [],
   "source": [
    "#!pip install -r requirements.txt"
   ]
  },
  {
   "cell_type": "code",
   "execution_count": 2,
   "id": "2e5f9ed1-0c1d-4c8c-8a1c-91fedf209e7c",
   "metadata": {},
   "outputs": [],
   "source": [
    "from geopy import Location, Nominatim\n",
    "from ipyleaflet import AwesomeIcon, Map, Marker, LayerException, Polygon, Polyline, Popup\n",
    "from ipywidgets import HTML\n",
    "from routingpy import Valhalla\n",
    "from pprint import pprint\n",
    "from random import choice"
   ]
  },
  {
   "cell_type": "markdown",
   "id": "5e45bbe6-d09e-4037-a170-60e6ef4decff",
   "metadata": {},
   "source": [
    "# Search for a start location"
   ]
  },
  {
   "cell_type": "code",
   "execution_count": 3,
   "id": "e43ad0b3-2c1b-4057-b931-70fb3dea50df",
   "metadata": {},
   "outputs": [],
   "source": [
    "# Don't abuse\n",
    "\n",
    "# geolocator = Nominatim(user_agent=\"chris_test\")\n",
    "# start = geolocator.geocode(\"836 Shetland Pl, Sunnyvale, CA\")\n",
    "# start"
   ]
  },
  {
   "cell_type": "code",
   "execution_count": 4,
   "id": "9cea1097-b254-47dd-8088-6067f12b0611",
   "metadata": {},
   "outputs": [],
   "source": [
    "# Saved result for TRI HQ\n",
    "start = Location(\n",
    "    \"Toyota Research Institute, 4440, West El Camino Real, Los Altos, Santa Clara County, California, 94022, United States\", \n",
    "    (37.40253645, -122.1165510679842, 0.0),\n",
    "    {\n",
    "        'place_id': 311529403,\n",
    "         'licence': 'Data © OpenStreetMap contributors, ODbL 1.0. http://osm.org/copyright',\n",
    "         'osm_type': 'way',\n",
    "         'osm_id': 256656808,\n",
    "         'lat': '37.40253645',\n",
    "         'lon': '-122.1165510679842',\n",
    "         'class': 'building',\n",
    "         'type': 'commercial',\n",
    "         'place_rank': 30,\n",
    "         'importance': 9.99999999995449e-06,\n",
    "         'addresstype': 'building',\n",
    "         'name': 'Toyota Research Institute',\n",
    "         'display_name': 'Toyota Research Institute, 4440, West El Camino Real, Los Altos, Santa Clara County, California, 94022, United States',\n",
    "         'boundingbox': ['37.4021493', '37.4029503', '-122.1171370', '-122.1159999']\n",
    "    }\n",
    ")"
   ]
  },
  {
   "cell_type": "code",
   "execution_count": 5,
   "id": "c826fb81-687d-4c03-8d50-51ed383415c4",
   "metadata": {},
   "outputs": [],
   "source": [
    "start_lat_long = (start.latitude, start.longitude)\n",
    "start_long_lat = (start.longitude, start.latitude)"
   ]
  },
  {
   "cell_type": "code",
   "execution_count": 6,
   "id": "79bde4c8-5f5b-43b6-8723-5a6728ae37de",
   "metadata": {},
   "outputs": [
    {
     "data": {
      "application/vnd.jupyter.widget-view+json": {
       "model_id": "c5b9492d362741daacb48b1f693cf66b",
       "version_major": 2,
       "version_minor": 0
      },
      "text/plain": [
       "Map(center=[37.40253645, -122.1165510679842], controls=(ZoomControl(options=['position', 'zoom_in_text', 'zoom…"
      ]
     },
     "execution_count": 6,
     "metadata": {},
     "output_type": "execute_result"
    }
   ],
   "source": [
    "startpoint_icon = AwesomeIcon(\n",
    "    name='home',\n",
    "    marker_color='green',\n",
    "    icon_color='black',\n",
    "    spin=False\n",
    ")\n",
    "\n",
    "center_map = Map(center=start_lat_long, zoom=15)\n",
    "\n",
    "startpoint_marker = Marker(location=start_lat_long, draggable=False, icon=startpoint_icon)\n",
    "center_map.add_control(startpoint_marker)\n",
    "center_map"
   ]
  },
  {
   "cell_type": "markdown",
   "id": "7175ebcc-ed2b-4d1a-acc7-cc2860910ee0",
   "metadata": {},
   "source": [
    "# Get Isochrones for Time or Distance"
   ]
  },
  {
   "cell_type": "code",
   "execution_count": 7,
   "id": "be9c721b-58e3-4cc4-9d4c-a1f4a066ea4d",
   "metadata": {},
   "outputs": [],
   "source": [
    "MPH_TO_KPH = 1.60934\n",
    "METERS_PER_MILE = 1609.34\n",
    "SEC_PER_MIN = 60"
   ]
  },
  {
   "cell_type": "code",
   "execution_count": 8,
   "id": "e351e373-309d-471d-a875-39a85b219bfa",
   "metadata": {},
   "outputs": [],
   "source": [
    "desired_round_trip_time_min = 25\n",
    "desired_round_trip_distance_miles = 1\n",
    "desired_speed = 2.5 * MPH_TO_KPH\n",
    "zoom = 15\n",
    "# https://valhalla.github.io/valhalla/api/turn-by-turn/api-reference/#pedestrian-costing-options\n",
    "profile = \"pedestrian\"\n",
    "options = {\n",
    "    \"walking_speed\": desired_speed,\n",
    "\n",
    "    # higher value is higher cost (less favored)\n",
    "    \"walkway_factor\": 1,\n",
    "    \"sidewalk_factor\": 1,\n",
    "    \"alley_factor\": 2,\n",
    "    \"driveway_factor\": 5,\n",
    "    \"step_penalty\": 1,\n",
    "\n",
    "    # 0 to 1, where 1 is more favored\n",
    "    \"use_living_streets\": 0.6,\n",
    "    \"use_tracks\": 0.5,\n",
    "    \"use_hills\": 0.5,\n",
    "    \"use_lit\": 0\n",
    "}\n",
    "\n",
    "# desired_round_trip_time_min = 120\n",
    "# desired_round_trip_distance_miles = 15\n",
    "# desired_speed = 10 * MPH_TO_KPH\n",
    "# zoom = 12\n",
    "# profile = \"bicycle\"\n",
    "# options = {\n",
    "#     \"bicycle_type\": \"cross\",\n",
    "#     \"cycling_speed\": desired_speed,\n",
    "#     \"use_roads\":0\n",
    "# }"
   ]
  },
  {
   "cell_type": "code",
   "execution_count": 9,
   "id": "be4f9292-5137-4405-a43a-87c838a5a949",
   "metadata": {},
   "outputs": [
    {
     "data": {
      "application/vnd.jupyter.widget-view+json": {
       "model_id": "0ba33a7c671c46198a30972b62313b17",
       "version_major": 2,
       "version_minor": 0
      },
      "text/plain": [
       "Map(center=[37.40253645, -122.1165510679842], controls=(ZoomControl(options=['position', 'zoom_in_text', 'zoom…"
      ]
     },
     "execution_count": 9,
     "metadata": {},
     "output_type": "execute_result"
    }
   ],
   "source": [
    "isochrone_half = desired_round_trip_time_min * SEC_PER_MIN / 2\n",
    "equidistant_half = desired_round_trip_distance_miles * METERS_PER_MILE / 2\n",
    "\n",
    "halfway_isochrones = Valhalla('http://localhost:8002').isochrones(\n",
    "    locations=start_long_lat, \n",
    "    profile=profile,\n",
    "    units=\"mi\",\n",
    "    options=options,\n",
    "    intervals=[isochrone_half],\n",
    "    # intervals=[equidistant_half],\n",
    "    interval_type=\"time\"\n",
    ")\n",
    "\n",
    "\n",
    "halfway_points = [(lat, long) for (long, lat) in halfway_isochrones[0].geometry]\n",
    "halfway_area = Polygon(\n",
    "    locations=halfway_points,\n",
    "    color=\"blue\",\n",
    "    fill_color=\"blue\"\n",
    ")\n",
    "\n",
    "halfway_map = Map(center=start_lat_long, zoom=zoom)\n",
    "halfway_map.add(halfway_area);\n",
    "halfway_map.add(startpoint_marker)\n",
    "halfway_map"
   ]
  },
  {
   "cell_type": "markdown",
   "id": "b611ecde-e13f-40f9-907d-99ddf9ac1894",
   "metadata": {},
   "source": [
    "# Pick a waypoint\n",
    "\n",
    "Start with a random one, but you can move it."
   ]
  },
  {
   "cell_type": "code",
   "execution_count": 10,
   "id": "9f0ab9e9-de08-4db3-b458-3d08210abbf9",
   "metadata": {},
   "outputs": [],
   "source": [
    "all_instructions = []\n",
    "total_distance = 0 \n",
    "total_duration = 0\n",
    "all_geometry = []\n",
    "line = None\n",
    "popup = None\n",
    "waypoint_marker = None\n",
    "waypoint_icon = AwesomeIcon(\n",
    "    name='flag',\n",
    "    marker_color='blue',\n",
    "    icon_color='black',\n",
    "    spin=False\n",
    ")\n",
    "\n",
    "routing_map = Map(center=start_lat_long, zoom=15)\n",
    "routing_map.add_control(startpoint_marker)\n"
   ]
  },
  {
   "cell_type": "code",
   "execution_count": 11,
   "id": "4ce1ad65-5f59-4ed9-b14c-898c0fb3ce91",
   "metadata": {},
   "outputs": [
    {
     "data": {
      "application/vnd.jupyter.widget-view+json": {
       "model_id": "078b934706704bb18fc29dc2ebccb8a0",
       "version_major": 2,
       "version_minor": 0
      },
      "text/plain": [
       "Map(center=[37.40253645, -122.1165510679842], controls=(ZoomControl(options=['position', 'zoom_in_text', 'zoom…"
      ]
     },
     "metadata": {},
     "output_type": "display_data"
    }
   ],
   "source": [
    "try:\n",
    "    routing_map.remove(waypoint_marker)\n",
    "except LayerException:\n",
    "    pass\n",
    "waypoint_lat_long = choice(halfway_points)\n",
    "waypoint_marker = Marker(location=waypoint_lat_long, draggable=True, icon=waypoint_icon)\n",
    "routing_map.add(waypoint_marker)\n",
    "display(routing_map)"
   ]
  },
  {
   "cell_type": "markdown",
   "id": "ca830e0b-6dbd-4f62-b88a-0e3e898a8373",
   "metadata": {},
   "source": [
    "# Get a Route"
   ]
  },
  {
   "cell_type": "code",
   "execution_count": 12,
   "id": "initial_id",
   "metadata": {
    "ExecuteTime": {
     "end_time": "2024-05-28T21:20:51.132573Z",
     "start_time": "2024-05-28T21:20:51.055624Z"
    }
   },
   "outputs": [
    {
     "name": "stdout",
     "output_type": "stream",
     "text": [
      "Duration (minutes): 35.51943333333334\n",
      "Distance (miles): 1.4689999999999999\n",
      "['Walk northwest. Continue for 195 feet',\n",
      " 'Turn right. Continue for 68 feet',\n",
      " 'Turn left onto West El Camino Real/CA 82. Continue for 179 feet',\n",
      " 'Turn right onto Del Medio Avenue. Continue for 1288 feet',\n",
      " 'Turn left onto Miller Avenue. Continue for 1277 feet',\n",
      " 'Turn right onto Wilkie Way Bike Bridge. Continue for 396 feet',\n",
      " 'Turn left onto Wilkie Way. Continue for 554 feet',\n",
      " 'Your destination is on the right. Continue for 0 feet',\n",
      " 'Walk northeast on Wilkie Way. Continue for 554 feet',\n",
      " 'Turn right onto Wilkie Way Bike Bridge. Continue for 396 feet',\n",
      " 'Turn left onto Miller Avenue. Continue for 179 feet',\n",
      " 'Turn right onto Monroe Drive. Continue for 1124 feet',\n",
      " 'Bear left onto West El Camino Real/CA 82. Continue for 865 feet',\n",
      " 'Turn right. Continue for 21 feet',\n",
      " 'Turn left onto the walkway. Continue for 396 feet',\n",
      " 'Turn right. Continue for 31 feet',\n",
      " 'Turn left. Continue for 195 feet',\n",
      " 'Your destination is on the right. Continue for 0 feet']\n"
     ]
    },
    {
     "data": {
      "application/vnd.jupyter.widget-view+json": {
       "model_id": "078b934706704bb18fc29dc2ebccb8a0",
       "version_major": 2,
       "version_minor": 0
      },
      "text/plain": [
       "Map(bottom=3253522.0, center=[37.40253645, -122.1165510679842], controls=(ZoomControl(options=['position', 'zo…"
      ]
     },
     "execution_count": 12,
     "metadata": {},
     "output_type": "execute_result"
    }
   ],
   "source": [
    "waypoint_lat_long = waypoint_marker.location\n",
    "\n",
    "if line:\n",
    "    routing_map.remove(line)\n",
    "if popup:\n",
    "    routing_map.remove(popup)\n",
    "\n",
    "waypoint_long_lat = waypoint_lat_long[1], waypoint_lat_long[0]\n",
    "\n",
    "#six degrees of precision in valhalla\n",
    "inv = 1.0 / 1e6;\n",
    "\n",
    "#decode an encoded string\n",
    "def decode_shape(encoded):\n",
    "  decoded = []\n",
    "  previous = [0,0]\n",
    "  i = 0\n",
    "  #for each byte\n",
    "  while i < len(encoded):\n",
    "    #for each coord (lat, lon)\n",
    "    ll = [0,0]\n",
    "    for j in [0, 1]:\n",
    "      shift = 0\n",
    "      byte = 0x20\n",
    "      #keep decoding bytes until you have this coord\n",
    "      while byte >= 0x20:\n",
    "        byte = ord(encoded[i]) - 63\n",
    "        i += 1\n",
    "        ll[j] |= (byte & 0x1f) << shift\n",
    "        shift += 5\n",
    "      #get the final value adding the previous offset and remember it for the next\n",
    "      ll[j] = previous[j] + (~(ll[j] >> 1) if ll[j] & 1 else (ll[j] >> 1))\n",
    "      previous[j] = ll[j]\n",
    "    #scale by the precision and chop off long coords also flip the positions so\n",
    "    #its the far more standard lon,lat instead of lat,lon\n",
    "    decoded.append([float('%.6f' % (ll[1] * inv)), float('%.6f' % (ll[0] * inv))])\n",
    "  #hand back the list of coordinates\n",
    "  return decoded\n",
    "\n",
    "def get_directions(long_lat_1, long_lat_2):\n",
    "    directions = Valhalla('http://localhost:8002').directions(\n",
    "        locations=[long_lat_1, long_lat_2], \n",
    "        profile=profile,\n",
    "        units=\"mi\",\n",
    "        options=options,\n",
    "        instructions=True,\n",
    "        alternates=2,\n",
    "    )\n",
    "    if \"alternates\" in directions.raw:\n",
    "        raw_trip = directions.raw[\"alternates\"][0][\"trip\"]\n",
    "    else:\n",
    "        raw_trip = directions.raw[\"trip\"]\n",
    "        \n",
    "    instructions = [f\"{m['instruction']} Continue for {int(m['length'] * 5280)} feet\" for m in raw_trip[\"legs\"][0][\"maneuvers\"]]\n",
    "    distance = raw_trip[\"summary\"][\"length\"]\n",
    "    duration = raw_trip[\"summary\"][\"time\"] / 60\n",
    "    geometry = decode_shape(raw_trip[\"legs\"][0][\"shape\"])\n",
    "    return instructions, distance, duration, geometry\n",
    "\n",
    "all_instructions = []\n",
    "total_distance = 0 \n",
    "total_duration = 0\n",
    "all_geometry = []\n",
    "instructions, distance, duration, geometry = get_directions(start_long_lat, waypoint_long_lat)\n",
    "all_instructions.extend(instructions)\n",
    "total_distance += distance\n",
    "total_duration += duration\n",
    "all_geometry.extend(geometry)\n",
    "instructions, distance, duration, geometry = get_directions(waypoint_long_lat, start_long_lat)\n",
    "all_instructions.extend(instructions)\n",
    "total_distance += distance\n",
    "total_duration += duration\n",
    "all_geometry.extend(geometry)\n",
    "\n",
    "locations = [(lat, long) for (long, lat) in all_geometry]\n",
    "line = Polyline(\n",
    "    locations=locations,\n",
    "    color=\"green\" ,\n",
    "    fill=False\n",
    ")\n",
    "\n",
    "routing_map.add(line)\n",
    "\n",
    "print(\"Duration (minutes):\", total_duration)\n",
    "print(\"Distance (miles):\", total_distance)\n",
    "pprint(all_instructions)\n",
    "\n",
    "message = HTML()\n",
    "message.value = f\"{int(total_duration)} minutes; {total_distance} miles\"\n",
    "\n",
    "# Popup with a given location on the map:\n",
    "popup = Popup(\n",
    "    location=waypoint_lat_long,\n",
    "    child=message,\n",
    "    close_button=True,\n",
    "    auto_close=False,\n",
    "    close_on_escape_key=True\n",
    ")\n",
    "routing_map.add(popup)\n"
   ]
  },
  {
   "cell_type": "code",
   "execution_count": null,
   "id": "145b8f81-fd7c-4121-ad93-64a1df94e405",
   "metadata": {},
   "outputs": [],
   "source": []
  },
  {
   "cell_type": "markdown",
   "id": "198f9f50-ef34-4abe-b5d7-8809ccf00d6d",
   "metadata": {},
   "source": [
    "# Optimized Route through a number of waypoints"
   ]
  },
  {
   "cell_type": "code",
   "execution_count": 13,
   "id": "7fbb44ec-74da-4749-873f-7dc816d53dd2",
   "metadata": {},
   "outputs": [
    {
     "data": {
      "application/vnd.jupyter.widget-view+json": {
       "model_id": "460876915f7c459da32bbba328e3a2fa",
       "version_major": 2,
       "version_minor": 0
      },
      "text/plain": [
       "Map(center=[37.40253645, -122.1165510679842], controls=(ZoomControl(options=['position', 'zoom_in_text', 'zoom…"
      ]
     },
     "metadata": {},
     "output_type": "display_data"
    }
   ],
   "source": [
    "NUM_WAYPOINTS = 3\n",
    "waypoint_markers = [Marker(location=start_lat_long, draggable=True, icon=waypoint_icon) for _ in range(NUM_WAYPOINTS)]\n",
    "opt_routing_map = Map(center=start_lat_long, zoom=15)\n",
    "opt_routing_map.add_control(startpoint_marker)\n",
    "for waypoint_marker in waypoint_markers:\n",
    "    opt_routing_map.add_control(waypoint_marker)\n",
    "display(opt_routing_map)"
   ]
  },
  {
   "cell_type": "code",
   "execution_count": 14,
   "id": "13a895cd-3a68-4e8a-95c7-f5dc89a72708",
   "metadata": {},
   "outputs": [],
   "source": [
    "import requests\n",
    "import json\n",
    "\n",
    "optimized_line = None\n",
    "\n",
    "v = Valhalla('http://localhost:8002')"
   ]
  },
  {
   "cell_type": "code",
   "execution_count": 15,
   "id": "5cade505-8801-4b77-b1b5-875ee0933750",
   "metadata": {},
   "outputs": [
    {
     "data": {
      "application/vnd.jupyter.widget-view+json": {
       "model_id": "460876915f7c459da32bbba328e3a2fa",
       "version_major": 2,
       "version_minor": 0
      },
      "text/plain": [
       "Map(bottom=3253522.0, center=[37.40253645, -122.1165510679842], controls=(ZoomControl(options=['position', 'zo…"
      ]
     },
     "execution_count": 15,
     "metadata": {},
     "output_type": "execute_result"
    }
   ],
   "source": [
    "locations = [{\"lat\": start.latitude, \"lon\": start.longitude}]+[{\"lat\": w.location[0], \"lon\": w.location[1]} for w in waypoint_markers]+[{\"lat\": start.latitude, \"lon\": start.longitude}]\n",
    "\n",
    "json_params = {\"locations\":locations,\"costing\":profile,\"directions_options\":{\"units\":\"miles\"}}\n",
    "response = requests.get(f'http://localhost:8002/optimized_route?json={json.dumps(json_params)}')\n",
    "\n",
    "lon_lats = []\n",
    "for leg in response.json()['trip']['legs']:\n",
    "    lon_lats.extend(decode_shape(leg['shape']))\n",
    "lat_lons = [(lat, lon) for lon, lat in lon_lats]\n",
    "\n",
    "if optimized_line:\n",
    "    opt_routing_map.remove(optimized_line)\n",
    "optimized_line = Polyline(\n",
    "    locations=lat_lons,\n",
    "    color=\"green\" ,\n",
    "    fill=False\n",
    ")\n",
    "opt_routing_map.add(optimized_line)"
   ]
  },
  {
   "cell_type": "code",
   "execution_count": null,
   "id": "5ac50a5c-e200-40ba-807d-5c2f3ed0aba6",
   "metadata": {},
   "outputs": [],
   "source": []
  }
 ],
 "metadata": {
  "kernelspec": {
   "display_name": "Python 3 (ipykernel)",
   "language": "python",
   "name": "python3"
  },
  "language_info": {
   "codemirror_mode": {
    "name": "ipython",
    "version": 3
   },
   "file_extension": ".py",
   "mimetype": "text/x-python",
   "name": "python",
   "nbconvert_exporter": "python",
   "pygments_lexer": "ipython3",
   "version": "3.11.9"
  },
  "widgets": {
   "application/vnd.jupyter.widget-state+json": {
    "state": {
     "078b934706704bb18fc29dc2ebccb8a0": {
      "model_module": "jupyter-leaflet",
      "model_module_version": "^0.19",
      "model_name": "LeafletMapModel",
      "state": {
       "_model_module_version": "^0.19",
       "_view_module_version": "^0.19",
       "bottom": 3253522,
       "center": [
        37.40255102783601,
        -122.11655616760255
       ],
       "controls": [
        "IPY_MODEL_34e8140184574957834aee087df47f98",
        "IPY_MODEL_abc9b1f4d35a4af7a594775033131085"
       ],
       "default_style": "IPY_MODEL_cf255b9532a6447c844f0b5d026e7d03",
       "dragging_style": "IPY_MODEL_2d05b7e667154985a792148b7be7bbd0",
       "east": -122.09265232086183,
       "fullscreen": false,
       "interpolation": "bilinear",
       "layers": [
        "IPY_MODEL_733cff5e1f324ee0b275ae683e335826",
        "IPY_MODEL_ffdfdb8738f04ef4ba280596f33459fb",
        "IPY_MODEL_df2db6c65a3e4b63af8480c582b119bd",
        "IPY_MODEL_cca85b1342b6459eaca67a24909e86c1",
        "IPY_MODEL_2eafb721e2f34e4abb266332c6de9f4d"
       ],
       "layout": "IPY_MODEL_74cc301392d64fd198e0c4c6757793df",
       "left": 1348225,
       "modisdate": "2024-06-07",
       "north": 37.40936900089054,
       "options": [
        "bounce_at_zoom_limits",
        "box_zoom",
        "center",
        "close_popup_on_click",
        "double_click_zoom",
        "dragging",
        "fullscreen",
        "inertia",
        "inertia_deceleration",
        "inertia_max_speed",
        "interpolation",
        "keyboard",
        "keyboard_pan_offset",
        "keyboard_zoom_offset",
        "max_zoom",
        "min_zoom",
        "prefer_canvas",
        "scroll_wheel_zoom",
        "tap",
        "tap_tolerance",
        "touch_zoom",
        "world_copy_jump",
        "zoom",
        "zoom_animation_threshold",
        "zoom_delta",
        "zoom_snap"
       ],
       "prefer_canvas": false,
       "right": 1349339,
       "south": 37.39573243437289,
       "style": "IPY_MODEL_cf255b9532a6447c844f0b5d026e7d03",
       "top": 3253122,
       "west": -122.14046001434328,
       "window_url": "http://localhost:8888/notebooks/RoundTripRoutes.ipynb",
       "zoom": 15
      }
     },
     "09a3417a308e46a391db18365f0ce2a6": {
      "model_module": "@jupyter-widgets/controls",
      "model_module_version": "2.0.0",
      "model_name": "HTMLModel",
      "state": {
       "layout": "IPY_MODEL_deb1c74f4b8d4b5b88d31d89a1dd192b",
       "style": "IPY_MODEL_187e36a9ca3845d9aa18e175f5eee921",
       "value": "35 minutes; 1.4689999999999999 miles"
      }
     },
     "0ba33a7c671c46198a30972b62313b17": {
      "model_module": "jupyter-leaflet",
      "model_module_version": "^0.19",
      "model_name": "LeafletMapModel",
      "state": {
       "_model_module_version": "^0.19",
       "_view_module_version": "^0.19",
       "bottom": 3253322,
       "center": [
        37.40255102783601,
        -122.11655616760255
       ],
       "controls": [
        "IPY_MODEL_8274eae95a43436db624937e9d979efd",
        "IPY_MODEL_c8acbc7ad7ee4162b5445f588980429f"
       ],
       "default_style": "IPY_MODEL_6b06e759bef34d43814f4fc85d8200a9",
       "dragging_style": "IPY_MODEL_465d3e1f34a744acb91589845e595216",
       "east": -122.11655616760255,
       "fullscreen": false,
       "interpolation": "bilinear",
       "layers": [
        "IPY_MODEL_fb21557101f2419a85e940c069a94820",
        "IPY_MODEL_34144cd5b5d149be8026ebc34c8364f9",
        "IPY_MODEL_ffdfdb8738f04ef4ba280596f33459fb"
       ],
       "layout": "IPY_MODEL_1f24c49e5a9641a480dc80c71dcf70d7",
       "left": 1348782,
       "modisdate": "2024-06-07",
       "north": 37.40255102783601,
       "options": [
        "bounce_at_zoom_limits",
        "box_zoom",
        "center",
        "close_popup_on_click",
        "double_click_zoom",
        "dragging",
        "fullscreen",
        "inertia",
        "inertia_deceleration",
        "inertia_max_speed",
        "interpolation",
        "keyboard",
        "keyboard_pan_offset",
        "keyboard_zoom_offset",
        "max_zoom",
        "min_zoom",
        "prefer_canvas",
        "scroll_wheel_zoom",
        "tap",
        "tap_tolerance",
        "touch_zoom",
        "world_copy_jump",
        "zoom",
        "zoom_animation_threshold",
        "zoom_delta",
        "zoom_snap"
       ],
       "prefer_canvas": false,
       "right": 1348782,
       "south": 37.40255102783601,
       "style": "IPY_MODEL_6b06e759bef34d43814f4fc85d8200a9",
       "top": 3253322,
       "west": -122.11655616760255,
       "window_url": "http://localhost:8888/notebooks/RoundTripRoutes.ipynb",
       "zoom": 15
      }
     },
     "1429dc33ee144f13b49ea4c458e70f33": {
      "model_module": "jupyter-leaflet",
      "model_module_version": "^0.19",
      "model_name": "LeafletMapStyleModel",
      "state": {
       "_model_module_version": "^0.19"
      }
     },
     "16c33e25e2484ff9878a32375ac219d8": {
      "model_module": "jupyter-leaflet",
      "model_module_version": "^0.19",
      "model_name": "LeafletMarkerModel",
      "state": {
       "_model_module_version": "^0.19",
       "_view_module_version": "^0.19",
       "icon": "IPY_MODEL_3a3bea0bc8aa4966b76fcf17ceb66c99",
       "location": [
        37.40253645,
        -122.1165510679842
       ],
       "options": [
        "alt",
        "draggable",
        "keyboard",
        "rise_offset",
        "rise_on_hover",
        "rotation_angle",
        "rotation_origin",
        "title",
        "z_index_offset"
       ]
      }
     },
     "187e36a9ca3845d9aa18e175f5eee921": {
      "model_module": "@jupyter-widgets/controls",
      "model_module_version": "2.0.0",
      "model_name": "HTMLStyleModel",
      "state": {
       "description_width": "",
       "font_size": null,
       "text_color": null
      }
     },
     "1f24c49e5a9641a480dc80c71dcf70d7": {
      "model_module": "@jupyter-widgets/base",
      "model_module_version": "2.0.0",
      "model_name": "LayoutModel",
      "state": {}
     },
     "2d05b7e667154985a792148b7be7bbd0": {
      "model_module": "jupyter-leaflet",
      "model_module_version": "^0.19",
      "model_name": "LeafletMapStyleModel",
      "state": {
       "_model_module_version": "^0.19",
       "cursor": "move"
      }
     },
     "2eafb721e2f34e4abb266332c6de9f4d": {
      "model_module": "jupyter-leaflet",
      "model_module_version": "^0.19",
      "model_name": "LeafletPopupModel",
      "state": {
       "_model_module_version": "^0.19",
       "_view_module_version": "^0.19",
       "auto_close": false,
       "auto_pan": true,
       "auto_pan_padding": [
        5,
        5
       ],
       "auto_pan_padding_bottom_right": null,
       "auto_pan_padding_top_left": null,
       "child": "IPY_MODEL_09a3417a308e46a391db18365f0ce2a6",
       "close_button": true,
       "close_on_escape_key": true,
       "keep_in_view": false,
       "location": [
        37.408026,
        -122.118551
       ],
       "options": [
        "auto_close",
        "auto_pan",
        "auto_pan_padding",
        "auto_pan_padding_bottom_right",
        "auto_pan_padding_top_left",
        "close_button",
        "close_on_escape_key",
        "keep_in_view",
        "max_height",
        "max_width",
        "min_width"
       ]
      }
     },
     "34144cd5b5d149be8026ebc34c8364f9": {
      "model_module": "jupyter-leaflet",
      "model_module_version": "^0.19",
      "model_name": "LeafletPolygonModel",
      "state": {
       "_model_module_version": "^0.19",
       "_view_module_version": "^0.19",
       "color": "blue",
       "draggable": false,
       "fill_color": "blue",
       "locations": [
        [
         37.408772,
         -122.112551
        ],
        [
         37.408536,
         -122.113923
        ],
        [
         37.407409,
         -122.114551
        ],
        [
         37.408464,
         -122.115551
        ],
        [
         37.408738,
         -122.117551
        ],
        [
         37.408026,
         -122.118551
        ],
        [
         37.408616,
         -122.119472
        ],
        [
         37.409027,
         -122.121551
        ],
        [
         37.408536,
         -122.122369
        ],
        [
         37.408322,
         -122.121765
        ],
        [
         37.406925,
         -122.12194
        ],
        [
         37.406537,
         -122.122961
        ],
        [
         37.404921,
         -122.122167
        ],
        [
         37.402784,
         -122.122799
        ],
        [
         37.402536,
         -122.12325
        ],
        [
         37.400641,
         -122.122446
        ],
        [
         37.399899,
         -122.121551
        ],
        [
         37.401046,
         -122.119551
        ],
        [
         37.399536,
         -122.119153
        ],
        [
         37.396089,
         -122.114551
        ],
        [
         37.397836,
         -122.11185
        ],
        [
         37.398537,
         -122.108261
        ],
        [
         37.403569,
         -122.109519
        ],
        [
         37.406676,
         -122.111412
        ],
        [
         37.408375,
         -122.111713
        ],
        [
         37.408772,
         -122.112551
        ]
       ],
       "options": [
        "color",
        "dash_array",
        "draggable",
        "fill",
        "fill_color",
        "fill_opacity",
        "line_cap",
        "line_join",
        "no_clip",
        "opacity",
        "pointer_events",
        "smooth_factor",
        "stroke",
        "transform",
        "weight"
       ],
       "rotation": true,
       "scaling": true,
       "transform": false,
       "uniform_scaling": false
      }
     },
     "34e8140184574957834aee087df47f98": {
      "model_module": "jupyter-leaflet",
      "model_module_version": "^0.19",
      "model_name": "LeafletZoomControlModel",
      "state": {
       "_model_module_version": "^0.19",
       "_view_module_version": "^0.19",
       "options": [
        "position",
        "zoom_in_text",
        "zoom_in_title",
        "zoom_out_text",
        "zoom_out_title"
       ]
      }
     },
     "36dc4e9687404287bc4310cc50db9312": {
      "model_module": "@jupyter-widgets/base",
      "model_module_version": "2.0.0",
      "model_name": "LayoutModel",
      "state": {}
     },
     "3a3bea0bc8aa4966b76fcf17ceb66c99": {
      "model_module": "jupyter-leaflet",
      "model_module_version": "^0.19",
      "model_name": "LeafletAwesomeIconModel",
      "state": {
       "_model_module_version": "^0.19",
       "_view_module_version": "^0.19",
       "icon_color": "black",
       "name": "flag"
      }
     },
     "3c33e01df3004e68b65b1e2ea8d93fbf": {
      "model_module": "jupyter-leaflet",
      "model_module_version": "^0.19",
      "model_name": "LeafletPolylineModel",
      "state": {
       "_model_module_version": "^0.19",
       "_view_module_version": "^0.19",
       "color": "green",
       "draggable": false,
       "fill": false,
       "locations": [
        [
         37.402687,
         -122.116361
        ],
        [
         37.402687,
         -122.116361
        ],
        [
         37.402687,
         -122.116361
        ],
        [
         37.402687,
         -122.116361
        ],
        [
         37.402687,
         -122.116361
        ],
        [
         37.402687,
         -122.116361
        ],
        [
         37.402687,
         -122.116361
        ],
        [
         37.402687,
         -122.116361
        ]
       ],
       "options": [
        "color",
        "dash_array",
        "draggable",
        "fill",
        "fill_color",
        "fill_opacity",
        "line_cap",
        "line_join",
        "no_clip",
        "opacity",
        "pointer_events",
        "smooth_factor",
        "stroke",
        "transform",
        "weight"
       ],
       "rotation": true,
       "scaling": true,
       "transform": false,
       "uniform_scaling": false
      }
     },
     "3c7e60cd6fe341eaa313fefea1d87c1b": {
      "model_module": "jupyter-leaflet",
      "model_module_version": "^0.19",
      "model_name": "LeafletMapStyleModel",
      "state": {
       "_model_module_version": "^0.19"
      }
     },
     "460876915f7c459da32bbba328e3a2fa": {
      "model_module": "jupyter-leaflet",
      "model_module_version": "^0.19",
      "model_name": "LeafletMapModel",
      "state": {
       "_model_module_version": "^0.19",
       "_view_module_version": "^0.19",
       "bottom": 3253522,
       "center": [
        37.40253645,
        -122.1165510679842
       ],
       "controls": [
        "IPY_MODEL_a05b02f21fd24980b2e00ddc4862786f",
        "IPY_MODEL_a50cf78987544ee2986174934632af82"
       ],
       "default_style": "IPY_MODEL_8f6d40609f1648bd9e28c8feecda99e6",
       "dragging_style": "IPY_MODEL_83dacf0baa4c40ca888aa01f69f6be60",
       "east": -122.09265232086183,
       "fullscreen": false,
       "interpolation": "bilinear",
       "layers": [
        "IPY_MODEL_e24cac0826744649992bdeede10a667f",
        "IPY_MODEL_ffdfdb8738f04ef4ba280596f33459fb",
        "IPY_MODEL_ccf02c4096a74ddc8477eba1ff959747",
        "IPY_MODEL_6b85cd45787549b88f6a975042f334ae",
        "IPY_MODEL_16c33e25e2484ff9878a32375ac219d8",
        "IPY_MODEL_3c33e01df3004e68b65b1e2ea8d93fbf"
       ],
       "layout": "IPY_MODEL_743653657406419b9fefb73927d168e0",
       "left": 1348225,
       "modisdate": "2024-06-07",
       "north": 37.40936900089054,
       "options": [
        "bounce_at_zoom_limits",
        "box_zoom",
        "center",
        "close_popup_on_click",
        "double_click_zoom",
        "dragging",
        "fullscreen",
        "inertia",
        "inertia_deceleration",
        "inertia_max_speed",
        "interpolation",
        "keyboard",
        "keyboard_pan_offset",
        "keyboard_zoom_offset",
        "max_zoom",
        "min_zoom",
        "prefer_canvas",
        "scroll_wheel_zoom",
        "tap",
        "tap_tolerance",
        "touch_zoom",
        "world_copy_jump",
        "zoom",
        "zoom_animation_threshold",
        "zoom_delta",
        "zoom_snap"
       ],
       "prefer_canvas": false,
       "right": 1349339,
       "south": 37.39573243437289,
       "style": "IPY_MODEL_3c7e60cd6fe341eaa313fefea1d87c1b",
       "top": 3253122,
       "west": -122.14046001434328,
       "window_url": "http://localhost:8888/notebooks/RoundTripRoutes.ipynb",
       "zoom": 15
      }
     },
     "465d3e1f34a744acb91589845e595216": {
      "model_module": "jupyter-leaflet",
      "model_module_version": "^0.19",
      "model_name": "LeafletMapStyleModel",
      "state": {
       "_model_module_version": "^0.19",
       "cursor": "move"
      }
     },
     "4f67ae8161c64884af420a7bcbcf6068": {
      "model_module": "jupyter-leaflet",
      "model_module_version": "^0.19",
      "model_name": "LeafletMapStyleModel",
      "state": {
       "_model_module_version": "^0.19"
      }
     },
     "6236623ca1e044429f0f5ec177c3bf2f": {
      "model_module": "jupyter-leaflet",
      "model_module_version": "^0.19",
      "model_name": "LeafletZoomControlModel",
      "state": {
       "_model_module_version": "^0.19",
       "_view_module_version": "^0.19",
       "options": [
        "position",
        "zoom_in_text",
        "zoom_in_title",
        "zoom_out_text",
        "zoom_out_title"
       ]
      }
     },
     "6b06e759bef34d43814f4fc85d8200a9": {
      "model_module": "jupyter-leaflet",
      "model_module_version": "^0.19",
      "model_name": "LeafletMapStyleModel",
      "state": {
       "_model_module_version": "^0.19"
      }
     },
     "6b85cd45787549b88f6a975042f334ae": {
      "model_module": "jupyter-leaflet",
      "model_module_version": "^0.19",
      "model_name": "LeafletMarkerModel",
      "state": {
       "_model_module_version": "^0.19",
       "_view_module_version": "^0.19",
       "icon": "IPY_MODEL_3a3bea0bc8aa4966b76fcf17ceb66c99",
       "location": [
        37.40253645,
        -122.1165510679842
       ],
       "options": [
        "alt",
        "draggable",
        "keyboard",
        "rise_offset",
        "rise_on_hover",
        "rotation_angle",
        "rotation_origin",
        "title",
        "z_index_offset"
       ]
      }
     },
     "733cff5e1f324ee0b275ae683e335826": {
      "model_module": "jupyter-leaflet",
      "model_module_version": "^0.19",
      "model_name": "LeafletTileLayerModel",
      "state": {
       "_model_module_version": "^0.19",
       "_view_module_version": "^0.19",
       "attribution": "&copy; <a href=\"https://www.openstreetmap.org/copyright\">OpenStreetMap</a> contributors",
       "base": true,
       "max_zoom": 19,
       "min_zoom": 1,
       "name": "OpenStreetMap.Mapnik",
       "options": [
        "attribution",
        "bounds",
        "detect_retina",
        "max_native_zoom",
        "max_zoom",
        "min_native_zoom",
        "min_zoom",
        "no_wrap",
        "tile_size",
        "tms",
        "zoom_offset"
       ],
       "url": "https://tile.openstreetmap.org/{z}/{x}/{y}.png"
      }
     },
     "743653657406419b9fefb73927d168e0": {
      "model_module": "@jupyter-widgets/base",
      "model_module_version": "2.0.0",
      "model_name": "LayoutModel",
      "state": {}
     },
     "74cc301392d64fd198e0c4c6757793df": {
      "model_module": "@jupyter-widgets/base",
      "model_module_version": "2.0.0",
      "model_name": "LayoutModel",
      "state": {}
     },
     "8274eae95a43436db624937e9d979efd": {
      "model_module": "jupyter-leaflet",
      "model_module_version": "^0.19",
      "model_name": "LeafletZoomControlModel",
      "state": {
       "_model_module_version": "^0.19",
       "_view_module_version": "^0.19",
       "options": [
        "position",
        "zoom_in_text",
        "zoom_in_title",
        "zoom_out_text",
        "zoom_out_title"
       ]
      }
     },
     "83dacf0baa4c40ca888aa01f69f6be60": {
      "model_module": "jupyter-leaflet",
      "model_module_version": "^0.19",
      "model_name": "LeafletMapStyleModel",
      "state": {
       "_model_module_version": "^0.19",
       "cursor": "move"
      }
     },
     "8f4fad8fa90541c6bf51396c9d4f171c": {
      "model_module": "jupyter-leaflet",
      "model_module_version": "^0.19",
      "model_name": "LeafletAwesomeIconModel",
      "state": {
       "_model_module_version": "^0.19",
       "_view_module_version": "^0.19",
       "icon_color": "black",
       "marker_color": "green"
      }
     },
     "8f6d40609f1648bd9e28c8feecda99e6": {
      "model_module": "jupyter-leaflet",
      "model_module_version": "^0.19",
      "model_name": "LeafletMapStyleModel",
      "state": {
       "_model_module_version": "^0.19"
      }
     },
     "9db767f27d154f9183258d36388335d7": {
      "model_module": "jupyter-leaflet",
      "model_module_version": "^0.19",
      "model_name": "LeafletMapStyleModel",
      "state": {
       "_model_module_version": "^0.19",
       "cursor": "move"
      }
     },
     "a05b02f21fd24980b2e00ddc4862786f": {
      "model_module": "jupyter-leaflet",
      "model_module_version": "^0.19",
      "model_name": "LeafletZoomControlModel",
      "state": {
       "_model_module_version": "^0.19",
       "_view_module_version": "^0.19",
       "options": [
        "position",
        "zoom_in_text",
        "zoom_in_title",
        "zoom_out_text",
        "zoom_out_title"
       ]
      }
     },
     "a50cf78987544ee2986174934632af82": {
      "model_module": "jupyter-leaflet",
      "model_module_version": "^0.19",
      "model_name": "LeafletAttributionControlModel",
      "state": {
       "_model_module_version": "^0.19",
       "_view_module_version": "^0.19",
       "options": [
        "position",
        "prefix"
       ],
       "position": "bottomright",
       "prefix": "ipyleaflet"
      }
     },
     "abc9b1f4d35a4af7a594775033131085": {
      "model_module": "jupyter-leaflet",
      "model_module_version": "^0.19",
      "model_name": "LeafletAttributionControlModel",
      "state": {
       "_model_module_version": "^0.19",
       "_view_module_version": "^0.19",
       "options": [
        "position",
        "prefix"
       ],
       "position": "bottomright",
       "prefix": "ipyleaflet"
      }
     },
     "b4ef31dd116c45ed9cbf65d7c13cbdf1": {
      "model_module": "jupyter-leaflet",
      "model_module_version": "^0.19",
      "model_name": "LeafletMapStyleModel",
      "state": {
       "_model_module_version": "^0.19"
      }
     },
     "c5b9492d362741daacb48b1f693cf66b": {
      "model_module": "jupyter-leaflet",
      "model_module_version": "^0.19",
      "model_name": "LeafletMapModel",
      "state": {
       "_model_module_version": "^0.19",
       "_view_module_version": "^0.19",
       "bottom": 3253322,
       "center": [
        37.40255102783601,
        -122.11655616760255
       ],
       "controls": [
        "IPY_MODEL_6236623ca1e044429f0f5ec177c3bf2f",
        "IPY_MODEL_d11a37e576644ec08f7957c67a0a96e6"
       ],
       "default_style": "IPY_MODEL_ccd307a18b494649b120064b8997d97d",
       "dragging_style": "IPY_MODEL_9db767f27d154f9183258d36388335d7",
       "east": -122.11655616760255,
       "fullscreen": false,
       "interpolation": "bilinear",
       "layers": [
        "IPY_MODEL_c66c2af4835a49b88780adc063198700",
        "IPY_MODEL_ffdfdb8738f04ef4ba280596f33459fb"
       ],
       "layout": "IPY_MODEL_36dc4e9687404287bc4310cc50db9312",
       "left": 1348782,
       "modisdate": "2024-06-07",
       "north": 37.40255102783601,
       "options": [
        "bounce_at_zoom_limits",
        "box_zoom",
        "center",
        "close_popup_on_click",
        "double_click_zoom",
        "dragging",
        "fullscreen",
        "inertia",
        "inertia_deceleration",
        "inertia_max_speed",
        "interpolation",
        "keyboard",
        "keyboard_pan_offset",
        "keyboard_zoom_offset",
        "max_zoom",
        "min_zoom",
        "prefer_canvas",
        "scroll_wheel_zoom",
        "tap",
        "tap_tolerance",
        "touch_zoom",
        "world_copy_jump",
        "zoom",
        "zoom_animation_threshold",
        "zoom_delta",
        "zoom_snap"
       ],
       "prefer_canvas": false,
       "right": 1348782,
       "south": 37.40255102783601,
       "style": "IPY_MODEL_ccd307a18b494649b120064b8997d97d",
       "top": 3253322,
       "west": -122.11655616760255,
       "window_url": "http://localhost:8888/notebooks/RoundTripRoutes.ipynb",
       "zoom": 15
      }
     },
     "c66c2af4835a49b88780adc063198700": {
      "model_module": "jupyter-leaflet",
      "model_module_version": "^0.19",
      "model_name": "LeafletTileLayerModel",
      "state": {
       "_model_module_version": "^0.19",
       "_view_module_version": "^0.19",
       "attribution": "&copy; <a href=\"https://www.openstreetmap.org/copyright\">OpenStreetMap</a> contributors",
       "base": true,
       "max_zoom": 19,
       "min_zoom": 1,
       "name": "OpenStreetMap.Mapnik",
       "options": [
        "attribution",
        "bounds",
        "detect_retina",
        "max_native_zoom",
        "max_zoom",
        "min_native_zoom",
        "min_zoom",
        "no_wrap",
        "tile_size",
        "tms",
        "zoom_offset"
       ],
       "url": "https://tile.openstreetmap.org/{z}/{x}/{y}.png"
      }
     },
     "c8acbc7ad7ee4162b5445f588980429f": {
      "model_module": "jupyter-leaflet",
      "model_module_version": "^0.19",
      "model_name": "LeafletAttributionControlModel",
      "state": {
       "_model_module_version": "^0.19",
       "_view_module_version": "^0.19",
       "options": [
        "position",
        "prefix"
       ],
       "position": "bottomright",
       "prefix": "ipyleaflet"
      }
     },
     "cca85b1342b6459eaca67a24909e86c1": {
      "model_module": "jupyter-leaflet",
      "model_module_version": "^0.19",
      "model_name": "LeafletPolylineModel",
      "state": {
       "_model_module_version": "^0.19",
       "_view_module_version": "^0.19",
       "color": "green",
       "draggable": false,
       "fill": false,
       "locations": [
        [
         37.402687,
         -122.116361
        ],
        [
         37.402997,
         -122.11675
        ],
        [
         37.40308,
         -122.116825
        ],
        [
         37.403126,
         -122.11676
        ],
        [
         37.403145,
         -122.116732
        ],
        [
         37.403206,
         -122.116646
        ],
        [
         37.403564,
         -122.11707
        ],
        [
         37.40361,
         -122.11687
        ],
        [
         37.40366,
         -122.116787
        ],
        [
         37.403681,
         -122.11676
        ],
        [
         37.403753,
         -122.116689
        ],
        [
         37.403905,
         -122.116537
        ],
        [
         37.403959,
         -122.116487
        ],
        [
         37.404131,
         -122.116317
        ],
        [
         37.404335,
         -122.116116
        ],
        [
         37.404356,
         -122.116096
        ],
        [
         37.40478,
         -122.115678
        ],
        [
         37.405189,
         -122.115267
        ],
        [
         37.405247,
         -122.115208
        ],
        [
         37.405277,
         -122.11518
        ],
        [
         37.405353,
         -122.115103
        ],
        [
         37.405365,
         -122.115091
        ],
        [
         37.40559,
         -122.114869
        ],
        [
         37.405774,
         -122.114686
        ],
        [
         37.405907,
         -122.114555
        ],
        [
         37.406131,
         -122.114332
        ],
        [
         37.406245,
         -122.114218
        ],
        [
         37.406291,
         -122.114293
        ],
        [
         37.406309,
         -122.114322
        ],
        [
         37.406425,
         -122.11451
        ],
        [
         37.406782,
         -122.11509
        ],
        [
         37.40719,
         -122.115738
        ],
        [
         37.407273,
         -122.115864
        ],
        [
         37.407399,
         -122.115977
        ],
        [
         37.407603,
         -122.1163
        ],
        [
         37.407649,
         -122.116372
        ],
        [
         37.407708,
         -122.116467
        ],
        [
         37.408146,
         -122.117168
        ],
        [
         37.4083,
         -122.117436
        ],
        [
         37.40841,
         -122.117692
        ],
        [
         37.408464,
         -122.117702
        ],
        [
         37.408565,
         -122.117782
        ],
        [
         37.408704,
         -122.11786
        ],
        [
         37.408888,
         -122.117921
        ],
        [
         37.409097,
         -122.117932
        ],
        [
         37.409225,
         -122.118086
        ],
        [
         37.409262,
         -122.118131
        ],
        [
         37.409199,
         -122.118288
        ],
        [
         37.409156,
         -122.118247
        ],
        [
         37.409073,
         -122.118195
        ],
        [
         37.408826,
         -122.118117
        ],
        [
         37.408411,
         -122.117913
        ],
        [
         37.408298,
         -122.117925
        ],
        [
         37.408183,
         -122.118015
        ],
        [
         37.407919,
         -122.118447
        ],
        [
         37.407919,
         -122.118447
        ],
        [
         37.408183,
         -122.118015
        ],
        [
         37.408298,
         -122.117925
        ],
        [
         37.408411,
         -122.117913
        ],
        [
         37.408826,
         -122.118117
        ],
        [
         37.409073,
         -122.118195
        ],
        [
         37.409156,
         -122.118247
        ],
        [
         37.409199,
         -122.118288
        ],
        [
         37.409262,
         -122.118131
        ],
        [
         37.409225,
         -122.118086
        ],
        [
         37.409097,
         -122.117932
        ],
        [
         37.408888,
         -122.117921
        ],
        [
         37.408704,
         -122.11786
        ],
        [
         37.408565,
         -122.117782
        ],
        [
         37.408464,
         -122.117702
        ],
        [
         37.40841,
         -122.117692
        ],
        [
         37.4083,
         -122.117436
        ],
        [
         37.408146,
         -122.117168
        ],
        [
         37.408091,
         -122.11722
        ],
        [
         37.40687,
         -122.118426
        ],
        [
         37.406676,
         -122.118641
        ],
        [
         37.406428,
         -122.118924
        ],
        [
         37.406333,
         -122.119032
        ],
        [
         37.406252,
         -122.119108
        ],
        [
         37.405959,
         -122.119382
        ],
        [
         37.405937,
         -122.119402
        ],
        [
         37.405881,
         -122.119477
        ],
        [
         37.405739,
         -122.119619
        ],
        [
         37.40551,
         -122.119364
        ],
        [
         37.405419,
         -122.119256
        ],
        [
         37.404981,
         -122.118737
        ],
        [
         37.404846,
         -122.118578
        ],
        [
         37.40481,
         -122.118535
        ],
        [
         37.404768,
         -122.118485
        ],
        [
         37.404653,
         -122.11835
        ],
        [
         37.404639,
         -122.118332
        ],
        [
         37.404591,
         -122.118275
        ],
        [
         37.404518,
         -122.118189
        ],
        [
         37.404406,
         -122.118056
        ],
        [
         37.40438,
         -122.118025
        ],
        [
         37.404259,
         -122.117881
        ],
        [
         37.40421,
         -122.117824
        ],
        [
         37.404019,
         -122.117613
        ],
        [
         37.404004,
         -122.117596
        ],
        [
         37.403953,
         -122.117659
        ],
        [
         37.403531,
         -122.117178
        ],
        [
         37.403145,
         -122.116732
        ],
        [
         37.403126,
         -122.11676
        ],
        [
         37.40308,
         -122.116825
        ],
        [
         37.402997,
         -122.11675
        ],
        [
         37.402687,
         -122.116361
        ]
       ],
       "options": [
        "color",
        "dash_array",
        "draggable",
        "fill",
        "fill_color",
        "fill_opacity",
        "line_cap",
        "line_join",
        "no_clip",
        "opacity",
        "pointer_events",
        "smooth_factor",
        "stroke",
        "transform",
        "weight"
       ],
       "rotation": true,
       "scaling": true,
       "transform": false,
       "uniform_scaling": false
      }
     },
     "ccd307a18b494649b120064b8997d97d": {
      "model_module": "jupyter-leaflet",
      "model_module_version": "^0.19",
      "model_name": "LeafletMapStyleModel",
      "state": {
       "_model_module_version": "^0.19"
      }
     },
     "ccf02c4096a74ddc8477eba1ff959747": {
      "model_module": "jupyter-leaflet",
      "model_module_version": "^0.19",
      "model_name": "LeafletMarkerModel",
      "state": {
       "_model_module_version": "^0.19",
       "_view_module_version": "^0.19",
       "icon": "IPY_MODEL_3a3bea0bc8aa4966b76fcf17ceb66c99",
       "location": [
        37.40253645,
        -122.1165510679842
       ],
       "options": [
        "alt",
        "draggable",
        "keyboard",
        "rise_offset",
        "rise_on_hover",
        "rotation_angle",
        "rotation_origin",
        "title",
        "z_index_offset"
       ]
      }
     },
     "cf255b9532a6447c844f0b5d026e7d03": {
      "model_module": "jupyter-leaflet",
      "model_module_version": "^0.19",
      "model_name": "LeafletMapStyleModel",
      "state": {
       "_model_module_version": "^0.19"
      }
     },
     "d11a37e576644ec08f7957c67a0a96e6": {
      "model_module": "jupyter-leaflet",
      "model_module_version": "^0.19",
      "model_name": "LeafletAttributionControlModel",
      "state": {
       "_model_module_version": "^0.19",
       "_view_module_version": "^0.19",
       "options": [
        "position",
        "prefix"
       ],
       "position": "bottomright",
       "prefix": "ipyleaflet"
      }
     },
     "deb1c74f4b8d4b5b88d31d89a1dd192b": {
      "model_module": "@jupyter-widgets/base",
      "model_module_version": "2.0.0",
      "model_name": "LayoutModel",
      "state": {}
     },
     "df2db6c65a3e4b63af8480c582b119bd": {
      "model_module": "jupyter-leaflet",
      "model_module_version": "^0.19",
      "model_name": "LeafletMarkerModel",
      "state": {
       "_model_module_version": "^0.19",
       "_view_module_version": "^0.19",
       "icon": "IPY_MODEL_3a3bea0bc8aa4966b76fcf17ceb66c99",
       "location": [
        37.408026,
        -122.118551
       ],
       "options": [
        "alt",
        "draggable",
        "keyboard",
        "rise_offset",
        "rise_on_hover",
        "rotation_angle",
        "rotation_origin",
        "title",
        "z_index_offset"
       ]
      }
     },
     "e24cac0826744649992bdeede10a667f": {
      "model_module": "jupyter-leaflet",
      "model_module_version": "^0.19",
      "model_name": "LeafletTileLayerModel",
      "state": {
       "_model_module_version": "^0.19",
       "_view_module_version": "^0.19",
       "attribution": "&copy; <a href=\"https://www.openstreetmap.org/copyright\">OpenStreetMap</a> contributors",
       "base": true,
       "max_zoom": 19,
       "min_zoom": 1,
       "name": "OpenStreetMap.Mapnik",
       "options": [
        "attribution",
        "bounds",
        "detect_retina",
        "max_native_zoom",
        "max_zoom",
        "min_native_zoom",
        "min_zoom",
        "no_wrap",
        "tile_size",
        "tms",
        "zoom_offset"
       ],
       "url": "https://tile.openstreetmap.org/{z}/{x}/{y}.png"
      }
     },
     "fb21557101f2419a85e940c069a94820": {
      "model_module": "jupyter-leaflet",
      "model_module_version": "^0.19",
      "model_name": "LeafletTileLayerModel",
      "state": {
       "_model_module_version": "^0.19",
       "_view_module_version": "^0.19",
       "attribution": "&copy; <a href=\"https://www.openstreetmap.org/copyright\">OpenStreetMap</a> contributors",
       "base": true,
       "max_zoom": 19,
       "min_zoom": 1,
       "name": "OpenStreetMap.Mapnik",
       "options": [
        "attribution",
        "bounds",
        "detect_retina",
        "max_native_zoom",
        "max_zoom",
        "min_native_zoom",
        "min_zoom",
        "no_wrap",
        "tile_size",
        "tms",
        "zoom_offset"
       ],
       "url": "https://tile.openstreetmap.org/{z}/{x}/{y}.png"
      }
     },
     "ffdfdb8738f04ef4ba280596f33459fb": {
      "model_module": "jupyter-leaflet",
      "model_module_version": "^0.19",
      "model_name": "LeafletMarkerModel",
      "state": {
       "_model_module_version": "^0.19",
       "_view_module_version": "^0.19",
       "draggable": false,
       "icon": "IPY_MODEL_8f4fad8fa90541c6bf51396c9d4f171c",
       "location": [
        37.40253645,
        -122.1165510679842
       ],
       "options": [
        "alt",
        "draggable",
        "keyboard",
        "rise_offset",
        "rise_on_hover",
        "rotation_angle",
        "rotation_origin",
        "title",
        "z_index_offset"
       ]
      }
     }
    },
    "version_major": 2,
    "version_minor": 0
   }
  }
 },
 "nbformat": 4,
 "nbformat_minor": 5
}
