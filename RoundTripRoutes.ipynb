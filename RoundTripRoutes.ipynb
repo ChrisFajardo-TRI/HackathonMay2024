{
 "cells": [
  {
   "cell_type": "markdown",
   "id": "f40af95f-331b-4600-9c11-bf9cf4d35be0",
   "metadata": {},
   "source": [
    "# Round Trip Routes\n",
    "\n",
    "## Goals\n",
    "* To get a suggested round trip route for a certain distance or duration. Useful to plan for exercise, such as taking a 30min walk around the office.\n",
    "* To learn about OpenStreetMap and related libraries for routing.\n",
    "\n",
    "## Current Algorithm\n",
    "* Search for an isochrone for half the desired distance or duration.\n",
    "* Pick a random one and navigate there and back. Use alternate routes (only when available) to avoid retracing your steps.\n",
    "* Route factor in walking speed and other parameters that already exist in Valhalla API.\n",
    "\n",
    "## Future considerations\n",
    "* Avoid traffic lights (need to query OpenStreetMap for traffic lights in the area then add them to \"avoid_locations\" parameter)\n",
    "* Favor shaded area"
   ]
  },
  {
   "cell_type": "markdown",
   "id": "e325c356-ee5c-48a9-b21f-f770f7e565b4",
   "metadata": {},
   "source": [
    "# Dependencies\n",
    "\n",
    "* Uses **[geopy](https://geopy.readthedocs.io/en/stable/)** to search **[Nominatim](https://nominatim.openstreetmap.org/ui/search.html)**\n",
    "  * Nominatim is a search engine for OpenStreetMap data.\n",
    "* Plot with **[ipyleaflet](https://ipyleaflet.readthedocs.io/en/latest/)**\n",
    "  * Ipyleaflet is a Jupyter widget for Leaflet.js\n",
    "* Uses **[routingpy](https://routingpy.readthedocs.io/en/latest/#)** against a locally running **[Valhalla](https://valhalla.github.io/valhalla/)**\n",
    "  * Valhalla is an open source routing engine and accompanying libraries for use with OpenStreetMap data\n",
    "  * Run a server with a norcal dataset for OpenStreetMap\n",
    "    ```bash\n",
    "    docker run --rm --name valhalla_gis-ops -p 8002:8002 -v $PWD/custom_files:/custom_files -e tile_urls=https://download.geofabrik.de/north-america/us/california/norcal-latest.osm.pbf ghcr.io/gis-ops/docker-valhalla/valhalla:latest\n",
    "    ```"
   ]
  },
  {
   "cell_type": "code",
   "execution_count": 1,
   "id": "f9b46595-12d6-4870-9f0a-69fc856cbadf",
   "metadata": {},
   "outputs": [],
   "source": [
    "#!pip install -r requirements.txt"
   ]
  },
  {
   "cell_type": "code",
   "execution_count": 2,
   "id": "2e5f9ed1-0c1d-4c8c-8a1c-91fedf209e7c",
   "metadata": {},
   "outputs": [],
   "source": [
    "from geopy import Location, Nominatim\n",
    "from ipyleaflet import AwesomeIcon, Map, Marker, Polygon, Polyline, Popup\n",
    "from ipywidgets import HTML\n",
    "from routingpy import Valhalla\n",
    "from pprint import pprint\n",
    "from random import choice"
   ]
  },
  {
   "cell_type": "markdown",
   "id": "5e45bbe6-d09e-4037-a170-60e6ef4decff",
   "metadata": {},
   "source": [
    "# Search for a start location"
   ]
  },
  {
   "cell_type": "code",
   "execution_count": 3,
   "id": "e43ad0b3-2c1b-4057-b931-70fb3dea50df",
   "metadata": {},
   "outputs": [],
   "source": [
    "# Don't abuse\n",
    "\n",
    "# geolocator = Nominatim(user_agent=\"chris_test\")\n",
    "# start = geolocator.geocode(\"Toyota Research Institute\")"
   ]
  },
  {
   "cell_type": "code",
   "execution_count": 4,
   "id": "9cea1097-b254-47dd-8088-6067f12b0611",
   "metadata": {},
   "outputs": [],
   "source": [
    "# Saved result for TRI HQ\n",
    "start = Location(\n",
    "    \"Toyota Research Institute, 4440, West El Camino Real, Los Altos, Santa Clara County, California, 94022, United States\", \n",
    "    (37.40253645, -122.1165510679842, 0.0),\n",
    "    {\n",
    "        'place_id': 311529403,\n",
    "         'licence': 'Data © OpenStreetMap contributors, ODbL 1.0. http://osm.org/copyright',\n",
    "         'osm_type': 'way',\n",
    "         'osm_id': 256656808,\n",
    "         'lat': '37.40253645',\n",
    "         'lon': '-122.1165510679842',\n",
    "         'class': 'building',\n",
    "         'type': 'commercial',\n",
    "         'place_rank': 30,\n",
    "         'importance': 9.99999999995449e-06,\n",
    "         'addresstype': 'building',\n",
    "         'name': 'Toyota Research Institute',\n",
    "         'display_name': 'Toyota Research Institute, 4440, West El Camino Real, Los Altos, Santa Clara County, California, 94022, United States',\n",
    "         'boundingbox': ['37.4021493', '37.4029503', '-122.1171370', '-122.1159999']\n",
    "    }\n",
    ")"
   ]
  },
  {
   "cell_type": "code",
   "execution_count": 5,
   "id": "c826fb81-687d-4c03-8d50-51ed383415c4",
   "metadata": {},
   "outputs": [],
   "source": [
    "start_lat_long = (start.latitude, start.longitude)\n",
    "start_long_lat = (start.longitude, start.latitude)"
   ]
  },
  {
   "cell_type": "code",
   "execution_count": 6,
   "id": "79bde4c8-5f5b-43b6-8723-5a6728ae37de",
   "metadata": {},
   "outputs": [
    {
     "data": {
      "application/vnd.jupyter.widget-view+json": {
       "model_id": "115d096c81c542669c39794fb5cacf0c",
       "version_major": 2,
       "version_minor": 0
      },
      "text/plain": [
       "Map(center=[37.40253645, -122.1165510679842], controls=(ZoomControl(options=['position', 'zoom_in_text', 'zoom…"
      ]
     },
     "execution_count": 6,
     "metadata": {},
     "output_type": "execute_result"
    }
   ],
   "source": [
    "startpoint_icon = AwesomeIcon(\n",
    "    name='home',\n",
    "    marker_color='green',\n",
    "    icon_color='black',\n",
    "    spin=False\n",
    ")\n",
    "\n",
    "center_map = Map(center=start_lat_long, zoom=15)\n",
    "\n",
    "startpoint_marker = Marker(location=start_lat_long, draggable=False, icon=startpoint_icon)\n",
    "center_map.add_control(startpoint_marker)\n",
    "center_map"
   ]
  },
  {
   "cell_type": "markdown",
   "id": "7175ebcc-ed2b-4d1a-acc7-cc2860910ee0",
   "metadata": {},
   "source": [
    "# Get Isochrones for Time or Distance"
   ]
  },
  {
   "cell_type": "code",
   "execution_count": 7,
   "id": "be9c721b-58e3-4cc4-9d4c-a1f4a066ea4d",
   "metadata": {},
   "outputs": [],
   "source": [
    "MPH_TO_KPH = 1.60934\n",
    "METERS_PER_MILE = 1609.34\n",
    "SEC_PER_MIN = 60"
   ]
  },
  {
   "cell_type": "code",
   "execution_count": 8,
   "id": "e351e373-309d-471d-a875-39a85b219bfa",
   "metadata": {},
   "outputs": [],
   "source": [
    "desired_round_trip_time_min = 25\n",
    "desired_round_trip_distance_miles = 1\n",
    "desired_speed = 2.5 * MPH_TO_KPH\n",
    "\n",
    "# https://valhalla.github.io/valhalla/api/turn-by-turn/api-reference/#pedestrian-costing-options\n",
    "walking_options = {\n",
    "    \"walking_speed\": desired_speed,\n",
    "\n",
    "    # higher value is higher cost (less favored)\n",
    "    \"walkway_factor\": 1,\n",
    "    \"sidewalk_factor\": 1,\n",
    "    \"alley_factor\": 2,\n",
    "    \"driveway_factor\": 5,\n",
    "    \"step_penalty\": 1,\n",
    "\n",
    "    # 0 to 1, where 1 is more favored\n",
    "    \"use_living_streets\": 0.6,\n",
    "    \"use_tracks\": 0.5,\n",
    "    \"use_hills\": 0.5,\n",
    "    \"use_lit\": 0\n",
    "}"
   ]
  },
  {
   "cell_type": "code",
   "execution_count": 9,
   "id": "be4f9292-5137-4405-a43a-87c838a5a949",
   "metadata": {},
   "outputs": [
    {
     "data": {
      "application/vnd.jupyter.widget-view+json": {
       "model_id": "68e4cb41625b4e1f90c53afbf676ccba",
       "version_major": 2,
       "version_minor": 0
      },
      "text/plain": [
       "Map(center=[37.40253645, -122.1165510679842], controls=(ZoomControl(options=['position', 'zoom_in_text', 'zoom…"
      ]
     },
     "execution_count": 9,
     "metadata": {},
     "output_type": "execute_result"
    }
   ],
   "source": [
    "isochrone_half = desired_round_trip_time_min * SEC_PER_MIN / 2\n",
    "equidistant_half = desired_round_trip_distance_miles * METERS_PER_MILE / 2\n",
    "\n",
    "halfway_isochrones = Valhalla('http://localhost:8002').isochrones(\n",
    "    locations=start_long_lat, \n",
    "    profile=\"pedestrian\",\n",
    "    units=\"mi\",\n",
    "    options=walking_options,\n",
    "    intervals=[isochrone_half],\n",
    "    # intervals=[equidistant_half],\n",
    "    interval_type=\"time\"\n",
    ")\n",
    "\n",
    "\n",
    "halfway_points = [(lat, long) for (long, lat) in halfway_isochrones[0].geometry]\n",
    "halfway_area = Polygon(\n",
    "    locations=halfway_points,\n",
    "    color=\"blue\",\n",
    "    fill_color=\"blue\"\n",
    ")\n",
    "\n",
    "halfway_map = Map(center=start_lat_long, zoom=15)\n",
    "halfway_map.add(halfway_area);\n",
    "halfway_map.add(startpoint_marker)\n",
    "halfway_map"
   ]
  },
  {
   "cell_type": "markdown",
   "id": "b611ecde-e13f-40f9-907d-99ddf9ac1894",
   "metadata": {},
   "source": [
    "# Pick a waypoint"
   ]
  },
  {
   "cell_type": "code",
   "execution_count": 10,
   "id": "4ce1ad65-5f59-4ed9-b14c-898c0fb3ce91",
   "metadata": {},
   "outputs": [
    {
     "data": {
      "application/vnd.jupyter.widget-view+json": {
       "model_id": "616a9396329d44bf831d61583db3aac5",
       "version_major": 2,
       "version_minor": 0
      },
      "text/plain": [
       "Map(center=[37.40253645, -122.1165510679842], controls=(ZoomControl(options=['position', 'zoom_in_text', 'zoom…"
      ]
     },
     "metadata": {},
     "output_type": "display_data"
    }
   ],
   "source": [
    "waypoint_icon = AwesomeIcon(\n",
    "    name='flag',\n",
    "    marker_color='red',\n",
    "    icon_color='black',\n",
    "    spin=False\n",
    ")\n",
    "waypoint_marker = Marker(location=start_lat_long, draggable=True, icon=waypoint_icon)\n",
    "routing_map = Map(center=start_lat_long, zoom=15)\n",
    "routing_map.add_control(startpoint_marker)\n",
    "routing_map.add_control(waypoint_marker)\n",
    "display(routing_map)\n",
    "\n",
    "all_instructions = []\n",
    "total_distance = 0 \n",
    "total_duration = 0\n",
    "all_geometry = []\n",
    "line = None\n",
    "popup = None"
   ]
  },
  {
   "cell_type": "markdown",
   "id": "ca830e0b-6dbd-4f62-b88a-0e3e898a8373",
   "metadata": {},
   "source": [
    "# Get a Route"
   ]
  },
  {
   "cell_type": "code",
   "execution_count": 11,
   "id": "initial_id",
   "metadata": {
    "ExecuteTime": {
     "end_time": "2024-05-28T21:20:51.132573Z",
     "start_time": "2024-05-28T21:20:51.055624Z"
    }
   },
   "outputs": [
    {
     "name": "stdout",
     "output_type": "stream",
     "text": [
      "Duration (minutes): 32.481700000000004\n",
      "Distance (miles): 1.345\n",
      "['Walk southeast. Continue for 174 feet',\n",
      " 'Make a sharp left. Continue for 42 feet',\n",
      " 'Turn right onto the walkway. Continue for 84 feet',\n",
      " 'Turn left. Continue for 15 feet',\n",
      " 'Turn right onto West El Camino Real/CA 82. Continue for 686 feet',\n",
      " 'Turn left onto San Antonio Road. Continue for 1874 feet',\n",
      " 'Turn left onto California Street. Continue for 828 feet',\n",
      " 'Turn right onto Del Medio Avenue. Continue for 586 feet',\n",
      " 'Your destination is on the right. Continue for 0 feet',\n",
      " 'Walk southwest on Del Medio Avenue. Continue for 2344 feet',\n",
      " 'Turn left onto West El Camino Real/CA 82. Continue for 179 feet',\n",
      " 'Turn right. Continue for 68 feet',\n",
      " 'Turn left. Continue for 195 feet',\n",
      " 'Your destination is on the right. Continue for 0 feet']\n"
     ]
    },
    {
     "data": {
      "application/vnd.jupyter.widget-view+json": {
       "model_id": "616a9396329d44bf831d61583db3aac5",
       "version_major": 2,
       "version_minor": 0
      },
      "text/plain": [
       "Map(center=[37.40253645, -122.1165510679842], controls=(ZoomControl(options=['position', 'zoom_in_text', 'zoom…"
      ]
     },
     "execution_count": 11,
     "metadata": {},
     "output_type": "execute_result"
    }
   ],
   "source": [
    "# random\n",
    "routing_map.remove(waypoint_marker)\n",
    "waypoint_lat_long = choice(halfway_points)\n",
    "waypoint_marker = Marker(location=waypoint_lat_long, draggable=True, icon=waypoint_icon)\n",
    "routing_map.add(waypoint_marker)\n",
    "\n",
    "# # from choice\n",
    "# waypoint_lat_long = waypoint_marker.location\n",
    "\n",
    "if line:\n",
    "    routing_map.remove(line)\n",
    "if popup:\n",
    "    routing_map.remove(popup)\n",
    "\n",
    "waypoint_long_lat = waypoint_lat_long[1], waypoint_lat_long[0]\n",
    "\n",
    "#six degrees of precision in valhalla\n",
    "inv = 1.0 / 1e6;\n",
    "\n",
    "#decode an encoded string\n",
    "def decode_shape(encoded):\n",
    "  decoded = []\n",
    "  previous = [0,0]\n",
    "  i = 0\n",
    "  #for each byte\n",
    "  while i < len(encoded):\n",
    "    #for each coord (lat, lon)\n",
    "    ll = [0,0]\n",
    "    for j in [0, 1]:\n",
    "      shift = 0\n",
    "      byte = 0x20\n",
    "      #keep decoding bytes until you have this coord\n",
    "      while byte >= 0x20:\n",
    "        byte = ord(encoded[i]) - 63\n",
    "        i += 1\n",
    "        ll[j] |= (byte & 0x1f) << shift\n",
    "        shift += 5\n",
    "      #get the final value adding the previous offset and remember it for the next\n",
    "      ll[j] = previous[j] + (~(ll[j] >> 1) if ll[j] & 1 else (ll[j] >> 1))\n",
    "      previous[j] = ll[j]\n",
    "    #scale by the precision and chop off long coords also flip the positions so\n",
    "    #its the far more standard lon,lat instead of lat,lon\n",
    "    decoded.append([float('%.6f' % (ll[1] * inv)), float('%.6f' % (ll[0] * inv))])\n",
    "  #hand back the list of coordinates\n",
    "  return decoded\n",
    "\n",
    "def get_directions(long_lat_1, long_lat_2):\n",
    "    directions = Valhalla('http://localhost:8002').directions(\n",
    "        locations=[long_lat_1, long_lat_2], \n",
    "        profile=\"pedestrian\",\n",
    "        units=\"mi\",\n",
    "        options=walking_options,\n",
    "        instructions=True,\n",
    "        alternates=2,\n",
    "    )\n",
    "    if \"alternates\" in directions.raw:\n",
    "        raw_trip = directions.raw[\"alternates\"][0][\"trip\"]\n",
    "    else:\n",
    "        raw_trip = directions.raw[\"trip\"]\n",
    "        \n",
    "    instructions = [f\"{m['instruction']} Continue for {int(m['length'] * 5280)} feet\" for m in raw_trip[\"legs\"][0][\"maneuvers\"]]\n",
    "    distance = raw_trip[\"summary\"][\"length\"]\n",
    "    duration = raw_trip[\"summary\"][\"time\"] / 60\n",
    "    geometry = decode_shape(raw_trip[\"legs\"][0][\"shape\"])\n",
    "    return instructions, distance, duration, geometry\n",
    "\n",
    "all_instructions = []\n",
    "total_distance = 0 \n",
    "total_duration = 0\n",
    "all_geometry = []\n",
    "instructions, distance, duration, geometry = get_directions(start_long_lat, waypoint_long_lat)\n",
    "all_instructions.extend(instructions)\n",
    "total_distance += distance\n",
    "total_duration += duration\n",
    "all_geometry.extend(geometry)\n",
    "instructions, distance, duration, geometry = get_directions(waypoint_long_lat, start_long_lat)\n",
    "all_instructions.extend(instructions)\n",
    "total_distance += distance\n",
    "total_duration += duration\n",
    "all_geometry.extend(geometry)\n",
    "\n",
    "locations = [(lat, long) for (long, lat) in all_geometry]\n",
    "line = Polyline(\n",
    "    locations=locations,\n",
    "    color=\"green\" ,\n",
    "    fill=False\n",
    ")\n",
    "\n",
    "routing_map.add(line)\n",
    "\n",
    "print(\"Duration (minutes):\", total_duration)\n",
    "print(\"Distance (miles):\", total_distance)\n",
    "pprint(all_instructions)\n",
    "\n",
    "message = HTML()\n",
    "message.value = f\"{int(total_duration)} minutes; {total_distance} miles\"\n",
    "\n",
    "# Popup with a given location on the map:\n",
    "popup = Popup(\n",
    "    location=waypoint_lat_long,\n",
    "    child=message,\n",
    "    close_button=True,\n",
    "    auto_close=False,\n",
    "    close_on_escape_key=True\n",
    ")\n",
    "routing_map.add(popup)\n"
   ]
  },
  {
   "cell_type": "code",
   "execution_count": null,
   "id": "7fbb44ec-74da-4749-873f-7dc816d53dd2",
   "metadata": {},
   "outputs": [],
   "source": []
  }
 ],
 "metadata": {
  "kernelspec": {
   "display_name": "Python 3 (ipykernel)",
   "language": "python",
   "name": "python3"
  },
  "language_info": {
   "codemirror_mode": {
    "name": "ipython",
    "version": 3
   },
   "file_extension": ".py",
   "mimetype": "text/x-python",
   "name": "python",
   "nbconvert_exporter": "python",
   "pygments_lexer": "ipython3",
   "version": "3.11.9"
  }
 },
 "nbformat": 4,
 "nbformat_minor": 5
}
